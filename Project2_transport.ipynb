{
  "cells": [
    {
      "cell_type": "markdown",
      "metadata": {
        "id": "hcuOr7mlsR2j"
      },
      "source": [
        "<a href=\"https://colab.research.google.com/github/johnryantaylor/QCES/blob/main/Project2_transport.ipynb\" target=\"_parent\"><img src=\"https://colab.research.google.com/assets/colab-badge.svg\" alt=\"Open In Colab\"/></a>"
      ]
    },
    {
      "cell_type": "markdown",
      "metadata": {
        "id": "Q3BLdR5RsR2l"
      },
      "source": [
        "# Project 2: Tracer transport\n",
        "\n",
        "A critical aspect of understanding climate and environmental systems is describing the movement of substances. This could include pollution or water vapor in the atmosphere, salt in an estuary, or chemicals in a river. We often model the transport of these substances using an advection/diffusion equation for the concentration of the substance. In this context, we sometimes refer to the concentration field as a `tracer' since it helps us track the movement of individual molecules. We can also use this framework to describe the transport of heat, although in this case the tracer field (temperature or heat content) tracks the movement of thermal energy.\n",
        "\n",
        "In this project we will use Dedalus to solve advection diffusion equations to describe the vertical distribution of heat in the ocean and the concentration of pollution in a river.\n",
        "\n",
        "Student tasks are in [Section 1.4](#section1pt4), [Section 1.6](#section1pt6), and [Section 2.3](#section2pt3)"
      ]
    },
    {
      "cell_type": "markdown",
      "metadata": {
        "id": "rdvqvpYmsR2l"
      },
      "source": [
        "## Setup\n",
        "If you are using Google colab, run the script below to install Dedalus"
      ]
    },
    {
      "cell_type": "code",
      "execution_count": 1,
      "metadata": {
        "id": "nmACyjaXsR2m",
        "outputId": "ebfd7896-f44f-4ef7-d07c-d4c26eb3996f",
        "colab": {
          "base_uri": "https://localhost:8080/"
        }
      },
      "outputs": [
        {
          "output_type": "stream",
          "name": "stdout",
          "text": [
            "env: OMP_NUM_THREADS=1\n",
            "env: NUMEXPR_MAX_THREADS=1\n",
            "Dedalus not installed yet.\n",
            "Installing for Google Colab.\n",
            "\n",
            "Reading package lists... Done\n",
            "Building dependency tree... Done\n",
            "Reading state information... Done\n",
            "The following additional packages will be installed:\n",
            "  libfftw3-bin libfftw3-double3 libfftw3-long3 libfftw3-quad3 libfftw3-single3\n",
            "Suggested packages:\n",
            "  libfftw3-doc\n",
            "The following NEW packages will be installed:\n",
            "  libfftw3-bin libfftw3-dev libfftw3-double3 libfftw3-long3 libfftw3-quad3 libfftw3-single3\n",
            "0 upgraded, 6 newly installed, 0 to remove and 49 not upgraded.\n",
            "Need to get 4,654 kB of archives.\n",
            "After this operation, 24.7 MB of additional disk space will be used.\n",
            "Get:1 http://archive.ubuntu.com/ubuntu jammy/main amd64 libfftw3-double3 amd64 3.3.8-2ubuntu8 [770 kB]\n",
            "Get:2 http://archive.ubuntu.com/ubuntu jammy/main amd64 libfftw3-long3 amd64 3.3.8-2ubuntu8 [335 kB]\n",
            "Get:3 http://archive.ubuntu.com/ubuntu jammy/main amd64 libfftw3-quad3 amd64 3.3.8-2ubuntu8 [614 kB]\n",
            "Get:4 http://archive.ubuntu.com/ubuntu jammy/main amd64 libfftw3-single3 amd64 3.3.8-2ubuntu8 [800 kB]\n",
            "Get:5 http://archive.ubuntu.com/ubuntu jammy/main amd64 libfftw3-bin amd64 3.3.8-2ubuntu8 [35.5 kB]\n",
            "Get:6 http://archive.ubuntu.com/ubuntu jammy/main amd64 libfftw3-dev amd64 3.3.8-2ubuntu8 [2,101 kB]\n",
            "Fetched 4,654 kB in 1s (4,393 kB/s)\n",
            "Selecting previously unselected package libfftw3-double3:amd64.\n",
            "(Reading database ... 123632 files and directories currently installed.)\n",
            "Preparing to unpack .../0-libfftw3-double3_3.3.8-2ubuntu8_amd64.deb ...\n",
            "Unpacking libfftw3-double3:amd64 (3.3.8-2ubuntu8) ...\n",
            "Selecting previously unselected package libfftw3-long3:amd64.\n",
            "Preparing to unpack .../1-libfftw3-long3_3.3.8-2ubuntu8_amd64.deb ...\n",
            "Unpacking libfftw3-long3:amd64 (3.3.8-2ubuntu8) ...\n",
            "Selecting previously unselected package libfftw3-quad3:amd64.\n",
            "Preparing to unpack .../2-libfftw3-quad3_3.3.8-2ubuntu8_amd64.deb ...\n",
            "Unpacking libfftw3-quad3:amd64 (3.3.8-2ubuntu8) ...\n",
            "Selecting previously unselected package libfftw3-single3:amd64.\n",
            "Preparing to unpack .../3-libfftw3-single3_3.3.8-2ubuntu8_amd64.deb ...\n",
            "Unpacking libfftw3-single3:amd64 (3.3.8-2ubuntu8) ...\n",
            "Selecting previously unselected package libfftw3-bin.\n",
            "Preparing to unpack .../4-libfftw3-bin_3.3.8-2ubuntu8_amd64.deb ...\n",
            "Unpacking libfftw3-bin (3.3.8-2ubuntu8) ...\n",
            "Selecting previously unselected package libfftw3-dev:amd64.\n",
            "Preparing to unpack .../5-libfftw3-dev_3.3.8-2ubuntu8_amd64.deb ...\n",
            "Unpacking libfftw3-dev:amd64 (3.3.8-2ubuntu8) ...\n",
            "Setting up libfftw3-single3:amd64 (3.3.8-2ubuntu8) ...\n",
            "Setting up libfftw3-long3:amd64 (3.3.8-2ubuntu8) ...\n",
            "Setting up libfftw3-quad3:amd64 (3.3.8-2ubuntu8) ...\n",
            "Setting up libfftw3-double3:amd64 (3.3.8-2ubuntu8) ...\n",
            "Setting up libfftw3-bin (3.3.8-2ubuntu8) ...\n",
            "Setting up libfftw3-dev:amd64 (3.3.8-2ubuntu8) ...\n",
            "Processing triggers for man-db (2.10.2-1) ...\n",
            "Processing triggers for libc-bin (2.35-0ubuntu3.4) ...\n",
            "/sbin/ldconfig.real: /usr/local/lib/libtbbbind_2_0.so.3 is not a symbolic link\n",
            "\n",
            "/sbin/ldconfig.real: /usr/local/lib/libtbbmalloc_proxy.so.2 is not a symbolic link\n",
            "\n",
            "/sbin/ldconfig.real: /usr/local/lib/libtbbbind_2_5.so.3 is not a symbolic link\n",
            "\n",
            "/sbin/ldconfig.real: /usr/local/lib/libumf.so.0 is not a symbolic link\n",
            "\n",
            "/sbin/ldconfig.real: /usr/local/lib/libur_adapter_level_zero.so.0 is not a symbolic link\n",
            "\n",
            "/sbin/ldconfig.real: /usr/local/lib/libur_loader.so.0 is not a symbolic link\n",
            "\n",
            "/sbin/ldconfig.real: /usr/local/lib/libtbb.so.12 is not a symbolic link\n",
            "\n",
            "/sbin/ldconfig.real: /usr/local/lib/libtcm_debug.so.1 is not a symbolic link\n",
            "\n",
            "/sbin/ldconfig.real: /usr/local/lib/libtbbmalloc.so.2 is not a symbolic link\n",
            "\n",
            "/sbin/ldconfig.real: /usr/local/lib/libhwloc.so.15 is not a symbolic link\n",
            "\n",
            "/sbin/ldconfig.real: /usr/local/lib/libtcm.so.1 is not a symbolic link\n",
            "\n",
            "/sbin/ldconfig.real: /usr/local/lib/libtbbbind.so.3 is not a symbolic link\n",
            "\n",
            "/sbin/ldconfig.real: /usr/local/lib/libur_adapter_opencl.so.0 is not a symbolic link\n",
            "\n",
            "Reading package lists... Done\n",
            "Building dependency tree... Done\n",
            "Reading state information... Done\n",
            "The following additional packages will be installed:\n",
            "  libfftw3-mpi3\n",
            "Suggested packages:\n",
            "  libfftw3-doc\n",
            "The following NEW packages will be installed:\n",
            "  libfftw3-mpi-dev libfftw3-mpi3\n",
            "0 upgraded, 2 newly installed, 0 to remove and 49 not upgraded.\n",
            "Need to get 102 kB of archives.\n",
            "After this operation, 1,052 kB of additional disk space will be used.\n",
            "Get:1 http://archive.ubuntu.com/ubuntu jammy/universe amd64 libfftw3-mpi3 amd64 3.3.8-2ubuntu8 [48.9 kB]\n",
            "Get:2 http://archive.ubuntu.com/ubuntu jammy/universe amd64 libfftw3-mpi-dev amd64 3.3.8-2ubuntu8 [53.3 kB]\n",
            "Fetched 102 kB in 0s (240 kB/s)\n",
            "Selecting previously unselected package libfftw3-mpi3:amd64.\n",
            "(Reading database ... 123735 files and directories currently installed.)\n",
            "Preparing to unpack .../libfftw3-mpi3_3.3.8-2ubuntu8_amd64.deb ...\n",
            "Unpacking libfftw3-mpi3:amd64 (3.3.8-2ubuntu8) ...\n",
            "Selecting previously unselected package libfftw3-mpi-dev:amd64.\n",
            "Preparing to unpack .../libfftw3-mpi-dev_3.3.8-2ubuntu8_amd64.deb ...\n",
            "Unpacking libfftw3-mpi-dev:amd64 (3.3.8-2ubuntu8) ...\n",
            "Setting up libfftw3-mpi3:amd64 (3.3.8-2ubuntu8) ...\n",
            "Setting up libfftw3-mpi-dev:amd64 (3.3.8-2ubuntu8) ...\n",
            "Processing triggers for libc-bin (2.35-0ubuntu3.4) ...\n",
            "/sbin/ldconfig.real: /usr/local/lib/libtbbbind_2_0.so.3 is not a symbolic link\n",
            "\n",
            "/sbin/ldconfig.real: /usr/local/lib/libtbbmalloc_proxy.so.2 is not a symbolic link\n",
            "\n",
            "/sbin/ldconfig.real: /usr/local/lib/libtbbbind_2_5.so.3 is not a symbolic link\n",
            "\n",
            "/sbin/ldconfig.real: /usr/local/lib/libumf.so.0 is not a symbolic link\n",
            "\n",
            "/sbin/ldconfig.real: /usr/local/lib/libur_adapter_level_zero.so.0 is not a symbolic link\n",
            "\n",
            "/sbin/ldconfig.real: /usr/local/lib/libur_loader.so.0 is not a symbolic link\n",
            "\n",
            "/sbin/ldconfig.real: /usr/local/lib/libtbb.so.12 is not a symbolic link\n",
            "\n",
            "/sbin/ldconfig.real: /usr/local/lib/libtcm_debug.so.1 is not a symbolic link\n",
            "\n",
            "/sbin/ldconfig.real: /usr/local/lib/libtbbmalloc.so.2 is not a symbolic link\n",
            "\n",
            "/sbin/ldconfig.real: /usr/local/lib/libhwloc.so.15 is not a symbolic link\n",
            "\n",
            "/sbin/ldconfig.real: /usr/local/lib/libtcm.so.1 is not a symbolic link\n",
            "\n",
            "/sbin/ldconfig.real: /usr/local/lib/libtbbbind.so.3 is not a symbolic link\n",
            "\n",
            "/sbin/ldconfig.real: /usr/local/lib/libur_adapter_opencl.so.0 is not a symbolic link\n",
            "\n",
            "Requirement already satisfied: cython in /usr/local/lib/python3.10/dist-packages (3.0.11)\n",
            "Collecting mpi4py<4.0\n",
            "  Downloading mpi4py-3.1.6.tar.gz (2.4 MB)\n",
            "\u001b[2K     \u001b[90m━━━━━━━━━━━━━━━━━━━━━━━━━━━━━━━━━━━━━━━━\u001b[0m \u001b[32m2.4/2.4 MB\u001b[0m \u001b[31m19.8 MB/s\u001b[0m eta \u001b[36m0:00:00\u001b[0m\n",
            "\u001b[?25h  Installing build dependencies ... \u001b[?25l\u001b[?25hdone\n",
            "  Getting requirements to build wheel ... \u001b[?25l\u001b[?25hdone\n",
            "  Preparing metadata (pyproject.toml) ... \u001b[?25l\u001b[?25hdone\n",
            "Requirement already satisfied: numpy in /usr/local/lib/python3.10/dist-packages (1.26.4)\n",
            "Requirement already satisfied: setuptools in /usr/local/lib/python3.10/dist-packages (75.1.0)\n",
            "Requirement already satisfied: wheel in /usr/local/lib/python3.10/dist-packages (0.45.0)\n",
            "Building wheels for collected packages: mpi4py\n",
            "  Building wheel for mpi4py (pyproject.toml) ... \u001b[?25l\u001b[?25hdone\n",
            "  Created wheel for mpi4py: filename=mpi4py-3.1.6-cp310-cp310-linux_x86_64.whl size=2746305 sha256=50222aa10c6ff0d501cf20360771c221c5eb8622a7c67d89e4f92cf6ee1f280e\n",
            "  Stored in directory: /root/.cache/pip/wheels/4c/ca/89/8fc1fb1c620afca13bb41c630b1f948bbf446e0aaa4b762e10\n",
            "Successfully built mpi4py\n",
            "Installing collected packages: mpi4py\n",
            "Successfully installed mpi4py-3.1.6\n",
            "Collecting http://github.com/dedalusproject/dedalus/zipball/master/\n",
            "  Downloading http://github.com/dedalusproject/dedalus/zipball/master/\n",
            "\u001b[2K     \u001b[32m/\u001b[0m \u001b[32m24.5 MB\u001b[0m \u001b[31m26.6 MB/s\u001b[0m \u001b[33m0:00:00\u001b[0m\n",
            "\u001b[?25h  Preparing metadata (pyproject.toml) ... \u001b[?25l\u001b[?25hdone\n",
            "Collecting docopt (from dedalus==3.0.3)\n",
            "  Downloading docopt-0.6.2.tar.gz (25 kB)\n",
            "  Preparing metadata (setup.py) ... \u001b[?25l\u001b[?25hdone\n",
            "Requirement already satisfied: h5py>=3.0.0 in /usr/local/lib/python3.10/dist-packages (from dedalus==3.0.3) (3.12.1)\n",
            "Requirement already satisfied: matplotlib in /usr/local/lib/python3.10/dist-packages (from dedalus==3.0.3) (3.8.0)\n",
            "Requirement already satisfied: mpi4py>=2.0.0 in /usr/local/lib/python3.10/dist-packages (from dedalus==3.0.3) (3.1.6)\n",
            "Requirement already satisfied: numexpr in /usr/local/lib/python3.10/dist-packages (from dedalus==3.0.3) (2.10.1)\n",
            "Requirement already satisfied: numpy>=1.20.0 in /usr/local/lib/python3.10/dist-packages (from dedalus==3.0.3) (1.26.4)\n",
            "Collecting py (from dedalus==3.0.3)\n",
            "  Downloading py-1.11.0-py2.py3-none-any.whl.metadata (2.8 kB)\n",
            "Requirement already satisfied: pytest in /usr/local/lib/python3.10/dist-packages (from dedalus==3.0.3) (8.3.3)\n",
            "Collecting pytest-benchmark (from dedalus==3.0.3)\n",
            "  Downloading pytest_benchmark-5.1.0-py3-none-any.whl.metadata (25 kB)\n",
            "Collecting pytest-cov (from dedalus==3.0.3)\n",
            "  Downloading pytest_cov-6.0.0-py3-none-any.whl.metadata (27 kB)\n",
            "Collecting pytest-parallel (from dedalus==3.0.3)\n",
            "  Downloading pytest_parallel-0.1.1-py3-none-any.whl.metadata (3.0 kB)\n",
            "Requirement already satisfied: scipy>=1.4.0 in /usr/local/lib/python3.10/dist-packages (from dedalus==3.0.3) (1.13.1)\n",
            "Requirement already satisfied: xarray in /usr/local/lib/python3.10/dist-packages (from dedalus==3.0.3) (2024.10.0)\n",
            "Requirement already satisfied: contourpy>=1.0.1 in /usr/local/lib/python3.10/dist-packages (from matplotlib->dedalus==3.0.3) (1.3.1)\n",
            "Requirement already satisfied: cycler>=0.10 in /usr/local/lib/python3.10/dist-packages (from matplotlib->dedalus==3.0.3) (0.12.1)\n",
            "Requirement already satisfied: fonttools>=4.22.0 in /usr/local/lib/python3.10/dist-packages (from matplotlib->dedalus==3.0.3) (4.55.0)\n",
            "Requirement already satisfied: kiwisolver>=1.0.1 in /usr/local/lib/python3.10/dist-packages (from matplotlib->dedalus==3.0.3) (1.4.7)\n",
            "Requirement already satisfied: packaging>=20.0 in /usr/local/lib/python3.10/dist-packages (from matplotlib->dedalus==3.0.3) (24.2)\n",
            "Requirement already satisfied: pillow>=6.2.0 in /usr/local/lib/python3.10/dist-packages (from matplotlib->dedalus==3.0.3) (11.0.0)\n",
            "Requirement already satisfied: pyparsing>=2.3.1 in /usr/local/lib/python3.10/dist-packages (from matplotlib->dedalus==3.0.3) (3.2.0)\n",
            "Requirement already satisfied: python-dateutil>=2.7 in /usr/local/lib/python3.10/dist-packages (from matplotlib->dedalus==3.0.3) (2.8.2)\n",
            "Requirement already satisfied: iniconfig in /usr/local/lib/python3.10/dist-packages (from pytest->dedalus==3.0.3) (2.0.0)\n",
            "Requirement already satisfied: pluggy<2,>=1.5 in /usr/local/lib/python3.10/dist-packages (from pytest->dedalus==3.0.3) (1.5.0)\n",
            "Requirement already satisfied: exceptiongroup>=1.0.0rc8 in /usr/local/lib/python3.10/dist-packages (from pytest->dedalus==3.0.3) (1.2.2)\n",
            "Requirement already satisfied: tomli>=1 in /usr/local/lib/python3.10/dist-packages (from pytest->dedalus==3.0.3) (2.1.0)\n",
            "Requirement already satisfied: py-cpuinfo in /usr/local/lib/python3.10/dist-packages (from pytest-benchmark->dedalus==3.0.3) (9.0.0)\n",
            "Collecting coverage>=7.5 (from coverage[toml]>=7.5->pytest-cov->dedalus==3.0.3)\n",
            "  Downloading coverage-7.6.8-cp310-cp310-manylinux_2_5_x86_64.manylinux1_x86_64.manylinux_2_17_x86_64.manylinux2014_x86_64.whl.metadata (8.2 kB)\n",
            "Collecting tblib (from pytest-parallel->dedalus==3.0.3)\n",
            "  Downloading tblib-3.0.0-py3-none-any.whl.metadata (25 kB)\n",
            "Requirement already satisfied: pandas>=2.1 in /usr/local/lib/python3.10/dist-packages (from xarray->dedalus==3.0.3) (2.2.2)\n",
            "Requirement already satisfied: pytz>=2020.1 in /usr/local/lib/python3.10/dist-packages (from pandas>=2.1->xarray->dedalus==3.0.3) (2024.2)\n",
            "Requirement already satisfied: tzdata>=2022.7 in /usr/local/lib/python3.10/dist-packages (from pandas>=2.1->xarray->dedalus==3.0.3) (2024.2)\n",
            "Requirement already satisfied: six>=1.5 in /usr/local/lib/python3.10/dist-packages (from python-dateutil>=2.7->matplotlib->dedalus==3.0.3) (1.16.0)\n",
            "Downloading py-1.11.0-py2.py3-none-any.whl (98 kB)\n",
            "\u001b[2K   \u001b[90m━━━━━━━━━━━━━━━━━━━━━━━━━━━━━━━━━━━━━━━━\u001b[0m \u001b[32m98.7/98.7 kB\u001b[0m \u001b[31m5.1 MB/s\u001b[0m eta \u001b[36m0:00:00\u001b[0m\n",
            "\u001b[?25hDownloading pytest_benchmark-5.1.0-py3-none-any.whl (44 kB)\n",
            "\u001b[2K   \u001b[90m━━━━━━━━━━━━━━━━━━━━━━━━━━━━━━━━━━━━━━━━\u001b[0m \u001b[32m44.3/44.3 kB\u001b[0m \u001b[31m166.1 MB/s\u001b[0m eta \u001b[36m0:00:00\u001b[0m\n",
            "\u001b[?25hDownloading pytest_cov-6.0.0-py3-none-any.whl (22 kB)\n",
            "Downloading pytest_parallel-0.1.1-py3-none-any.whl (7.0 kB)\n",
            "Downloading coverage-7.6.8-cp310-cp310-manylinux_2_5_x86_64.manylinux1_x86_64.manylinux_2_17_x86_64.manylinux2014_x86_64.whl (234 kB)\n",
            "\u001b[2K   \u001b[90m━━━━━━━━━━━━━━━━━━━━━━━━━━━━━━━━━━━━━━━━\u001b[0m \u001b[32m234.9/234.9 kB\u001b[0m \u001b[31m16.1 MB/s\u001b[0m eta \u001b[36m0:00:00\u001b[0m\n",
            "\u001b[?25hDownloading tblib-3.0.0-py3-none-any.whl (12 kB)\n",
            "Building wheels for collected packages: dedalus, docopt\n",
            "  Building wheel for dedalus (pyproject.toml) ... \u001b[?25l\u001b[?25hdone\n",
            "  Created wheel for dedalus: filename=dedalus-3.0.3-cp310-cp310-linux_x86_64.whl size=3260876 sha256=4071267db023b1ded67f33e704e9f133e7de0e3a1178e29d0f08bbbc195f6193\n",
            "  Stored in directory: /tmp/pip-ephem-wheel-cache-284_56aj/wheels/2c/16/80/8c5f40fc4de8dc37ba4cdd4e05d7639677a5f0659c3bbd79a7\n",
            "  Building wheel for docopt (setup.py) ... \u001b[?25l\u001b[?25hdone\n",
            "  Created wheel for docopt: filename=docopt-0.6.2-py2.py3-none-any.whl size=13706 sha256=9af1f66da55539d45a3ea1747978f0d693c4873743813de075d365148b41132d\n",
            "  Stored in directory: /tmp/pip-ephem-wheel-cache-284_56aj/wheels/fc/ab/d4/5da2067ac95b36618c629a5f93f809425700506f72c9732fac\n",
            "Successfully built dedalus docopt\n",
            "Installing collected packages: docopt, tblib, py, coverage, pytest-parallel, pytest-benchmark, pytest-cov, dedalus\n",
            "Successfully installed coverage-7.6.8 dedalus-3.0.3 docopt-0.6.2 py-1.11.0 pytest-benchmark-5.1.0 pytest-cov-6.0.0 pytest-parallel-0.1.1 tblib-3.0.0\n",
            "\u001b[2K   \u001b[90m━━━━━━━━━━━━━━━━━━━━━━━━━━━━━━━━━━━━━━━━\u001b[0m \u001b[32m516.3/516.3 kB\u001b[0m \u001b[31m8.1 MB/s\u001b[0m eta \u001b[36m0:00:00\u001b[0m\n",
            "\u001b[2K   \u001b[90m━━━━━━━━━━━━━━━━━━━━━━━━━━━━━━━━━━━━━━━━\u001b[0m \u001b[32m1.6/1.6 MB\u001b[0m \u001b[31m42.3 MB/s\u001b[0m eta \u001b[36m0:00:00\u001b[0m\n",
            "\u001b[?25h\n",
            "Dedalus successfully installed :)\n"
          ]
        }
      ],
      "source": [
        "# Set environment variables for best performance\n",
        "%env OMP_NUM_THREADS=1\n",
        "%env NUMEXPR_MAX_THREADS=1\n",
        "\n",
        "# Minimize logging output\n",
        "import logging\n",
        "logging.disable(logging.DEBUG)\n",
        "\n",
        "# Check if running on google colab\n",
        "import os\n",
        "using_google_colab = bool(os.getenv(\"COLAB_RELEASE_TAG\"))\n",
        "\n",
        "# Check for Dedalus\n",
        "try:\n",
        "    import dedalus.public as de\n",
        "    print(\"Dedalus already installed :)\")\n",
        "except:\n",
        "    print(\"Dedalus not installed yet.\")\n",
        "    if using_google_colab:\n",
        "        print(\"Installing for Google Colab.\")\n",
        "        print()\n",
        "        # Step 1: Install FFTW\n",
        "        !apt-get install libfftw3-dev\n",
        "        !apt-get install libfftw3-mpi-dev\n",
        "        # Step 2: Set paths for Dedalus installation\n",
        "        import os\n",
        "        os.environ['MPI_INCLUDE_PATH'] = \"/usr/lib/x86_64-linux-gnu/openmpi/include\"\n",
        "        os.environ['MPI_LIBRARY_PATH'] = \"/usr/lib/x86_64-linux-gnu\"\n",
        "        os.environ['FFTW_INCLUDE_PATH'] = \"/usr/include\"\n",
        "        os.environ['FFTW_LIBRARY_PATH'] = \"/usr/lib/x86_64-linux-gnu\"\n",
        "        # Step 3: Install Dedalus using pip\n",
        "        !pip3 install cython \"mpi4py<4.0\" numpy setuptools wheel\n",
        "        !CC=mpicc pip3 install --no-cache --no-build-isolation http://github.com/dedalusproject/dedalus/zipball/master/\n",
        "        !pip3 install -q ipympl\n",
        "        # Step 4: Check installation\n",
        "        print()\n",
        "        try:\n",
        "            import dedalus.public as de\n",
        "            print(\"Dedalus successfully installed :)\")\n",
        "        except:\n",
        "            print(\"Error installing Dedalus :(\")\n",
        "            raise\n",
        "    else:\n",
        "        print(\"See website for installation instructions:\")\n",
        "        print(\"https://dedalus-project.readthedocs.io/en/latest/pages/installation.html\")\n",
        "\n",
        "# Setup interactive matplotlib\n",
        "if using_google_colab:\n",
        "    from google.colab import output\n",
        "    output.enable_custom_widget_manager()"
      ]
    },
    {
      "cell_type": "markdown",
      "metadata": {
        "id": "Py2GW4LFsR2n"
      },
      "source": [
        "## 1. Thermal structure in the ocean\n",
        "\n",
        "Most of the ocean has a stable thermal stratification with warm water at the surface and cold water in the abyss (exceptions occur in salt-stratified waters like the Arctic Ocean). Since the ocean is a massive thermal reservoir, understanding the distribution of this heat is important to quantifying the ocean's role in a changing climate. The structure of the temperature field can also inform us about the circulation in the ocean interior.\n"
      ]
    },
    {
      "cell_type": "markdown",
      "metadata": {
        "id": "VaLOr7bPsR2n"
      },
      "source": [
        "### 1.1 Measured temperature profile\n",
        "\n",
        "The code below plots a sample temperature profile obtained off the coast of California. The data was obtained by digitizing Figure 3 in Munk, 1966."
      ]
    },
    {
      "cell_type": "code",
      "execution_count": 2,
      "metadata": {
        "id": "TLYF9uL5sR2n",
        "outputId": "09dd9a4f-c488-4879-fced-4f0387eb6e64",
        "colab": {
          "base_uri": "https://localhost:8080/",
          "height": 466
        }
      },
      "outputs": [
        {
          "output_type": "execute_result",
          "data": {
            "text/plain": [
              "Text(0, 0.5, 'Depth (m)')"
            ]
          },
          "metadata": {},
          "execution_count": 2
        },
        {
          "output_type": "display_data",
          "data": {
            "text/plain": [
              "<Figure size 640x480 with 1 Axes>"
            ],
            "image/png": "[encoded data removed]"
          },
          "metadata": {}
        }
      ],
      "source": [
        "import matplotlib.pyplot as plt\n",
        "\n",
        "# Temperature measurements extracted from Figure 3 in Munk, 1966\n",
        "CTD_T = [1.1296296296296295, 1.122004357298475, 1.1143790849673203, 1.1067538126361656, 1.1143790849673203, 1.1143790849673203, 1.1372549019607843, 1.122004357298475, 1.1372549019607843, 1.1525054466230937, 1.2287581699346406, 1.2745098039215685, 1.343137254901961, 1.4041394335511983, 1.526143790849673, 1.6405228758169934, 1.8997821350762527, 2.242919389978214, 2.69281045751634, 3.104575163398693, 3.104575163398693, 3.218954248366013, 3.4324618736383443, 3.8289760348583877, 4.042483660130719, 4.438997821350762]\n",
        "CTD_z = [-4976.958525345623, -4869.431643625192, -4677.419354838709, -4470.046082949309, -4270.353302611367, -4070.6605222734256, -3932.411674347158, -3786.4823348694317, -3586.78955453149, -3394.7772657450078, -3195.084485407066, -2995.3917050691243, -2803.379416282642, -2580.6451612903224, -2350.230414746544, -2112.1351766513058, -1843.3179723502303, -1597.5422427035332, -1344.0860215053763, -1144.3932411674346, -1144.3932411674346, -1121.351766513057, -990.7834101382491, -821.8125960061443, -698.9247311827958, -583.7173579109067]\n",
        "\n",
        "plt.scatter(CTD_T,CTD_z,s=10)\n",
        "plt.xlabel('T (ºC)')\n",
        "plt.ylabel('Depth (m)')\n"
      ]
    },
    {
      "cell_type": "markdown",
      "metadata": {
        "id": "fziXtSQisR2o"
      },
      "source": [
        "### 1.2 Abyssal recipes\n",
        "\n",
        "Munk (1966) proposed that the thermal structure of the ocean interior is set by a balance between upwelling and diffusion. In this view, cold waters sink near the poles and spread across the seafloor before slowly rising through the ocean interior. If we assume, as Munk did, that the water upwells uniformly across the globe, the upwelling speed is approximately $10^{-7}$ m/s. This is far too small to directly measure, but it is large enough to have a major impact on the distribution of tracers. Since light can only penetrate through the top ~100m of ocean, we can ignore solar heating, except in that it sets the temperature near the ocean surface."
      ]
    },
    {
      "cell_type": "markdown",
      "metadata": {
        "id": "dw_QwufisR2o"
      },
      "source": [
        "### 1.3 Steady advection/diffusion equation\n",
        "\n",
        "Dedalus can solve differential equations in various forms. In addition to time-dependent initial value problems (IVPs), Dedalus can solve linear and nonlinear boundary value problems. The code below uses Dedalus to solve a linear boundary value problem (IVBP) for the steady state advection/diffusion equation.\n",
        "\n",
        "Here, the top and bottom temperature are set from the measured profile and these are used as boundary conditions. The vertical (upwelling) velocity is set to $10^{-7} m/s$, and the diffusivity is set to $10^{-7}$ $m^2/s$, to approximate the molecular diffusivity of heat in seawater."
      ]
    },
    {
      "cell_type": "code",
      "execution_count": 3,
      "metadata": {
        "id": "Aw7QTQLjsR2o",
        "outputId": "fda0d107-8a15-4683-bcee-644f0866e31b",
        "colab": {
          "base_uri": "https://localhost:8080/",
          "height": 440
        }
      },
      "outputs": [
        {
          "output_type": "stream",
          "name": "stderr",
          "text": [
            "INFO:subsystems:Building subproblem matrices 1/1 (~100%) Elapsed: 0s, Remaining: 0s, Rate: 6.0e+00/s\n"
          ]
        },
        {
          "output_type": "stream",
          "name": "stdout",
          "text": [
            "2024-12-04 16:36:36,702 subsystems 0/1 INFO :: Building subproblem matrices 1/1 (~100%) Elapsed: 0s, Remaining: 0s, Rate: 6.0e+00/s\n"
          ]
        },
        {
          "output_type": "execute_result",
          "data": {
            "text/plain": [
              "Text(0, 0.5, 'Depth (m)')"
            ]
          },
          "metadata": {},
          "execution_count": 3
        },
        {
          "output_type": "display_data",
          "data": {
            "text/plain": [
              "<Figure size 600x400 with 1 Axes>"
            ],
            "image/png": "[encoded data removed]"
          },
          "metadata": {}
        }
      ],
      "source": [
        "\"\"\"\n",
        "Dedalus script to solve the steady advection/diffusion equation\n",
        "\"\"\"\n",
        "\n",
        "import numpy as np\n",
        "import matplotlib.pyplot as plt\n",
        "import dedalus.public as d3\n",
        "import logging\n",
        "logger = logging.getLogger(__name__)\n",
        "\n",
        "# Set various parameters. Note that the depth and the top and bottom temperature\n",
        "# are taken from the CTD data in the code cell above. That cell must be run first to define CTD_T and CTD_z.\n",
        "z_surface = CTD_z[-1]\n",
        "z_bottom = CTD_z[0]\n",
        "T_surface = CTD_T[-1]\n",
        "T_bottom = CTD_T[0]\n",
        "Nz = 1000\n",
        "\n",
        "# Set the upwelling velocity\n",
        "w = 1e-7 # m/s\n",
        "# Set the diffusivity\n",
        "kappa=1e-7 # m^2/s\n",
        "\n",
        "# Bases\n",
        "zcoord = d3.Coordinate('z')\n",
        "dist = d3.Distributor(zcoord, dtype=np.float64)\n",
        "zbasis = d3.Chebyshev(zcoord, size=Nz, bounds=(z_bottom, z_surface))\n",
        "z = dist.local_grid(zbasis)\n",
        "\n",
        "# Fields\n",
        "T = dist.Field(name='T', bases=zbasis)\n",
        "\n",
        "# Add two tau variables to allow us to apply two boundary conditions\n",
        "tau_1 = dist.Field(name='tau_1')\n",
        "tau_2 = dist.Field(name='tau_2')\n",
        "lift_basis = zbasis.derivative_basis(1)\n",
        "lift = lambda A: d3.Lift(A, lift_basis, -1)\n",
        "\n",
        "# Substitutions\n",
        "dz = lambda A: d3.Differentiate(A, zcoord)\n",
        "Tz = dz(T) + lift(tau_1)\n",
        "Tzz = dz(Tz) + lift(tau_2)\n",
        "\n",
        "# Problem\n",
        "problem = d3.LBVP([T, tau_1, tau_2], namespace=locals())\n",
        "problem.add_equation(\"w*Tz - kappa*Tzz = 0\")\n",
        "problem.add_equation(\"T(z=z_surface) = T_surface\")\n",
        "problem.add_equation(\"T(z=z_bottom) = T_bottom\")\n",
        "\n",
        "# Solver\n",
        "solver = problem.build_solver()\n",
        "solver.solve()\n",
        "\n",
        "# Plot\n",
        "plt.figure(figsize=(6, 4))\n",
        "Tg=T['g']\n",
        "plt.scatter(CTD_T,CTD_z,s=10)\n",
        "plt.plot(Tg,z,'k')\n",
        "plt.xlabel('Temperature (ºC)')\n",
        "plt.ylabel('Depth (m)')"
      ]
    },
    {
      "cell_type": "markdown",
      "metadata": {
        "id": "O8EXxnzusR2o"
      },
      "source": [
        "### 1.4 Student investigation\n",
        "<a id='section1pt4'></a>\n",
        "Note that the profile above is not a good fit to the data. This implies that molecular diffusion isn't sufficient to transport heat down from the surface and stop the ocean from filling up with cold, dense water.\n",
        "\n",
        "Munk (1966) proposed that small-scale turbulence in the ocean interior results in a diffusivity that is orders of magnitude larger than the molecular value. Find a diffusivity that gives a good match with the data and test it in the Dedalus script above. Comment on the ability of this model (steady advection/diffusion) to fit the data."
      ]
    },
    {
      "cell_type": "code",
      "source": [
        "\"\"\"\n",
        "Dedalus script to solve the steady advection/diffusion equation\n",
        "\"\"\"\n",
        "\n",
        "import numpy as np\n",
        "import matplotlib.pyplot as plt\n",
        "import dedalus.public as d3\n",
        "import logging\n",
        "logger = logging.getLogger(__name__)\n",
        "\n",
        "# Set various parameters. Note that the depth and the top and bottom temperature\n",
        "# are taken from the CTD data in the code cell above. That cell must be run first to define CTD_T and CTD_z.\n",
        "z_surface = CTD_z[-1]\n",
        "z_bottom = CTD_z[0]\n",
        "T_surface = CTD_T[-1]\n",
        "T_bottom = CTD_T[0]\n",
        "Nz = 1000\n",
        "\n",
        "# Set the upwelling velocity\n",
        "w = 1e-7 # m/s\n",
        "# Set the diffusivity\n",
        "kappa=1e-4 # m^2/s\n",
        "\n",
        "# Bases\n",
        "zcoord = d3.Coordinate('z')\n",
        "dist = d3.Distributor(zcoord, dtype=np.float64)\n",
        "zbasis = d3.Chebyshev(zcoord, size=Nz, bounds=(z_bottom, z_surface))\n",
        "z = dist.local_grid(zbasis)\n",
        "\n",
        "# Fields\n",
        "T = dist.Field(name='T', bases=zbasis)\n",
        "\n",
        "# Add two tau variables to allow us to apply two boundary conditions\n",
        "tau_1 = dist.Field(name='tau_1')\n",
        "tau_2 = dist.Field(name='tau_2')\n",
        "lift_basis = zbasis.derivative_basis(1)\n",
        "lift = lambda A: d3.Lift(A, lift_basis, -1)\n",
        "\n",
        "# Substitutions\n",
        "dz = lambda A: d3.Differentiate(A, zcoord)\n",
        "Tz = dz(T) + lift(tau_1)\n",
        "Tzz = dz(Tz) + lift(tau_2)\n",
        "\n",
        "# Problem\n",
        "problem = d3.LBVP([T, tau_1, tau_2], namespace=locals())\n",
        "problem.add_equation(\"w*Tz - kappa*Tzz = 0\")\n",
        "problem.add_equation(\"T(z=z_surface) = T_surface\")\n",
        "problem.add_equation(\"T(z=z_bottom) = T_bottom\")\n",
        "\n",
        "# Solver\n",
        "solver = problem.build_solver()\n",
        "solver.solve()\n",
        "\n",
        "# Plot\n",
        "plt.figure(figsize=(6, 4))\n",
        "Tg=T['g']\n",
        "plt.scatter(CTD_T,CTD_z,s=10)\n",
        "plt.plot(Tg,z,'k')\n",
        "plt.xlabel('Temperature (ºC)')\n",
        "plt.ylabel('Depth (m)')"
      ],
      "metadata": {
        "id": "EE9zJgurxJOO",
        "outputId": "3023c1bc-b68e-4691-914c-ae7e3b48c097",
        "colab": {
          "base_uri": "https://localhost:8080/",
          "height": 440
        }
      },
      "execution_count": 4,
      "outputs": [
        {
          "output_type": "stream",
          "name": "stderr",
          "text": [
            "INFO:subsystems:Building subproblem matrices 1/1 (~100%) Elapsed: 0s, Remaining: 0s, Rate: 8.6e+00/s\n"
          ]
        },
        {
          "output_type": "stream",
          "name": "stdout",
          "text": [
            "2024-12-04 16:36:37,392 subsystems 0/1 INFO :: Building subproblem matrices 1/1 (~100%) Elapsed: 0s, Remaining: 0s, Rate: 8.6e+00/s\n"
          ]
        },
        {
          "output_type": "execute_result",
          "data": {
            "text/plain": [
              "Text(0, 0.5, 'Depth (m)')"
            ]
          },
          "metadata": {},
          "execution_count": 4
        },
        {
          "output_type": "display_data",
          "data": {
            "text/plain": [
              "<Figure size 600x400 with 1 Axes>"
            ],
            "image/png": "[encoded data removed]"
          },
          "metadata": {}
        }
      ]
    },
    {
      "cell_type": "markdown",
      "metadata": {
        "id": "AF6MevBosR2p"
      },
      "source": [
        "# **[Unjin]**\n",
        "\n",
        "Kappa equal to $10^{-4} m^2/s$ gives the best match to the data. Discrepancies between the real data and the values calculated from the steady-state advection/diffusion equation occur when the temperature is close to 2.5 °C or below, while they give good matches at higher temperatures."
      ]
    },
    {
      "cell_type": "markdown",
      "metadata": {
        "id": "KqR3FyG-sR2p"
      },
      "source": [
        "### 1.5 Turning ocean mixing upside down\n",
        "\n",
        "Decades of research to measure the turbulent diffusivity in the ocean consistently found values much smaller than the one predicted by Munk (1966). Specifically, while larger values of the turbulent diffusivity were found near the bottom of the ocean over rough topographic features, the values in the upper ocean were about 10x smaller than the values predicted by Munk. 50 years after Munk's seminal paper, Ferrari et al. (2016) proposed that a depth-dependent turbulent diffusivity could be balanced by <em>downwelling</em>, with negative vertical velocities in the ocean interior. In this theory, the overturning circulation is upwelling in thin boundary layers along the sloping sides of the ocean basins.\n",
        "\n",
        "When the diffusivity, $\\kappa$, is a function of $z$, the steady advection/diffusion equation can be written\n",
        "\n",
        "$$ w\\frac{dT}{dz} = \\frac{d}{dz}\\left(\\kappa(z) \\frac{dT}{dz}\\right)$$\n",
        "\n",
        "The Dedalus script below solves the previous equation and again compares the results with the observed temperature profile. For the depth-dependent diffusivity, $\\kappa(z)$, we take\n",
        "\n",
        "$$ \\kappa(z)=\\kappa_{bg} + (\\kappa_0-\\kappa_{bg})e^{-(z+D)/l} $$\n",
        "\n",
        "using the form from Rogers et al., 2023, where $\\kappa_{bg}=1\\times 10^{-5} m^2/s$ is the background diffusivity characteristic of the upper water column, $\\kappa_0=8.6\\times 10^{-4} m^2/s$ characterizes the enhanced mixing near the bottom of the ocean, $D$ is a reference depth where $\\kappa=\\kappa_0$, and $l=667m$ is an exponential decay scale. In the script below, we start with $w=0$."
      ]
    },
    {
      "cell_type": "code",
      "execution_count": 5,
      "metadata": {
        "id": "h0kI0AT8sR2p",
        "outputId": "3fa9139a-1fe0-425d-a02a-995d75a59a83",
        "colab": {
          "base_uri": "https://localhost:8080/",
          "height": 440
        }
      },
      "outputs": [
        {
          "output_type": "stream",
          "name": "stderr",
          "text": [
            "INFO:subsystems:Building subproblem matrices 1/1 (~100%) Elapsed: 0s, Remaining: 0s, Rate: 2.1e+00/s\n"
          ]
        },
        {
          "output_type": "stream",
          "name": "stdout",
          "text": [
            "2024-12-04 16:36:38,255 subsystems 0/1 INFO :: Building subproblem matrices 1/1 (~100%) Elapsed: 0s, Remaining: 0s, Rate: 2.1e+00/s\n"
          ]
        },
        {
          "output_type": "execute_result",
          "data": {
            "text/plain": [
              "Text(0, 0.5, 'Depth (m)')"
            ]
          },
          "metadata": {},
          "execution_count": 5
        },
        {
          "output_type": "display_data",
          "data": {
            "text/plain": [
              "<Figure size 600x400 with 1 Axes>"
            ],
            "image/png": "[encoded data removed]"
          },
          "metadata": {}
        }
      ],
      "source": [
        "\"\"\"\n",
        "Dedalus script to solve the steady advection/diffusion equation\n",
        "with a spatially-variable diffusivity\n",
        "\"\"\"\n",
        "\n",
        "import numpy as np\n",
        "import matplotlib.pyplot as plt\n",
        "import dedalus.public as d3\n",
        "import logging\n",
        "logger = logging.getLogger(__name__)\n",
        "\n",
        "# Set various parameters. Note that the depth and the top and bottom temperature\n",
        "# are taken from the CTD data in the code cell above. That cell must be run first to define CTD_T and CTD_z.\n",
        "z_surface = CTD_z[-1]\n",
        "z_bottom = CTD_z[0]\n",
        "T_surface = CTD_T[-1]\n",
        "T_bottom = CTD_T[0]\n",
        "Nz = 1000\n",
        "\n",
        "# Set the vertical velocity\n",
        "w = 1e-8 # m/s\n",
        "\n",
        "# Bases\n",
        "zcoord = d3.Coordinate('z')\n",
        "dist = d3.Distributor(zcoord, dtype=np.float64)\n",
        "zbasis = d3.Chebyshev(zcoord, size=Nz, bounds=(z_bottom, z_surface))\n",
        "z = dist.local_grid(zbasis)\n",
        "\n",
        "# Fields\n",
        "T = dist.Field(name='T', bases=zbasis)\n",
        "kappa = dist.Field(name='kappa', bases=zbasis)\n",
        "# Set the diffusivity\n",
        "# Below is the diffusivity profile from Rogers et al., 2023\n",
        "kappa['g']=1e-5 + (8.6e-4-1e-5)*np.exp((-5e3-z)/667) # m^2/s\n",
        "\n",
        "# Add two tau variables to allow us to apply two boundary conditions\n",
        "tau_1 = dist.Field(name='tau_1')\n",
        "tau_2 = dist.Field(name='tau_2')\n",
        "lift_basis = zbasis.derivative_basis(1)\n",
        "lift = lambda A: d3.Lift(A, lift_basis, -1)\n",
        "\n",
        "# Substitutions\n",
        "dz = lambda A: d3.Differentiate(A, zcoord)\n",
        "Tz = dz(T) + lift(tau_1)\n",
        "Tzz = dz(Tz) + lift(tau_2)\n",
        "\n",
        "# Problem\n",
        "problem = d3.LBVP([T, tau_1, tau_2], namespace=locals())\n",
        "problem.add_equation(\"w*Tz - dz(kappa*Tz) + lift(tau_2) = 0\")\n",
        "problem.add_equation(\"T(z=z_surface) = T_surface\")\n",
        "problem.add_equation(\"T(z=z_bottom) = T_bottom\")\n",
        "\n",
        "# Solver\n",
        "solver = problem.build_solver()\n",
        "solver.solve()\n",
        "\n",
        "# Plot\n",
        "plt.figure(figsize=(6, 4))\n",
        "Tg=T['g']\n",
        "plt.scatter(CTD_T,CTD_z,s=10)\n",
        "plt.plot(Tg,z,'k')\n",
        "plt.xlabel('Temperature (ºC)')\n",
        "plt.ylabel('Depth (m)')"
      ]
    },
    {
      "cell_type": "markdown",
      "metadata": {
        "id": "zetzZNB2sR2p"
      },
      "source": [
        "### 1.6 Student investigation\n",
        "<a id='section1pt6'></a>\n",
        "Note from the results of the script above that the density profile is reasonable, even though $w=0$. In the box below, comment on the balance in this case and what this implies about the diffusive heat flux.\n",
        "\n",
        "Next, find a vertical velocity that produces a better agreement with the observations and report it below. Then, try varying the details of the $\\kappa(z)$ profile. How sensitive is the optimal $w$ to your choice of $\\kappa(z)$? What does this imply about the circulation in the ocean interior if $\\kappa(z)$ varies between regions of smooth and rough topography?\n",
        "\n",
        "(As an aside, note that the requied vertical velocity is much smaller than the one used by Munk (1966). This implies that the dense, cold water that sinks at the poles must rise elsewhere. Ferrari et al. (2016) proposed that this occurs in boundary layers near the seafloor.)"
      ]
    },
    {
      "cell_type": "markdown",
      "metadata": {
        "id": "xnzPD8FrsR2p"
      },
      "source": [
        "As $w = 0$, the buoyancy force should be balanced with the gravity force. This means the heat flux is solely due to diffusion, without the effect of advection.\n",
        "\n",
        "A vertical velocity that fits the observations better is $10^{-8} m/s$. With $w = 10^{-8} m/s$, changing $κ = 10^{-5} + (8.6 \\times 10^{-4} - 10^{-5}) \\times e^{\\frac{-5\\times10^{3} - z}{667}} m^2/s$ to $κ = 10^{-4.9} + (8.6 \\times 10^{-4} - 10^{-5}) \\times e^{\\frac{-5\\times10^{3} - z}{667}} m^2/s$, which makes a difference of less than $2.2 \\times 10^{-5} m^2/s$ creates great discrepancies between the original data and our graph. This implies the ocean interior circulation is affected by the topography of the region below, and thus we need appropriate $\\kappa$ value for each type of topography to find the best temperature profile of the oceans."
      ]
    },
    {
      "cell_type": "markdown",
      "metadata": {
        "id": "GqvvMA8ssR2p"
      },
      "source": [
        "## 2. Transport of pollution in a river\n",
        "\n",
        "Advection/diffusion equations are a common way to model the material transport in many physical systems. In this section we will model the transport and dilution of a pollutants added to a river.\n",
        "\n",
        "For simplicity, we will model the river as a rectangular channel, and we will neglect depth variations. Let $x$ be the coordinate along the length of the river, and $y$ be the cross-stream coordinate. We will model the river current as\n",
        "\n",
        "$$ u(y) = U_0\\left(1-\\frac{(y-w/2)^2}{(w/2)^2}\\right) $$\n",
        "\n",
        "where $w$ is the width of the river and $U_0$ is the maximum current speed which occurs at the center of the river (the $y$-coordinate will run from 0 to $w$).\n",
        "\n",
        "Since we want to know how the pollution levels vary in time, we will solve the time-dependent advection/diffusion equation. We will model the addition of pollution by adding a spatially-dependent source term to the right hand side of the equation governing pollutant concentration:\n",
        "\n",
        "$$ \\frac{\\partial c}{\\partial t} + u(y)\\frac{\\partial c}{\\partial x} = \\kappa \\nabla^2 c + S(x,y) $$\n",
        "\n",
        "where $\\nabla^2=(\\partial_x^2 + \\partial_y^2)$ is the Laplacian operator for diffusion in 2D Cartesian coordinates, and $S$ is the source term."
      ]
    },
    {
      "cell_type": "markdown",
      "metadata": {
        "id": "q0Eb6NJ9sR2p"
      },
      "source": [
        "### 2.1 Dedalus script\n",
        "\n",
        "The script below solves the time-dependent advection/diffusion equation with a source term."
      ]
    },
    {
      "cell_type": "code",
      "execution_count": 22,
      "metadata": {
        "id": "1lYB1jGbsR2p",
        "outputId": "b3e9bd7f-0d56-45af-9cb9-bdf1b1b4066f",
        "colab": {
          "base_uri": "https://localhost:8080/"
        }
      },
      "outputs": [
        {
          "output_type": "stream",
          "name": "stderr",
          "text": [
            "INFO:subsystems:Building subproblem matrices 1/1 (~100%) Elapsed: 0s, Remaining: 0s, Rate: 4.0e+00/s\n"
          ]
        },
        {
          "output_type": "stream",
          "name": "stdout",
          "text": [
            "2024-12-04 17:21:03,541 subsystems 0/1 INFO :: Building subproblem matrices 1/1 (~100%) Elapsed: 0s, Remaining: 0s, Rate: 4.0e+00/s\n"
          ]
        },
        {
          "output_type": "stream",
          "name": "stderr",
          "text": [
            "INFO:__main__:Starting main loop\n"
          ]
        },
        {
          "output_type": "stream",
          "name": "stdout",
          "text": [
            "2024-12-04 17:21:03,551 __main__ 0/1 INFO :: Starting main loop\n"
          ]
        },
        {
          "output_type": "stream",
          "name": "stderr",
          "text": [
            "INFO:__main__:Iteration=1, Time=1.953125e+00, dt=1.953125e+00\n"
          ]
        },
        {
          "output_type": "stream",
          "name": "stdout",
          "text": [
            "2024-12-04 17:21:03,587 __main__ 0/1 INFO :: Iteration=1, Time=1.953125e+00, dt=1.953125e+00\n"
          ]
        },
        {
          "output_type": "stream",
          "name": "stderr",
          "text": [
            "INFO:__main__:Iteration=11, Time=2.148438e+01, dt=1.953125e+00\n"
          ]
        },
        {
          "output_type": "stream",
          "name": "stdout",
          "text": [
            "2024-12-04 17:21:03,614 __main__ 0/1 INFO :: Iteration=11, Time=2.148438e+01, dt=1.953125e+00\n"
          ]
        },
        {
          "output_type": "stream",
          "name": "stderr",
          "text": [
            "INFO:__main__:Iteration=21, Time=4.101562e+01, dt=1.953125e+00\n"
          ]
        },
        {
          "output_type": "stream",
          "name": "stdout",
          "text": [
            "2024-12-04 17:21:03,652 __main__ 0/1 INFO :: Iteration=21, Time=4.101562e+01, dt=1.953125e+00\n"
          ]
        },
        {
          "output_type": "stream",
          "name": "stderr",
          "text": [
            "INFO:__main__:Iteration=31, Time=6.054688e+01, dt=1.953125e+00\n"
          ]
        },
        {
          "output_type": "stream",
          "name": "stdout",
          "text": [
            "2024-12-04 17:21:03,678 __main__ 0/1 INFO :: Iteration=31, Time=6.054688e+01, dt=1.953125e+00\n"
          ]
        },
        {
          "output_type": "stream",
          "name": "stderr",
          "text": [
            "INFO:__main__:Iteration=41, Time=8.007812e+01, dt=1.953125e+00\n"
          ]
        },
        {
          "output_type": "stream",
          "name": "stdout",
          "text": [
            "2024-12-04 17:21:03,707 __main__ 0/1 INFO :: Iteration=41, Time=8.007812e+01, dt=1.953125e+00\n"
          ]
        },
        {
          "output_type": "stream",
          "name": "stderr",
          "text": [
            "INFO:__main__:Iteration=51, Time=9.960938e+01, dt=1.953125e+00\n"
          ]
        },
        {
          "output_type": "stream",
          "name": "stdout",
          "text": [
            "2024-12-04 17:21:03,734 __main__ 0/1 INFO :: Iteration=51, Time=9.960938e+01, dt=1.953125e+00\n"
          ]
        },
        {
          "output_type": "stream",
          "name": "stderr",
          "text": [
            "INFO:__main__:Iteration=61, Time=1.191406e+02, dt=1.953125e+00\n"
          ]
        },
        {
          "output_type": "stream",
          "name": "stdout",
          "text": [
            "2024-12-04 17:21:03,761 __main__ 0/1 INFO :: Iteration=61, Time=1.191406e+02, dt=1.953125e+00\n"
          ]
        },
        {
          "output_type": "stream",
          "name": "stderr",
          "text": [
            "INFO:__main__:Iteration=71, Time=1.386719e+02, dt=1.953125e+00\n"
          ]
        },
        {
          "output_type": "stream",
          "name": "stdout",
          "text": [
            "2024-12-04 17:21:03,788 __main__ 0/1 INFO :: Iteration=71, Time=1.386719e+02, dt=1.953125e+00\n"
          ]
        },
        {
          "output_type": "stream",
          "name": "stderr",
          "text": [
            "INFO:__main__:Iteration=81, Time=1.582031e+02, dt=1.953125e+00\n"
          ]
        },
        {
          "output_type": "stream",
          "name": "stdout",
          "text": [
            "2024-12-04 17:21:03,813 __main__ 0/1 INFO :: Iteration=81, Time=1.582031e+02, dt=1.953125e+00\n"
          ]
        },
        {
          "output_type": "stream",
          "name": "stderr",
          "text": [
            "INFO:__main__:Iteration=91, Time=1.777344e+02, dt=1.953125e+00\n"
          ]
        },
        {
          "output_type": "stream",
          "name": "stdout",
          "text": [
            "2024-12-04 17:21:03,840 __main__ 0/1 INFO :: Iteration=91, Time=1.777344e+02, dt=1.953125e+00\n"
          ]
        },
        {
          "output_type": "stream",
          "name": "stderr",
          "text": [
            "INFO:__main__:Iteration=101, Time=1.972656e+02, dt=1.953125e+00\n"
          ]
        },
        {
          "output_type": "stream",
          "name": "stdout",
          "text": [
            "2024-12-04 17:21:03,867 __main__ 0/1 INFO :: Iteration=101, Time=1.972656e+02, dt=1.953125e+00\n"
          ]
        },
        {
          "output_type": "stream",
          "name": "stderr",
          "text": [
            "INFO:__main__:Iteration=111, Time=2.167969e+02, dt=1.953125e+00\n"
          ]
        },
        {
          "output_type": "stream",
          "name": "stdout",
          "text": [
            "2024-12-04 17:21:03,894 __main__ 0/1 INFO :: Iteration=111, Time=2.167969e+02, dt=1.953125e+00\n"
          ]
        },
        {
          "output_type": "stream",
          "name": "stderr",
          "text": [
            "INFO:__main__:Iteration=121, Time=2.363281e+02, dt=1.953125e+00\n"
          ]
        },
        {
          "output_type": "stream",
          "name": "stdout",
          "text": [
            "2024-12-04 17:21:03,925 __main__ 0/1 INFO :: Iteration=121, Time=2.363281e+02, dt=1.953125e+00\n"
          ]
        },
        {
          "output_type": "stream",
          "name": "stderr",
          "text": [
            "INFO:__main__:Iteration=131, Time=2.558594e+02, dt=1.953125e+00\n"
          ]
        },
        {
          "output_type": "stream",
          "name": "stdout",
          "text": [
            "2024-12-04 17:21:03,952 __main__ 0/1 INFO :: Iteration=131, Time=2.558594e+02, dt=1.953125e+00\n"
          ]
        },
        {
          "output_type": "stream",
          "name": "stderr",
          "text": [
            "INFO:__main__:Iteration=141, Time=2.753906e+02, dt=1.953125e+00\n"
          ]
        },
        {
          "output_type": "stream",
          "name": "stdout",
          "text": [
            "2024-12-04 17:21:03,982 __main__ 0/1 INFO :: Iteration=141, Time=2.753906e+02, dt=1.953125e+00\n"
          ]
        },
        {
          "output_type": "stream",
          "name": "stderr",
          "text": [
            "INFO:__main__:Iteration=151, Time=2.949219e+02, dt=1.953125e+00\n"
          ]
        },
        {
          "output_type": "stream",
          "name": "stdout",
          "text": [
            "2024-12-04 17:21:04,011 __main__ 0/1 INFO :: Iteration=151, Time=2.949219e+02, dt=1.953125e+00\n"
          ]
        },
        {
          "output_type": "stream",
          "name": "stderr",
          "text": [
            "INFO:__main__:Iteration=161, Time=3.144531e+02, dt=1.953125e+00\n"
          ]
        },
        {
          "output_type": "stream",
          "name": "stdout",
          "text": [
            "2024-12-04 17:21:04,038 __main__ 0/1 INFO :: Iteration=161, Time=3.144531e+02, dt=1.953125e+00\n"
          ]
        },
        {
          "output_type": "stream",
          "name": "stderr",
          "text": [
            "INFO:__main__:Iteration=171, Time=3.339844e+02, dt=1.953125e+00\n"
          ]
        },
        {
          "output_type": "stream",
          "name": "stdout",
          "text": [
            "2024-12-04 17:21:04,065 __main__ 0/1 INFO :: Iteration=171, Time=3.339844e+02, dt=1.953125e+00\n"
          ]
        },
        {
          "output_type": "stream",
          "name": "stderr",
          "text": [
            "INFO:__main__:Iteration=181, Time=3.535156e+02, dt=1.953125e+00\n"
          ]
        },
        {
          "output_type": "stream",
          "name": "stdout",
          "text": [
            "2024-12-04 17:21:04,095 __main__ 0/1 INFO :: Iteration=181, Time=3.535156e+02, dt=1.953125e+00\n"
          ]
        },
        {
          "output_type": "stream",
          "name": "stderr",
          "text": [
            "INFO:__main__:Iteration=191, Time=3.730469e+02, dt=1.953125e+00\n"
          ]
        },
        {
          "output_type": "stream",
          "name": "stdout",
          "text": [
            "2024-12-04 17:21:04,130 __main__ 0/1 INFO :: Iteration=191, Time=3.730469e+02, dt=1.953125e+00\n"
          ]
        },
        {
          "output_type": "stream",
          "name": "stderr",
          "text": [
            "INFO:__main__:Iteration=201, Time=3.925781e+02, dt=1.953125e+00\n"
          ]
        },
        {
          "output_type": "stream",
          "name": "stdout",
          "text": [
            "2024-12-04 17:21:04,165 __main__ 0/1 INFO :: Iteration=201, Time=3.925781e+02, dt=1.953125e+00\n"
          ]
        },
        {
          "output_type": "stream",
          "name": "stderr",
          "text": [
            "INFO:__main__:Iteration=211, Time=4.121094e+02, dt=1.953125e+00\n"
          ]
        },
        {
          "output_type": "stream",
          "name": "stdout",
          "text": [
            "2024-12-04 17:21:04,201 __main__ 0/1 INFO :: Iteration=211, Time=4.121094e+02, dt=1.953125e+00\n"
          ]
        },
        {
          "output_type": "stream",
          "name": "stderr",
          "text": [
            "INFO:__main__:Iteration=221, Time=4.316406e+02, dt=1.953125e+00\n"
          ]
        },
        {
          "output_type": "stream",
          "name": "stdout",
          "text": [
            "2024-12-04 17:21:04,235 __main__ 0/1 INFO :: Iteration=221, Time=4.316406e+02, dt=1.953125e+00\n"
          ]
        },
        {
          "output_type": "stream",
          "name": "stderr",
          "text": [
            "INFO:__main__:Iteration=231, Time=4.511719e+02, dt=1.953125e+00\n"
          ]
        },
        {
          "output_type": "stream",
          "name": "stdout",
          "text": [
            "2024-12-04 17:21:04,270 __main__ 0/1 INFO :: Iteration=231, Time=4.511719e+02, dt=1.953125e+00\n"
          ]
        },
        {
          "output_type": "stream",
          "name": "stderr",
          "text": [
            "INFO:__main__:Iteration=241, Time=4.707031e+02, dt=1.953125e+00\n"
          ]
        },
        {
          "output_type": "stream",
          "name": "stdout",
          "text": [
            "2024-12-04 17:21:04,305 __main__ 0/1 INFO :: Iteration=241, Time=4.707031e+02, dt=1.953125e+00\n"
          ]
        },
        {
          "output_type": "stream",
          "name": "stderr",
          "text": [
            "INFO:__main__:Iteration=251, Time=4.902344e+02, dt=1.953125e+00\n"
          ]
        },
        {
          "output_type": "stream",
          "name": "stdout",
          "text": [
            "2024-12-04 17:21:04,342 __main__ 0/1 INFO :: Iteration=251, Time=4.902344e+02, dt=1.953125e+00\n"
          ]
        },
        {
          "output_type": "stream",
          "name": "stderr",
          "text": [
            "INFO:__main__:Iteration=261, Time=5.097656e+02, dt=1.953125e+00\n"
          ]
        },
        {
          "output_type": "stream",
          "name": "stdout",
          "text": [
            "2024-12-04 17:21:04,377 __main__ 0/1 INFO :: Iteration=261, Time=5.097656e+02, dt=1.953125e+00\n"
          ]
        },
        {
          "output_type": "stream",
          "name": "stderr",
          "text": [
            "INFO:__main__:Iteration=271, Time=5.292969e+02, dt=1.953125e+00\n"
          ]
        },
        {
          "output_type": "stream",
          "name": "stdout",
          "text": [
            "2024-12-04 17:21:04,403 __main__ 0/1 INFO :: Iteration=271, Time=5.292969e+02, dt=1.953125e+00\n"
          ]
        },
        {
          "output_type": "stream",
          "name": "stderr",
          "text": [
            "INFO:__main__:Iteration=281, Time=5.488281e+02, dt=1.953125e+00\n"
          ]
        },
        {
          "output_type": "stream",
          "name": "stdout",
          "text": [
            "2024-12-04 17:21:04,431 __main__ 0/1 INFO :: Iteration=281, Time=5.488281e+02, dt=1.953125e+00\n"
          ]
        },
        {
          "output_type": "stream",
          "name": "stderr",
          "text": [
            "INFO:__main__:Iteration=291, Time=5.683594e+02, dt=1.953125e+00\n"
          ]
        },
        {
          "output_type": "stream",
          "name": "stdout",
          "text": [
            "2024-12-04 17:21:04,458 __main__ 0/1 INFO :: Iteration=291, Time=5.683594e+02, dt=1.953125e+00\n"
          ]
        },
        {
          "output_type": "stream",
          "name": "stderr",
          "text": [
            "INFO:__main__:Iteration=301, Time=5.878906e+02, dt=1.953125e+00\n"
          ]
        },
        {
          "output_type": "stream",
          "name": "stdout",
          "text": [
            "2024-12-04 17:21:04,486 __main__ 0/1 INFO :: Iteration=301, Time=5.878906e+02, dt=1.953125e+00\n"
          ]
        },
        {
          "output_type": "stream",
          "name": "stderr",
          "text": [
            "INFO:__main__:Iteration=311, Time=6.074219e+02, dt=1.953125e+00\n"
          ]
        },
        {
          "output_type": "stream",
          "name": "stdout",
          "text": [
            "2024-12-04 17:21:04,513 __main__ 0/1 INFO :: Iteration=311, Time=6.074219e+02, dt=1.953125e+00\n"
          ]
        },
        {
          "output_type": "stream",
          "name": "stderr",
          "text": [
            "INFO:__main__:Iteration=321, Time=6.269531e+02, dt=1.953125e+00\n"
          ]
        },
        {
          "output_type": "stream",
          "name": "stdout",
          "text": [
            "2024-12-04 17:21:04,541 __main__ 0/1 INFO :: Iteration=321, Time=6.269531e+02, dt=1.953125e+00\n"
          ]
        },
        {
          "output_type": "stream",
          "name": "stderr",
          "text": [
            "INFO:__main__:Iteration=331, Time=6.464844e+02, dt=1.953125e+00\n"
          ]
        },
        {
          "output_type": "stream",
          "name": "stdout",
          "text": [
            "2024-12-04 17:21:04,567 __main__ 0/1 INFO :: Iteration=331, Time=6.464844e+02, dt=1.953125e+00\n"
          ]
        },
        {
          "output_type": "stream",
          "name": "stderr",
          "text": [
            "INFO:__main__:Iteration=341, Time=6.660156e+02, dt=1.953125e+00\n"
          ]
        },
        {
          "output_type": "stream",
          "name": "stdout",
          "text": [
            "2024-12-04 17:21:04,594 __main__ 0/1 INFO :: Iteration=341, Time=6.660156e+02, dt=1.953125e+00\n"
          ]
        },
        {
          "output_type": "stream",
          "name": "stderr",
          "text": [
            "INFO:__main__:Iteration=351, Time=6.855469e+02, dt=1.953125e+00\n"
          ]
        },
        {
          "output_type": "stream",
          "name": "stdout",
          "text": [
            "2024-12-04 17:21:04,620 __main__ 0/1 INFO :: Iteration=351, Time=6.855469e+02, dt=1.953125e+00\n"
          ]
        },
        {
          "output_type": "stream",
          "name": "stderr",
          "text": [
            "INFO:__main__:Iteration=361, Time=7.050781e+02, dt=1.953125e+00\n"
          ]
        },
        {
          "output_type": "stream",
          "name": "stdout",
          "text": [
            "2024-12-04 17:21:04,649 __main__ 0/1 INFO :: Iteration=361, Time=7.050781e+02, dt=1.953125e+00\n"
          ]
        },
        {
          "output_type": "stream",
          "name": "stderr",
          "text": [
            "INFO:__main__:Iteration=371, Time=7.246094e+02, dt=1.953125e+00\n"
          ]
        },
        {
          "output_type": "stream",
          "name": "stdout",
          "text": [
            "2024-12-04 17:21:04,690 __main__ 0/1 INFO :: Iteration=371, Time=7.246094e+02, dt=1.953125e+00\n"
          ]
        },
        {
          "output_type": "stream",
          "name": "stderr",
          "text": [
            "INFO:__main__:Iteration=381, Time=7.441406e+02, dt=1.953125e+00\n"
          ]
        },
        {
          "output_type": "stream",
          "name": "stdout",
          "text": [
            "2024-12-04 17:21:04,716 __main__ 0/1 INFO :: Iteration=381, Time=7.441406e+02, dt=1.953125e+00\n"
          ]
        },
        {
          "output_type": "stream",
          "name": "stderr",
          "text": [
            "INFO:__main__:Iteration=391, Time=7.636719e+02, dt=1.953125e+00\n"
          ]
        },
        {
          "output_type": "stream",
          "name": "stdout",
          "text": [
            "2024-12-04 17:21:04,742 __main__ 0/1 INFO :: Iteration=391, Time=7.636719e+02, dt=1.953125e+00\n"
          ]
        },
        {
          "output_type": "stream",
          "name": "stderr",
          "text": [
            "INFO:__main__:Iteration=401, Time=7.832031e+02, dt=1.953125e+00\n"
          ]
        },
        {
          "output_type": "stream",
          "name": "stdout",
          "text": [
            "2024-12-04 17:21:04,769 __main__ 0/1 INFO :: Iteration=401, Time=7.832031e+02, dt=1.953125e+00\n"
          ]
        },
        {
          "output_type": "stream",
          "name": "stderr",
          "text": [
            "INFO:__main__:Iteration=411, Time=8.027344e+02, dt=1.953125e+00\n"
          ]
        },
        {
          "output_type": "stream",
          "name": "stdout",
          "text": [
            "2024-12-04 17:21:04,795 __main__ 0/1 INFO :: Iteration=411, Time=8.027344e+02, dt=1.953125e+00\n"
          ]
        },
        {
          "output_type": "stream",
          "name": "stderr",
          "text": [
            "INFO:__main__:Iteration=421, Time=8.222656e+02, dt=1.953125e+00\n"
          ]
        },
        {
          "output_type": "stream",
          "name": "stdout",
          "text": [
            "2024-12-04 17:21:04,821 __main__ 0/1 INFO :: Iteration=421, Time=8.222656e+02, dt=1.953125e+00\n"
          ]
        },
        {
          "output_type": "stream",
          "name": "stderr",
          "text": [
            "INFO:__main__:Iteration=431, Time=8.417969e+02, dt=1.953125e+00\n"
          ]
        },
        {
          "output_type": "stream",
          "name": "stdout",
          "text": [
            "2024-12-04 17:21:04,848 __main__ 0/1 INFO :: Iteration=431, Time=8.417969e+02, dt=1.953125e+00\n"
          ]
        },
        {
          "output_type": "stream",
          "name": "stderr",
          "text": [
            "INFO:__main__:Iteration=441, Time=8.613281e+02, dt=1.953125e+00\n"
          ]
        },
        {
          "output_type": "stream",
          "name": "stdout",
          "text": [
            "2024-12-04 17:21:04,874 __main__ 0/1 INFO :: Iteration=441, Time=8.613281e+02, dt=1.953125e+00\n"
          ]
        },
        {
          "output_type": "stream",
          "name": "stderr",
          "text": [
            "INFO:__main__:Iteration=451, Time=8.808594e+02, dt=1.953125e+00\n"
          ]
        },
        {
          "output_type": "stream",
          "name": "stdout",
          "text": [
            "2024-12-04 17:21:04,903 __main__ 0/1 INFO :: Iteration=451, Time=8.808594e+02, dt=1.953125e+00\n"
          ]
        },
        {
          "output_type": "stream",
          "name": "stderr",
          "text": [
            "INFO:__main__:Iteration=461, Time=9.003906e+02, dt=1.953125e+00\n"
          ]
        },
        {
          "output_type": "stream",
          "name": "stdout",
          "text": [
            "2024-12-04 17:21:04,935 __main__ 0/1 INFO :: Iteration=461, Time=9.003906e+02, dt=1.953125e+00\n"
          ]
        },
        {
          "output_type": "stream",
          "name": "stderr",
          "text": [
            "INFO:__main__:Iteration=471, Time=9.199219e+02, dt=1.953125e+00\n"
          ]
        },
        {
          "output_type": "stream",
          "name": "stdout",
          "text": [
            "2024-12-04 17:21:04,962 __main__ 0/1 INFO :: Iteration=471, Time=9.199219e+02, dt=1.953125e+00\n"
          ]
        },
        {
          "output_type": "stream",
          "name": "stderr",
          "text": [
            "INFO:__main__:Iteration=481, Time=9.394531e+02, dt=1.953125e+00\n"
          ]
        },
        {
          "output_type": "stream",
          "name": "stdout",
          "text": [
            "2024-12-04 17:21:04,988 __main__ 0/1 INFO :: Iteration=481, Time=9.394531e+02, dt=1.953125e+00\n"
          ]
        },
        {
          "output_type": "stream",
          "name": "stderr",
          "text": [
            "INFO:__main__:Iteration=491, Time=9.589844e+02, dt=1.953125e+00\n"
          ]
        },
        {
          "output_type": "stream",
          "name": "stdout",
          "text": [
            "2024-12-04 17:21:05,014 __main__ 0/1 INFO :: Iteration=491, Time=9.589844e+02, dt=1.953125e+00\n"
          ]
        },
        {
          "output_type": "stream",
          "name": "stderr",
          "text": [
            "INFO:__main__:Iteration=501, Time=9.785156e+02, dt=1.953125e+00\n"
          ]
        },
        {
          "output_type": "stream",
          "name": "stdout",
          "text": [
            "2024-12-04 17:21:05,042 __main__ 0/1 INFO :: Iteration=501, Time=9.785156e+02, dt=1.953125e+00\n"
          ]
        },
        {
          "output_type": "stream",
          "name": "stderr",
          "text": [
            "INFO:__main__:Iteration=511, Time=9.980469e+02, dt=1.953125e+00\n"
          ]
        },
        {
          "output_type": "stream",
          "name": "stdout",
          "text": [
            "2024-12-04 17:21:05,069 __main__ 0/1 INFO :: Iteration=511, Time=9.980469e+02, dt=1.953125e+00\n"
          ]
        },
        {
          "output_type": "stream",
          "name": "stderr",
          "text": [
            "INFO:__main__:Iteration=521, Time=1.017578e+03, dt=1.953125e+00\n"
          ]
        },
        {
          "output_type": "stream",
          "name": "stdout",
          "text": [
            "2024-12-04 17:21:05,103 __main__ 0/1 INFO :: Iteration=521, Time=1.017578e+03, dt=1.953125e+00\n"
          ]
        },
        {
          "output_type": "stream",
          "name": "stderr",
          "text": [
            "INFO:__main__:Iteration=531, Time=1.037109e+03, dt=1.953125e+00\n"
          ]
        },
        {
          "output_type": "stream",
          "name": "stdout",
          "text": [
            "2024-12-04 17:21:05,140 __main__ 0/1 INFO :: Iteration=531, Time=1.037109e+03, dt=1.953125e+00\n"
          ]
        },
        {
          "output_type": "stream",
          "name": "stderr",
          "text": [
            "INFO:__main__:Iteration=541, Time=1.056641e+03, dt=1.953125e+00\n"
          ]
        },
        {
          "output_type": "stream",
          "name": "stdout",
          "text": [
            "2024-12-04 17:21:05,178 __main__ 0/1 INFO :: Iteration=541, Time=1.056641e+03, dt=1.953125e+00\n"
          ]
        },
        {
          "output_type": "stream",
          "name": "stderr",
          "text": [
            "INFO:__main__:Iteration=551, Time=1.076172e+03, dt=1.953125e+00\n"
          ]
        },
        {
          "output_type": "stream",
          "name": "stdout",
          "text": [
            "2024-12-04 17:21:05,222 __main__ 0/1 INFO :: Iteration=551, Time=1.076172e+03, dt=1.953125e+00\n"
          ]
        },
        {
          "output_type": "stream",
          "name": "stderr",
          "text": [
            "INFO:__main__:Iteration=561, Time=1.095703e+03, dt=1.953125e+00\n"
          ]
        },
        {
          "output_type": "stream",
          "name": "stdout",
          "text": [
            "2024-12-04 17:21:05,267 __main__ 0/1 INFO :: Iteration=561, Time=1.095703e+03, dt=1.953125e+00\n"
          ]
        },
        {
          "output_type": "stream",
          "name": "stderr",
          "text": [
            "INFO:__main__:Iteration=571, Time=1.115234e+03, dt=1.953125e+00\n"
          ]
        },
        {
          "output_type": "stream",
          "name": "stdout",
          "text": [
            "2024-12-04 17:21:05,302 __main__ 0/1 INFO :: Iteration=571, Time=1.115234e+03, dt=1.953125e+00\n"
          ]
        },
        {
          "output_type": "stream",
          "name": "stderr",
          "text": [
            "INFO:__main__:Iteration=581, Time=1.134766e+03, dt=1.953125e+00\n"
          ]
        },
        {
          "output_type": "stream",
          "name": "stdout",
          "text": [
            "2024-12-04 17:21:05,337 __main__ 0/1 INFO :: Iteration=581, Time=1.134766e+03, dt=1.953125e+00\n"
          ]
        },
        {
          "output_type": "stream",
          "name": "stderr",
          "text": [
            "INFO:__main__:Iteration=591, Time=1.154297e+03, dt=1.953125e+00\n"
          ]
        },
        {
          "output_type": "stream",
          "name": "stdout",
          "text": [
            "2024-12-04 17:21:05,370 __main__ 0/1 INFO :: Iteration=591, Time=1.154297e+03, dt=1.953125e+00\n"
          ]
        },
        {
          "output_type": "stream",
          "name": "stderr",
          "text": [
            "INFO:__main__:Iteration=601, Time=1.173828e+03, dt=1.953125e+00\n"
          ]
        },
        {
          "output_type": "stream",
          "name": "stdout",
          "text": [
            "2024-12-04 17:21:05,405 __main__ 0/1 INFO :: Iteration=601, Time=1.173828e+03, dt=1.953125e+00\n"
          ]
        },
        {
          "output_type": "stream",
          "name": "stderr",
          "text": [
            "INFO:__main__:Iteration=611, Time=1.193359e+03, dt=1.953125e+00\n"
          ]
        },
        {
          "output_type": "stream",
          "name": "stdout",
          "text": [
            "2024-12-04 17:21:05,433 __main__ 0/1 INFO :: Iteration=611, Time=1.193359e+03, dt=1.953125e+00\n"
          ]
        },
        {
          "output_type": "stream",
          "name": "stderr",
          "text": [
            "INFO:__main__:Iteration=621, Time=1.212891e+03, dt=1.953125e+00\n"
          ]
        },
        {
          "output_type": "stream",
          "name": "stdout",
          "text": [
            "2024-12-04 17:21:05,461 __main__ 0/1 INFO :: Iteration=621, Time=1.212891e+03, dt=1.953125e+00\n"
          ]
        },
        {
          "output_type": "stream",
          "name": "stderr",
          "text": [
            "INFO:__main__:Iteration=631, Time=1.232422e+03, dt=1.953125e+00\n"
          ]
        },
        {
          "output_type": "stream",
          "name": "stdout",
          "text": [
            "2024-12-04 17:21:05,491 __main__ 0/1 INFO :: Iteration=631, Time=1.232422e+03, dt=1.953125e+00\n"
          ]
        },
        {
          "output_type": "stream",
          "name": "stderr",
          "text": [
            "INFO:__main__:Iteration=641, Time=1.251953e+03, dt=1.953125e+00\n"
          ]
        },
        {
          "output_type": "stream",
          "name": "stdout",
          "text": [
            "2024-12-04 17:21:05,519 __main__ 0/1 INFO :: Iteration=641, Time=1.251953e+03, dt=1.953125e+00\n"
          ]
        },
        {
          "output_type": "stream",
          "name": "stderr",
          "text": [
            "INFO:__main__:Iteration=651, Time=1.271484e+03, dt=1.953125e+00\n"
          ]
        },
        {
          "output_type": "stream",
          "name": "stdout",
          "text": [
            "2024-12-04 17:21:05,547 __main__ 0/1 INFO :: Iteration=651, Time=1.271484e+03, dt=1.953125e+00\n"
          ]
        },
        {
          "output_type": "stream",
          "name": "stderr",
          "text": [
            "INFO:__main__:Iteration=661, Time=1.291016e+03, dt=1.953125e+00\n"
          ]
        },
        {
          "output_type": "stream",
          "name": "stdout",
          "text": [
            "2024-12-04 17:21:05,574 __main__ 0/1 INFO :: Iteration=661, Time=1.291016e+03, dt=1.953125e+00\n"
          ]
        },
        {
          "output_type": "stream",
          "name": "stderr",
          "text": [
            "INFO:__main__:Iteration=671, Time=1.310547e+03, dt=1.953125e+00\n"
          ]
        },
        {
          "output_type": "stream",
          "name": "stdout",
          "text": [
            "2024-12-04 17:21:05,601 __main__ 0/1 INFO :: Iteration=671, Time=1.310547e+03, dt=1.953125e+00\n"
          ]
        },
        {
          "output_type": "stream",
          "name": "stderr",
          "text": [
            "INFO:__main__:Iteration=681, Time=1.330078e+03, dt=1.953125e+00\n"
          ]
        },
        {
          "output_type": "stream",
          "name": "stdout",
          "text": [
            "2024-12-04 17:21:05,630 __main__ 0/1 INFO :: Iteration=681, Time=1.330078e+03, dt=1.953125e+00\n"
          ]
        },
        {
          "output_type": "stream",
          "name": "stderr",
          "text": [
            "INFO:__main__:Iteration=691, Time=1.349609e+03, dt=1.953125e+00\n"
          ]
        },
        {
          "output_type": "stream",
          "name": "stdout",
          "text": [
            "2024-12-04 17:21:05,658 __main__ 0/1 INFO :: Iteration=691, Time=1.349609e+03, dt=1.953125e+00\n"
          ]
        },
        {
          "output_type": "stream",
          "name": "stderr",
          "text": [
            "INFO:__main__:Iteration=701, Time=1.369141e+03, dt=1.953125e+00\n"
          ]
        },
        {
          "output_type": "stream",
          "name": "stdout",
          "text": [
            "2024-12-04 17:21:05,686 __main__ 0/1 INFO :: Iteration=701, Time=1.369141e+03, dt=1.953125e+00\n"
          ]
        },
        {
          "output_type": "stream",
          "name": "stderr",
          "text": [
            "INFO:__main__:Iteration=711, Time=1.388672e+03, dt=1.953125e+00\n"
          ]
        },
        {
          "output_type": "stream",
          "name": "stdout",
          "text": [
            "2024-12-04 17:21:05,726 __main__ 0/1 INFO :: Iteration=711, Time=1.388672e+03, dt=1.953125e+00\n"
          ]
        },
        {
          "output_type": "stream",
          "name": "stderr",
          "text": [
            "INFO:__main__:Iteration=721, Time=1.408203e+03, dt=1.953125e+00\n"
          ]
        },
        {
          "output_type": "stream",
          "name": "stdout",
          "text": [
            "2024-12-04 17:21:05,756 __main__ 0/1 INFO :: Iteration=721, Time=1.408203e+03, dt=1.953125e+00\n"
          ]
        },
        {
          "output_type": "stream",
          "name": "stderr",
          "text": [
            "INFO:__main__:Iteration=731, Time=1.427734e+03, dt=1.953125e+00\n"
          ]
        },
        {
          "output_type": "stream",
          "name": "stdout",
          "text": [
            "2024-12-04 17:21:05,784 __main__ 0/1 INFO :: Iteration=731, Time=1.427734e+03, dt=1.953125e+00\n"
          ]
        },
        {
          "output_type": "stream",
          "name": "stderr",
          "text": [
            "INFO:__main__:Iteration=741, Time=1.447266e+03, dt=1.953125e+00\n"
          ]
        },
        {
          "output_type": "stream",
          "name": "stdout",
          "text": [
            "2024-12-04 17:21:05,814 __main__ 0/1 INFO :: Iteration=741, Time=1.447266e+03, dt=1.953125e+00\n"
          ]
        },
        {
          "output_type": "stream",
          "name": "stderr",
          "text": [
            "INFO:__main__:Iteration=751, Time=1.466797e+03, dt=1.953125e+00\n"
          ]
        },
        {
          "output_type": "stream",
          "name": "stdout",
          "text": [
            "2024-12-04 17:21:05,843 __main__ 0/1 INFO :: Iteration=751, Time=1.466797e+03, dt=1.953125e+00\n"
          ]
        },
        {
          "output_type": "stream",
          "name": "stderr",
          "text": [
            "INFO:__main__:Iteration=761, Time=1.486328e+03, dt=1.953125e+00\n"
          ]
        },
        {
          "output_type": "stream",
          "name": "stdout",
          "text": [
            "2024-12-04 17:21:05,871 __main__ 0/1 INFO :: Iteration=761, Time=1.486328e+03, dt=1.953125e+00\n"
          ]
        },
        {
          "output_type": "stream",
          "name": "stderr",
          "text": [
            "INFO:solvers:Simulation stop time reached.\n"
          ]
        },
        {
          "output_type": "stream",
          "name": "stdout",
          "text": [
            "2024-12-04 17:21:05,894 solvers 0/1 INFO :: Simulation stop time reached.\n"
          ]
        },
        {
          "output_type": "stream",
          "name": "stderr",
          "text": [
            "INFO:solvers:Final iteration: 768\n"
          ]
        },
        {
          "output_type": "stream",
          "name": "stdout",
          "text": [
            "2024-12-04 17:21:05,898 solvers 0/1 INFO :: Final iteration: 768\n"
          ]
        },
        {
          "output_type": "stream",
          "name": "stderr",
          "text": [
            "INFO:solvers:Final sim time: 1500.0\n"
          ]
        },
        {
          "output_type": "stream",
          "name": "stdout",
          "text": [
            "2024-12-04 17:21:05,901 solvers 0/1 INFO :: Final sim time: 1500.0\n"
          ]
        },
        {
          "output_type": "stream",
          "name": "stderr",
          "text": [
            "INFO:solvers:Setup time (init - iter 0): 0.297 sec\n"
          ]
        },
        {
          "output_type": "stream",
          "name": "stdout",
          "text": [
            "2024-12-04 17:21:05,904 solvers 0/1 INFO :: Setup time (init - iter 0): 0.297 sec\n"
          ]
        },
        {
          "output_type": "stream",
          "name": "stderr",
          "text": [
            "INFO:solvers:Warmup time (iter 0-10): 0.05371 sec\n"
          ]
        },
        {
          "output_type": "stream",
          "name": "stdout",
          "text": [
            "2024-12-04 17:21:05,906 solvers 0/1 INFO :: Warmup time (iter 0-10): 0.05371 sec\n"
          ]
        },
        {
          "output_type": "stream",
          "name": "stderr",
          "text": [
            "INFO:solvers:Run time (iter 10-end): 2.286 sec\n"
          ]
        },
        {
          "output_type": "stream",
          "name": "stdout",
          "text": [
            "2024-12-04 17:21:05,908 solvers 0/1 INFO :: Run time (iter 10-end): 2.286 sec\n"
          ]
        },
        {
          "output_type": "stream",
          "name": "stderr",
          "text": [
            "INFO:solvers:CPU time (iter 10-end): 0.0006351 cpu-hr\n"
          ]
        },
        {
          "output_type": "stream",
          "name": "stdout",
          "text": [
            "2024-12-04 17:21:05,911 solvers 0/1 INFO :: CPU time (iter 10-end): 0.0006351 cpu-hr\n"
          ]
        },
        {
          "output_type": "stream",
          "name": "stderr",
          "text": [
            "INFO:solvers:Speed: 5.749e+06 mode-stages/cpu-sec\n"
          ]
        },
        {
          "output_type": "stream",
          "name": "stdout",
          "text": [
            "2024-12-04 17:21:05,913 solvers 0/1 INFO :: Speed: 5.749e+06 mode-stages/cpu-sec\n"
          ]
        }
      ],
      "source": [
        "\"\"\"\n",
        "Script to solve the time-dependent advection/diffusion equation\n",
        "\"\"\"\n",
        "\n",
        "import numpy as np\n",
        "import matplotlib.pyplot as plt\n",
        "import dedalus.public as dedalus\n",
        "import logging\n",
        "logger = logging.getLogger(__name__)\n",
        "\n",
        "# Set parameters\n",
        "U0 = 0.1 # maximum current speed in m/s\n",
        "w = 10 # width of the river in m\n",
        "L = 50 # length of the river section to simulate\n",
        "kappa = 1e-2 # diffusivity in m^2/s\n",
        "S0 = 1 # amplitude of the pollution source term\n",
        "S_w = 1 # width of the source term in m\n",
        "S_x = 10 # center of the forcing in x\n",
        "S_y = 0 # center of the forcing in y\n",
        "S_t = 1 # forcing timescale\n",
        "\n",
        "# Numerical parameters\n",
        "Nx = 256 # number of gridoints in x\n",
        "Ny = 32 # number of gridpoints in y\n",
        "stop_sim_time=1500 # end time in seconds\n",
        "timestep = (L/Nx)/U0 # timestep in seconds, calculated from the CFL number\n",
        "\n",
        "import numpy as np\n",
        "import dedalus.public as dedalus\n",
        "import logging\n",
        "logger = logging.getLogger(__name__)\n",
        "\n",
        "# Bases and coordinates\n",
        "coords = dedalus.CartesianCoordinates('x', 'y')\n",
        "dist = dedalus.Distributor(coords, dtype=np.float64)\n",
        "xbasis = dedalus.RealFourier(coords['x'], size=Nx, bounds=(0, L), dealias=3/2)\n",
        "ybasis = dedalus.ChebyshevT(coords['y'], size=Ny, bounds=(0, w), dealias=3/2)\n",
        "x, y = dist.local_grids(xbasis, ybasis)\n",
        "ex, ey = coords.unit_vector_fields(dist) # x and y unit vectors\n",
        "\n",
        "# Fields\n",
        "c = dist.Field(name='b', bases=(xbasis,ybasis))\n",
        "u = dist.Field(name='u', bases=(xbasis,ybasis))\n",
        "tau_1 = dist.Field(name='tau_1', bases=xbasis)\n",
        "tau_2 = dist.Field(name='tau_2', bases=xbasis)\n",
        "\n",
        "# Specify the velocity field\n",
        "u['g'] = U0 * (1- (y - w/2)**2.0/(w/2)**2.0) # parabolic velocity profile\n",
        "\n",
        "# Substitutions\n",
        "lift_basis = ybasis.derivative_basis(1)\n",
        "lift = lambda A: dedalus.Lift(A, lift_basis, -1)\n",
        "grad_c = dedalus.grad(c) + ey*lift(tau_1)\n",
        "dx = lambda A: dedalus.Differentiate(A, coords['x'])\n",
        "\n",
        "S = dist.Field(name='u', bases=(xbasis,ybasis))\n",
        "S['g'] = S0*np.exp(-(x-S_x)**2.0/S_w**2.0-(y-S_y)**2.0/S_w**2.0)\n",
        "\n",
        "# Problem\n",
        "problem = dedalus.IVP([c, tau_1, tau_2], namespace=locals())\n",
        "problem.add_equation(\"dt(c) + u*dx(c) - kappa*div(grad_c) + lift(tau_2) = S/S_t\")\n",
        "problem.add_equation(\"c(y=0) = 0\")\n",
        "problem.add_equation(\"c(y=w) = 0\")\n",
        "\n",
        "# Now, set the solver\n",
        "solver = problem.build_solver(dedalus.RK222)\n",
        "solver.stop_sim_time = stop_sim_time\n",
        "\n",
        "# Create an array to periodically save the concentration field for plotting later\n",
        "c.change_scales(1)\n",
        "c_save = [np.copy(c['g'])];\n",
        "\n",
        "t_save = [solver.sim_time]; # Save the initial condition and the initial time\n",
        "# Main loop\n",
        "try:\n",
        "    logger.info('Starting main loop')\n",
        "    while solver.proceed:\n",
        "        solver.step(timestep)\n",
        "        if (solver.iteration-1) % 10 == 0:\n",
        "            logger.info('Iteration=%i, Time=%e, dt=%e' %(solver.iteration, solver.sim_time, timestep))\n",
        "            c.change_scales(1)\n",
        "            c_save.append(np.copy(c['g']))\n",
        "            t_save.append(solver.sim_time)\n",
        "except:\n",
        "    logger.error('Exception raised, triggering end of main loop.')\n",
        "    raise\n",
        "finally:\n",
        "    solver.log_stats()\n",
        "\n",
        "# Convert the variables to numpy arrays for allow array slicing\n",
        "c_save = np.array(c_save)"
      ]
    },
    {
      "cell_type": "markdown",
      "metadata": {
        "id": "ZRi5b8TZsR2q"
      },
      "source": [
        "## 2.2 Visualization\n",
        "\n",
        "The script below makes a movie of the results from the saved variables. To run this, you need to have ffmpeg installed.  If you don't already have it installed, you can install ffmpeg with the command:\n",
        "\n",
        "`conda install -c conda-forge ffmpeg`"
      ]
    },
    {
      "cell_type": "code",
      "execution_count": 23,
      "metadata": {
        "id": "3BJacG03sR2q",
        "outputId": "77485b54-286e-45c2-ab22-579396a657d0",
        "colab": {
          "base_uri": "https://localhost:8080/",
          "height": 889
        }
      },
      "outputs": [
        {
          "output_type": "stream",
          "name": "stderr",
          "text": [
            "INFO:matplotlib.animation:Animation.save using <class 'matplotlib.animation.FFMpegWriter'>\n"
          ]
        },
        {
          "output_type": "stream",
          "name": "stdout",
          "text": [
            "2024-12-04 17:21:10,974 matplotlib.animation 0/1 INFO :: Animation.save using <class 'matplotlib.animation.FFMpegWriter'>\n"
          ]
        },
        {
          "output_type": "stream",
          "name": "stderr",
          "text": [
            "INFO:matplotlib.animation:MovieWriter._run: running command: ffmpeg -f rawvideo -vcodec rawvideo -s 600x600 -pix_fmt rgba -framerate 25.0 -i pipe: -vcodec h264 -pix_fmt yuv420p -y /tmp/tmp_m3hwqa9/temp.m4v\n"
          ]
        },
        {
          "output_type": "stream",
          "name": "stdout",
          "text": [
            "2024-12-04 17:21:10,980 matplotlib.animation 0/1 INFO :: MovieWriter._run: running command: ffmpeg -f rawvideo -vcodec rawvideo -s 600x600 -pix_fmt rgba -framerate 25.0 -i pipe: -vcodec h264 -pix_fmt yuv420p -y /tmp/tmp_m3hwqa9/temp.m4v\n"
          ]
        },
        {
          "output_type": "execute_result",
          "data": {
            "text/plain": [
              "<IPython.core.display.HTML object>"
            ],
            "text/html": [
              "<video width=\"600\" height=\"600\" controls autoplay loop>\n",
              "  <source type=\"video/mp4\" src=\"data:video/mp4;base64,AAAAIGZ0eXBNNFYgAAACAE00ViBpc29taXNvMmF2YzEAAAAIZnJlZQAAcXVtZGF0AAACrgYF//+q\n",
              "3EXpvebZSLeWLNgg2SPu73gyNjQgLSBjb3JlIDE2MyByMzA2MCA1ZGI2YWE2IC0gSC4yNjQvTVBF\n",
              "Ry00IEFWQyBjb2RlYyAtIENvcHlsZWZ0IDIwMDMtMjAyMSAtIGh0dHA6Ly93d3cudmlkZW9sYW4u\n",
              "b3JnL3gyNjQuaHRtbCAtIG9wdGlvbnM6IGNhYmFjPTEgcmVmPTMgZGVibG9jaz0xOjA6MCBhbmFs\n",
              "eXNlPTB4MzoweDExMyBtZT1oZXggc3VibWU9NyBwc3k9MSBwc3lfcmQ9MS4wMDowLjAwIG1peGVk\n",
              "X3JlZj0xIG1lX3JhbmdlPTE2IGNocm9tYV9tZT0xIHRyZWxsaXM9MSA4eDhkY3Q9MSBjcW09MCBk\n",
              "ZWFkem9uZT0yMSwxMSBmYXN0X3Bza2lwPTEgY2hyb21hX3FwX29mZnNldD0tMiB0aHJlYWRzPTMg\n",
              "bG9va2FoZWFkX3RocmVhZHM9MSBzbGljZWRfdGhyZWFkcz0wIG5yPTAgZGVjaW1hdGU9MSBpbnRl\n",
              "cmxhY2VkPTAgYmx1cmF5X2NvbXBhdD0wIGNvbnN0cmFpbmVkX2ludHJhPTAgYmZyYW1lcz0zIGJf\n",
              "cHlyYW1pZD0yIGJfYWRhcHQ9MSBiX2JpYXM9MCBkaXJlY3Q9MSB3ZWlnaHRiPTEgb3Blbl9nb3A9\n",
              "MCB3ZWlnaHRwPTIga2V5aW50PTI1MCBrZXlpbnRfbWluPTI1IHNjZW5lY3V0PTQwIGludHJhX3Jl\n",
              "ZnJlc2g9MCByY19sb29rYWhlYWQ9NDAgcmM9Y3JmIG1idHJlZT0xIGNyZj0yMy4wIHFjb21wPTAu\n",
              "NjAgcXBtaW49MCBxcG1heD02OSBxcHN0ZXA9NCBpcF9yYXRpbz0xLjQwIGFxPTE6MS4wMACAAAAP\n",
              "4GWIhAA7//73Tr8Cm0WXagOSVwr2yqQmWblSawHypgAAAwAAAwAAAwLa9HiTO+TU8TYAAAMBBwAo\n",
              "YVMRISAUsbwqBIiSFwOM2zAH7Mfnl4kAoCjb52TJceI7LMwtYO8mo1dXqalPZBOWairsF1cuClW8\n",
              "2qIbZjPp4sHlZSmT361wHAJWxCinv2uD7IEEjDLx/N9fBzMI8rze6JcJvioUCPbugZSCW+2RujFA\n",
              "lxeAbvjBHhoYiBVv009DlPzvssS4XAMHt86VdukzVizVDOTTLyFxq8/5RQo2LvmBRpq9ezISkAUL\n",
              "wo1ct1k0jlbzpIQV+C8ixKnXAyvu8kaywN9pRrQGPm2hJIHiOOI2WNC7npcpyozNVRTVMmoDOiUg\n",
              "jbWIkVy7SOs1rfNWiuToMyPK94W8O97MOwGLHaZ2g783kJnKKvetUixK8wjmeB0DlaTo75kgMUCQ\n",
              "bBgPmwAWvPaAG0TfDk2Np0FmcOuLtNjYqxnFsLWSpFFslZRhJ7ucf3dC/fkVCBqKVuaX2S6M9tRg\n",
              "xB8YC1nm6RA1xblNUCgvNRN8evx7KRdTEATDjm0YKtHjTi4HtzuT26ZuP48EkYokn+zPql8np3FG\n",
              "Io3wa4Nm8MIbyQBzT71le6EpaElowKh4X1xT2BgtWra1aqW59AjVxYaFxnnCkWjIFmFxwPJ2JrKt\n",
              "tr7N0WNl20VtxoqX0jNoc9K1L2xdspSn//W6K6rSQRm88z5N2HVzBjEXC0qEbytgo6E/uRrccabH\n",
              "CcEOq6sAztsBiaRKdcDAOdINCxnshplb1NcQSCRXNLyPAHt7Iso9gQ6Q+6Naw+xyS3cW7pc6dOHI\n",
              "6cI1C72+ZJvbVa1zKyqFsJml51+qkN9IYGNTNR3i8aPzHjkutZCeeN26n/6Tqmewg86r4QH8HTqD\n",
              "ysOchUc5xmsePoqBuP1eA7mcReANwxIWBz/532O4QZLIRDUvNsQPZ5G4pDzDJIxtx7YptJZXnPxI\n",
              "AANtzY3QkGpyzs+E6zpeuwsLG4aVQGaZ99CcWQuyW+RGj9ORKXeRrpN4f+MP1IgRi+4YUcxZyqgF\n",
              "Cqm64moeL73ngIqTFExXRvVBIGS9CKXhcuEQnotxVuS3/9OABpqufPv08tbboqe6PYV32lPo6FUM\n",
              "IYgmd4nwfafwThVe0ToVZ/RCHgncftdVbsF+IVheEwd6w/hGqw+qKXk8/bNWb14VedStI0AIQtAT\n",
              "/FB6+yFgTpeRqdTnT6G9VTYmPwJua8JgGn/s74GdZYeKaMvU11xG2W63siUPPvxGXTghErzAhNq2\n",
              "M8om7nYy6lZZ6PkYVKfX96kfi4DLQbL7qb7xJfElt7JdXwzm5Gr+Oh1Wp5mAiJxmFhdmn33FwwJe\n",
              "vSZE3nYDWrAhbyU0DzG2gyEQHtUimRPE2I69ZHjlbqBIsiPJKpKSGc1kBCY+I1Vj8sI5rSb8Xn+9\n",
              "R9j3uxuuI+h42nwq+bwrcI7UIay1tg48gIHo1iPz9vIebUxCvyI9gUy7SSuz+4clWTCM06ZqKnE4\n",
              "JinxX7zbLOxvtEHLu+yDrOY5wk9mYzg6v4IUF3BiwtLmgz74MksVpGAZuZnLYDW4soNpzFLkqd/s\n",
              "jNCJP4/9yGKpUE/mC4Kza33tsfw+WImnF7dBdQtZ/wDay/SFhFDBFRHNT3mHsyzn212bkLiHc07F\n",
              "ADc1yuE9xiqKILVZi2pkzpQ4t7iGX1wOwf95TySl6DyNHUYgeZHqdASjDGjOTGC9G4wFmtf3Z1Qd\n",
              "AmxHk/KKD9P1WLhfMsweTJenTmQj9sQsSVSu0YM7oBEi1H1Ago8JfarwZA80iRXWi4HYQk0vX3Ww\n",
              "2L4lUA5Pe3OWahYIWG+VkYqsltLXI/5h7DeTQ1Ie5aCHaP258cUdy4hkeoRDyFF0zv4yxBB1guj0\n",
              "HapaO7xRPUoHX3pu5W/2eDD8VpnVi3orcLDd3F8TeVnf9dmrB75JKGC2VZWMGvOXJsYsmvu2kiPc\n",
              "kelQEGmJ3/2MGb0jo80HkAt+z8fBX9NCm+N4i3rv0KKXKJmqGsrrz9li+urAt6GzoWGE21f12y2H\n",
              "1XUVHWuJ7r/mUFvmmgODfdPHmNxjnEjtlw9ux7h65MM6vNL8WwYGJLNjz+Q4gBdRgNxFfKzI4SSe\n",
              "BOFUGlrnE/+UuSbd3Jb2FY9Z5uUOWcf+mSHb7RTao1HSVkaXJNmK/89HagW6LFWhmkv5QOsDwMVE\n",
              "joo1rW7ndEziY6YsOsho264YelUelKcJ+vpwgHLtC9sxHnMA/MOXFQGjcpCGRdFdlUplDzgYZlIz\n",
              "AwNXDHe31lVAIZ7fiO5y3IMBNsY1Ly44MYJlpegPsgAi1HRm88p64JCqfVmPLg6u1yOuX/h02wAz\n",
              "3ePKwUGxgAO6KA+Bhp+SFDETVtwZ9ICocMkWcHH/QpcsDY+dxwAbL7qoLhcLIz0/v4C66ce4W5c1\n",
              "C5Bjsnof9MwVpoL1+K+UyRzuynspXE3o6poucwjjXlrekP4OhAvtH1WRVTGPKIbc9rbeL9T6bDzL\n",
              "jNTivGBmWDuKaTvfitweBoAxxsl0zl9JH2hQszBjZprNoZRHTYz/pxTDwiCMwJZKsTSxeJbuf9zN\n",
              "N54RlCzIlZ0NQOw3Xydlay1kxaSd591fYBtGRbybz/YxfyR62HHYyugnJ4cHLRKSywbNvbdbvyaP\n",
              "wKJ30nJEUuJYPzhg8ef10iFLIfNMUda3Yb3JGCWWGCx+sUEYtt3P/dNwTjUDipN18ELea5RqjBVE\n",
              "LR27XYWk9WDs6a8+B1BsklP/BKwF68e9U06WeLfT/kxLDM/TpkVpGMyoqwp745lPsneo8XfHxW+V\n",
              "dZXDewpZCG2kNhYwQj4ubkgTPNMzl4pLbr5TEO2nArt0h2qECUGzJ1LbP/4/cslWpC49akpppIdw\n",
              "8AmUakTlm0aVet+XKt/zDvqHVKVOp5w8Fh7910c9QBF7MZQPITSq+wr/9rz2oYAXhl6xAABkOVMu\n",
              "Bt9/FxY2PJk1KPp7uCwEzHyxXcWihgr+kuXydnNuTq4BuL27ACHZfwMRnMJFYwZZMrgAWg4pq8pR\n",
              "1fbZJwoXNcOMQSRGxe+R7anzJS5pv9+FoODj3Qe/FYN7i2+ltFDZvjLvH9yM2QHVNpswk7RJ1YsG\n",
              "dXlZEaxheJ1oWSLBxCuc7wGGzQBG7FRLfegmcEaAyosaJ3qsN75xUbHWjfpGO+a2AOPCaSpvMeT0\n",
              "jP3A5YPaYYtC/wey4EZiX10FewDvNXjQfdEPrnpmbmu/ABVKiAIpiibnOeYbcDvwsNuI8U1z4zNX\n",
              "IjtAUXLIQ45d7Y2isUfmgtxkDo7G6ox9XXg/yub6+RSD97Igd3vauKgA+YmAqZ+jTvnWrZ8S16Jm\n",
              "73UNxXOqocW3gVx1vzMPSvf5QBVYf4hczpQfaRQfNBAVICT9W4ktBQjnGem6mDybLLMU6LdcWSiX\n",
              "NaQ/jGLOs7+gQ8ay+OwH0paLfFG/eIUZy/uAAAcPGZiGL41hYDf5BYTMwL0vl+tv5SOrg1VmvWu1\n",
              "5GIteSepYkEM3IVCKRipvglam53PSJNAAA6TPCa8eksAGolLk/0/WCpZ8xS5ReqcJ9nlWJg0JebP\n",
              "6ulnv9526Yglo+qgXi4a3k8uJu+5XL8oWP1dmFI4ZJM30a2xubUXNv9+0M6se6nf28GkUiJ/GT6N\n",
              "qHqrLebgO/n5dBWteZEIVn1WvmrNe6QB+LZhWQ7J2o/n+E35FJP08AoW9wrahcl4pc5mOvzFZWfi\n",
              "h07jhyQnpQgY++HBX0+PMRA9Dun5RBsJwr4K4oSp+SMHGpU3Xjb7kL93GvPYkh7YY3egkLRXklKg\n",
              "1Ot2Z88u9YcxDN5vNs/6nVHSdlX8SHrfgmndLud3vyLFzZBobdvCbgorvRE4zJJtNOgOzCTwY6tv\n",
              "rz7rj9fKcZ+oWGYm+yrTAGITcUl2zCkATmqB0VNsBiSdHZ8bd/+oKvglV1j6nZQ115B3Ubm/Lyid\n",
              "ahdVEwWq2qhz0kSnWrFgZcOjqea9voLBcofAEv1RgKKomU0RynAb6WXCYa+tgna7zN5/dGW6o+nB\n",
              "Aq46m2/7hQ3AvRkh30zlDkkuQ0PVYqU8vl8Q9W3ZHlviK8T1QyXW+UZVoZP62rGL1upT4rMtW038\n",
              "9znxmx0q+8VHB40S/vdW+wojyQ0a2zoS3q8C9NREpDtu/LyZgwqWfeZNcE+q82MauFHeeJ4fURa+\n",
              "fVH5/VIZkHtWgvKi5WtejCbW+rAOF+D4+aXMJZdlqIdNp2Q0aqPsXr0kI/L0++6Jaw1A6sMWrZee\n",
              "NhJ6LLPH2SUWX4h86ha+l/Gh2OZ1oz3Y+eJLeLFga3uSI2nL0CILwqH8RfAWpumvw7uKKB81buYH\n",
              "IG0XBJ8RxVh+ZEi7LkuAGOPnQSCrHGKQYXTiUa8fJiRQkxgeHzSCq1wPzoT+s2ozYfT/OFiogQ4K\n",
              "UbOkmjBhFCY4G+6mCa8kjlngGt5maSdPbPDhODKbbqirKZMV55EgUGvTLEnVEWTs6VP5F0czEIQ4\n",
              "jKSwqkCtSLBpacwknvy2P5hjBwrVKNtisY4o4YW/UlthgNt4QkWZvo8dl7BurScpqCJyJ+53Uref\n",
              "o/zBidBnCT2ddcdXhXqv41u4dH4qMRReRsIuFMqCLlPyIX7XHgiGxd/gb7nQaC2K7Tbb7gIcPdF6\n",
              "GLGddbcoS+tWPu0bs7DaixhK+qE4zS6rcEkN9e4yPq3T8k53pL6gbWQFS8ytekrElEPOnYLumtV2\n",
              "ecdunjw1Njges9bYQwPGCTs+4CdT+HwHce6PAZ23ydknfg5qQEdTbuf1AoiK0+2sWVQZQyQPEM6V\n",
              "BTpqHwMmT2KRKeecidWj+iwJqGHTefIqiR6T8Zg4WCfaCHdoRi/ZWY0wIfWEmPlaOWCb2bq5HXSL\n",
              "zppwVoFXPvTulO22ydsax6vXnCNtAZ+i7YSSktfMSPQepPi+kRPBjKhd1PXNyyCHiN0lIrGeMtW3\n",
              "4B0v1xx484vLWNwpKGLZJRXR0BbyeDtb9v6rXIp0Zmn6RiHLD12L2NId695gS+ExriCLl2qftY40\n",
              "xyxjvC4D03yvqHjELuV4jYeC0zQq4Apxkxnjv/ZH7FvooEHJsAV+yDmv86lSkVjRLMEhjhCGBX7T\n",
              "wFCOk0JbZAt2crH3MpMrBrGPIwkmsGYOOZSpAC3ecM7/Ipce28D60pm/fckACLetpklsnskefvQP\n",
              "iHamZFGgWYq8IjeX5emmqiXve2bWlF503nGiynq1kE+Uiyup5ws52j67L5p+7POZeq3VfGBdIZqb\n",
              "kPiSEzHJv0UnDoFAhx5KYa/DExGQLvKhTmtmr4ECYX+Y0iNF3pNkT1xBPdJU7VGahdYRvb3VMqiz\n",
              "CTLILQGibmMo4fsmJel+2uncI86aK/UgU0rLWwGcCxMQpFrgOaMAAAMAAAMAAAMAAAMAAAMAAAMA\n",
              "AAMAAAMAAAMAAAMAAAMAAGNBAAADk0GaJGxDv/6plgAAAwA6RqnBEtw2+UcC/NMLcYWKm6uIK5Fp\n",
              "l1IGACIM0YNSATa1Xtb2F0K0Jz3BvIHDkdWS0IAhPmYFwdzKcqBPXmqvVXcKcycuXE0S9Hn+AEXw\n",
              "sqURDZTwtyX1NvZFRNyHzLE9WmPJwToY3w1Hg//ql95/t0PDqo+2bhtmOvb2Zo/AAFi4+n8OC3zI\n",
              "kMc8vLKGK471tLQ6jasvVFZZ2upTP2jxsvu7mgvxPUcnSuIIp0VVWWZUkoZM40kVfbsfZTpHWpcC\n",
              "c+cL1sMT3czYyvpgTOgvaxrBdj3bTF8zPE/91uXl8t0NIOHAz68tXQAwcarEglsvL6fIJM3GVuN0\n",
              "JeXOu9lRZ+n+rcsuiXJXEUfh48af9oGE/G+t85fpXENCNEvhwBsLp70VPtO6GBEo45zTaVbp2dYu\n",
              "6RxS0q0PN8vN/Wg6CPc+G3FAxbHarEQIev4a/MqDvBlrU8i/vZlpXy1YEvEdpmSg5KV63/SHgo7z\n",
              "XIt7MMSrqo/Lj3KeKOmWFQ6GihtxcS4uNR9W9oOxCMMmDFJaAHlOqE14oIHOHei8o03bC/6EUgp0\n",
              "j8sH+xe6fhPjLa6nI5FomAxOulAdqrHEqO9cpTh+RZDGq5Xif6HZvcHU5TOQHVb0ZlRcWMDR4qS9\n",
              "mFx86gRXm3SK/olEDh/nTUi5M5GIEb3nnslHL9K74Uvd+RRR3PkOs8rl77qpo4gv39gVD/IalgCk\n",
              "bQA8iukEcf5EZo0/hFt5Rom6WVwj9jdLNPGsvEX26XuRQTzBiZlFtRsTOc9ZoPZE8ZWQcl9WiWg1\n",
              "axThkXrsH6uoU1HB/n6Mng2wOLrk/+wDYJPn9a7wrfPuf/ABF5Wh/FU2Roy3QgwOH6nNCswDnTTu\n",
              "FPXClYp8t03hmttW8TAl1HAEb+WoNbvBS0cpT1cj1RlfKY4ugm7wKTEOxKAf8IgXDPkM36/Cy2lZ\n",
              "NbjCeqhDE2bxKkOi+YKq8wsS5J8PqDt7brC92laJxGAUv6tNRR7xt2PGWAgyJy/01i6SyJ3zxSXI\n",
              "ZAE9yCCbFn8AG11wOeASoCQO30JchEJIAL1aPbccmS1SEPVQzcys6DvLArTsoYfyaHQXmYy0jipP\n",
              "zmDnbdmaOCDSIV7ZLWI2AItPei3Wpne+jgYsPiF8mM8Nn4YuNnZuhZtRJ4Lo0QEt8LMSXAslzJLM\n",
              "PJwk+t1qHs98kRWzmaRy7bsIoyShSouRgAAAAYFBnkJ4hf8AAAMARWS1VOkHzLK0LEtojgBo6O3u\n",
              "+ACcdssqeo2X2Iqxq8VS3IjOYs1JLztrJe/3Qn9C/vqlBcgZ7ZzLjbRmY+onEHxmn7ozj0Rnr4hb\n",
              "ruc4Duk4zTn+I4nF0Vd0A5vjstDFwfogIcVJSbpct3XfEMwiesopWLyfC78fZMVR0pmF/bS1In1p\n",
              "bHmgDyFo9ttR1TpobOboHSxOl9WzQug6vx3i+eaGWk9vpcw7prVIQQMiwBHP+3K9vXJHNaGm1I7p\n",
              "DY1xCv6/j8MJP0wdUPXe9fr5zEmhqCKPw++8xu2mEysg/5AsEaf7WTFXAcHhZ3jQBF5QiXRumYCV\n",
              "25VYqvp3ekOJeJQ5p+Yn7VlRDRU0Eys/gt36Lj8giJRUzRIqsctU0hva9noltGmq6qXugtz2tBAk\n",
              "OL5gz8SoQ+3WLNm30mG+4qBah6ZXGzqzfAxlR4ZgiyQfP9RN7TqQ7oXKjdLZD3tXd5cIjriuVRQQ\n",
              "Veig5hoPzPymOSAAAD/BAAAA5wGeYXRCvwAAAwBfo3/PJG3pow8DCWbgAJam6ifXm87eGT5Y53dQ\n",
              "y1tKMqKd/3zorXv1s6OLXOo9VGIjKaTkfmWDX5gvwrlHsWJy24NrcGi+GVEzbxqdJaZptO2k7U2x\n",
              "9wG7Oif4JD1lOWwIZM2Aykzid+Ii4qkq219K2D7sk5HmxPz724H5cWenK7i08LPMnmRfN5PwcuHf\n",
              "efAhiV7hdMkDiHbPLliUB5ptT46z7df0q9sgNAOXtnZV8mQmcP3/IUyQmyD4C2tvYX/RWKRlJ6N6\n",
              "Y7YQ2N6cIdygzGXxW+SxCu90AAA1IAAAAOEBnmNqQr8AAAMAX50MqMYxOvHT8FthF1BP5+AAfBS+\n",
              "0Qows2NMFcW0z+fza3M8hR4jgPFa+KGkqu1CvgRmM4N4tQTuebiJFs2FAUBvIlCuMK3bcuW6Gwpb\n",
              "YFXFcD2xMddFWwAsufrS4wtRz8C89nek7YVJUWFgGaPXK4U5EYVRVN8UBa7WuDnXJedNO68BFUAe\n",
              "BKz/fceaQS1VCHXI+qKNbb6FkfzrfYy5SNoC/8dvorx+7DZoIHFzHF207nBXoRhrl5HaLW9bJF2Y\n",
              "UMkGZm4mgtUt6RaqIOb8A2bUBAAAMqEAAAMHQZpoSahBaJlMCHf//qmWAAADADpDhTAOKerRj5KF\n",
              "7dk8KRq2BRxaZ7z4DFLpk7gBLkvqpXCutFnWbcQTIY36PAFibGsk5wsd1kUQf5+/4/IkOB0ZMGsr\n",
              "OUwNFoVgSJRfLG4iBVmIX5wNzy1MHML53MM5n+pTaeHRtvhpEIsQ0M7mFERMLecdFlb80u0lYnqM\n",
              "OhVD4dS103ZTisdJ58pMx+lMhl4pRJPPJ4UyR+BjegcBAGA93HX3JEeNBXVAKMNVCoFN0e0IycCP\n",
              "B09HSpe8XbvrZkEIUFxrJ1i2FLWD7rb2b72wy8tukxgxw/mKkerb+dZhn4pOBvav2153sD3cBv0R\n",
              "kY9A6N+qTJWEu+eBcf1eugG5QL9YkSsbWJ+y5T/BHsP0jLM4JBH8xnsbWgbm3f3NFqn3z05RFZe6\n",
              "pidEMKXeMeQ0tJzu6vDBlMZxD9hVXFcZEZRCz7/fovr2RxMLC5/IZBfTHb2Yh/mZ3tFwJnX2/OBX\n",
              "MhvOl3+PrruIwTJ0XpdLJ5u8rRh9WT+AceuPEMEac7zY1AyZ0i/B9/l32r+xmXxaXB5NYQj94hUJ\n",
              "ahnTTEq7sOc4bPXO5f9eFHqtk8Cc4y/zEwv8q+14avOh+IF3JiCSSamlF4GPDDa2n4cWwBfYUKaj\n",
              "GaLo+A+g+Kno3E8SBgzQRUu07CA/ICKAodWx07h1agXOXH7eRbov3eQyap9cHGjgx6HPrySzdyY5\n",
              "UI1ofg+pk1DnrKGSHq1YowENk9Wx//rjaOkGyrJF5FwzmydMPdD4qg1f7dW6IMTOJUFSQF+fPJfU\n",
              "/yk+RDa3Dhz+H+P/bnqQdt662vqTPVnmsId7XNzdW85bPvqaQwEwAjXpuvjh4iKlteftCf6RAO2y\n",
              "cQkqaHqRQvJuR9W+0Az1tnLEkiKoEemKGz/ncHBSojyAvduUZ93cYVfCXKCytJ7yJ4ZOC4j7JNrF\n",
              "Xi+DYLISFk2vkkBZX/X9FOJ6QG8vSN3+8zPdy12vaNAfqzarpImlUG4PDB9/8NzXqf/kZXVtpthy\n",
              "yYAcMQAAAQBBnoZFESwv/wAAAwBFfOCEUFbPAhNEZRUJxDsCdAABOyz+prXKrmFhyiy6hSzi3ew/\n",
              "BWpLBdMpKzFaGCQEhBq4Be6PUmemJ9Aj8nEm0B99JMbfi/M1nacEFNbeCa/bUc/tzrq+nG5+F/0R\n",
              "sFjHir9L+iypxG/v7/vYXk7j+1SKXc/0YcDFYQ/ij2ar6V/NHrGrFM2UPVIloCg9j5YhzQ8K32ef\n",
              "rW41nKYn1ied4AtGEMK4MxRQvbzPsUc6DT5BiX3ELkB0+9sTiXWRC2RRsrk07SoNJCtWOOfGkq2n\n",
              "LiwHSOC8E25zb4Jqk9ew/QBDhSvOQYipdGKrcLU1zgAAAwH/AAAAwQGepXRCvwAAAwBfo3/PJG3p\n",
              "ow8EBn/ABEBonS0D5wADltRxx/+7UVyBfo5Lrky6uideegpCPGkDNGX8TmC0p+n19yKQjjMYpvPA\n",
              "WisVBYqnLiDaFIe0nvEqnVKgCRyu1NsG200ECE/7S3JlSAFGnptsmD+47mOR4l3SWIvHVqMVBSGa\n",
              "a6Hw0SL4I2vwwyEsrfE85ynwaI+Q+WgJ1raK6/MAQW85ZNnCbcmf7TcWiHoe/aanQRbIwEqRstkA\n",
              "AAMA/IEAAADhAZ6nakK/AAADAF+H+62J0V65Vvkc2QARB3VfL2/Z1Y2Dxe29Z6ocBamHRYVpgqd4\n",
              "/0B5zkc7XK4DVVD8yMqa53TeHT0GBy5JdMc7g4pzz536L42zmAYu9E2cTBsJyBZVlV1QY7an1d3G\n",
              "SvPy++WXJzPmthRmvsYGBgaMjitQqHlYKlcDzK4GJzddD/oBJzu75JMc+gsU6OimGtWCIMXLCKol\n",
              "msfr8MN6VUGCeoui0q+JVCxLVbVlLjYQCvs3PPWtqXxl62+yUCYtjM9TRxL+Lv2wEGIAhT5/nlw7\n",
              "h16IAAM+AAACEkGarEmoQWyZTAh3//6plgAAAwAroo1IvSgAhK0j3zChkAHpt96Hav4igmQZMknu\n",
              "n3m4Vf+8Aew48eA2D0YfZfT5hKlmxJo+5Bi6xZ6oIa5mbvZqOwTXp2h7kwcjJavDO4Q4b6f/f5Tt\n",
              "E+7OtFOZ+Wx/WU0BQEJIAocdhmn3otp7pDmoqdBB8qSxKQh3L70zZY43H5e/DyCEyPvfjUkHsNgc\n",
              "Z/QZ6c0ygom+VvHM/o/V7tBB7LIxX5Nx/+mLWulMDfkXzeOpzg4DdOqnXjXYwiuIrTFCAKkzCppF\n",
              "GHm5rwHam4IHHCl+mteWtb9kQ2/gE5t75XEyc4ge7dDqQbRPGRQqAWnt0kujn6jo58f4mILarGs1\n",
              "MyCgDmgHj5kGDhcoCJtlqvgkeRSPw+XFq8PPJ/Ztsi4EYiP1xN48T2lT3NJ5rLbMP4x4d/UFX+Do\n",
              "q2okrdfn66WssNz5JJBh1+0Gq7nMFOgESJIv0LepnrEzPCfUseWyCw8Qf8I4CgmLrrALEOKTTuSE\n",
              "NnVTlHdjqpVGfOERybpVd5hwXeU396nOSrIoqziphOoWCMie6o95PWkBgC3goeT68+nUCTaTIqny\n",
              "QbwG+oXvzHwVDP3FNoW7K68jiNDMPf4fdFzydU0DJLY7et2sARu09CQi6hmBYx1FXW7sINgOe3CN\n",
              "Mg9xmI+u3MEmaPYRinjOt7pYXV7ny2zVOjUgAAABFkGeykUVLC//AAADADNy4B64ATJxQGVdTGOE\n",
              "pDCsepIAVXV4gcEusq300++YiE+mQ2qPWvGQ5RV2Fe72RBYaG3i/zLFdrAy8EmuhC3TuhvnuenoM\n",
              "0E7bLfSeRgu+lk7KaDkW2yBC7NRiUpsni0OmYDiKhQvFbD4Icu5J/fjD3O65IZTQYT6GUaaCyG2N\n",
              "1+d1QnSNp1qhnhc3tAW0MUcoPMi28Cy//iy/+X4oI9npcR9ngChYNP6VpojSzmcl/i/4XlwOCRdf\n",
              "s4HAhigyrEYquIWU2SG7DapDLYW8f/ejgmwSo+zfn7r4R7SMtGqSorjAcYQg3IxHGDmqJYFjGA4n\n",
              "CZwMmLmxfsOGbcwh7CG2+6QnmSeAAAspAAAAlAGe6XRCvwAAAwBEexEsAEKI8wbR8yUE1u9LaxEi\n",
              "+4yL2WOzEatrfVzHCZS3LZDhcIK5BIbJJtgAT26MMjuKnOt+WNCIg0l+C/fRTa5VFqyYqBoL0G8/\n",
              "1lhjNIqms5JECBaGg94uTsoItTt24hd8sXUgjHFxJxOj7xANfHwHtVkGE+eIZpbPrtFmwGX2tPrO\n",
              "AAADApIAAACbAZ7rakK/AAADAEUax+HM6pgAhRWnPeKJm+Yd6BBYj0DkPdzPRFAiu3zjK8ef+ee/\n",
              "f+QkI9h98u6kMEa8gk7gYrvbGfiU4jsZ8HaK1irFTaQT+bSYs/shv8qc0IsZJpIC76WooMgtQGMD\n",
              "Y10JnVrgTxvyQiGUtKjPJt9uCT010ZXHH6jXXRiwmwKGjDgnxOX8Jtfb1qFiyimAAwIAAAHlQZrw\n",
              "SahBbJlMCHf//qmWAAADACuMkQqACFEcfzl61GKmsQePduvMueH75aByFHqfeLXNRhYJKP3QY6ib\n",
              "tXOMFcSs77/MwLDraVmyJhNRAKi2I82KwU3/Y9fmO7XbeZUwqmOzUov2vUo0mgEWS1uvPtb0XyRi\n",
              "Tkb2pPN22MsFlW9hOp6hbxDpZm8k7QBVj89TEQUoEeZD77ASM8OHo409ent+Fe1imls+KhYnm8wU\n",
              "SX13bE93aw0g2+x3E8FNGhHexPSgf2g/xDZoxDB3jtEd6SFOQnvQL3kRs1DIz+idNc6y1syLnZ7v\n",
              "V8wiAUZujQPOo1QQkFYnrMp2SrELjp4TsVn9N1YHPx945vcNIWCMqZOjl5qX2kEFBFGCBJf3COFb\n",
              "oSQpeL1Cy9CVUNrULXh7glj7etW0q7NW3oCkMBbWEPrNXyBV7j5Auya2wkR4oxMZNn8/hWOJzYDV\n",
              "dc4sU1lFr+R5iUagpXfDW5DBBSvhQ33Vz5oQiJ9vYjaq+/dcrP6oxURg/AnZHV9BAkyQgD7h6mkD\n",
              "woU63CzMe7Vs8JlZBRkeAYdWdpU0ClDrQUEUqM/4vYpgVpUmcjPbGHvBc6t6fpcVhAkbARRSUcEX\n",
              "zYYCl8mQXKdyriNBnQDqdFjbmK3YCry8CzUAAAEbQZ8ORRUsL/8AAAMAM4rmQAGxhWU4yB2Tvu4J\n",
              "OZbpK8BZsYx1SFHTRIwDxEYQGqQhQEjpXTUq81Vt/rE8TeduP65zIUr7FdHs7fndWUgH+niujFtU\n",
              "CqMw986lbkRmHD6RgOjVOXFIS4TjRPDieADJaR+7MSqo3v41iQ0hxkaII0WUYZfB89U2u5WxSPy7\n",
              "sDTC2syAZQ4+6MXy0/4rgceIcst+mbLFGP0UwjoQXIeMLLuXSeR4y3XMK/jVqHlvXJ718jLyiqjU\n",
              "Iozp4Cvei73jHuuEPjS8nAk1w/kCCY5C3gyXPWz90tnptofHTGVWwlPBm3tLjBLTXzRg7FC0IITj\n",
              "BY+lBN3nD2tUe3LBv0DWSDbVRweNA9V2wAAFBQAAALkBny10Qr8AAAMARZ4iAE1ZyRpR+yHM8tYr\n",
              "obsUZm42LVGhanEKP2pmbDv8Drxex5RU8nQ7dXSpsE9x/pAY3SdXKhkccl0nGJcpyhkJGfSj/da6\n",
              "TAeIHXJEYVlCgVk5u7eOQDj9yaRctiSI1Hwc4olJj5LIC+PyTu3HD1zv/xdONRVbKEy55uMOrAdE\n",
              "j0IvCfzjvBTukqm7QSVDknbIBnzKBO+VjCkb+FxRT1mZaceqy6yeFpB8AABlQQAAALkBny9qQr8A\n",
              "AAMARXbmIAP2h3tZ4upB4PbWtGj1AmE+xT3yzTAbdm3HDALhFqVe4eHAhV8axqRXZyaWvKJvsEua\n",
              "HkbpUHwI8AvnnY5ObUXnN4O3xWRk7/kG9WrOFV9lGCc2aWm0p3bAih3hZGurZMdKtLXlApG1SHFY\n",
              "jzX89NgpJ+12mHGPY6gvuug3x2YUs4RKhoTEN4gXwA0I+kVU0XriuJiLG1vwdH4FKd+dBRMYSJMO\n",
              "yiYAAAMBcQAAAeFBmzRJqEFsmUwId//+qZYAAAMALKyPqUmVWgAc4trUcyZXsZZN5giMZwbflQH2\n",
              "udJ7L8rb9zyFELmOWx6j2mN45R1pd6tPLhRGZ7M5gB0Ygak8Von3K9X3oeCWcBoY7OAuQa/IhSCQ\n",
              "epxAkIokDy2jwPgc9a6nwt7bwYKGjtVaLF6sadncGp6ovSTv5sP60YVR6Sb2FNRNF5kO5VPmdO0A\n",
              "jg3jXQP8lf0fw/mbJ4MmyzPXxMnzWrVIrbcQB5pRIH50XYrsLdoEj7hdsbVFaJDwv9R5rqYcj5Z2\n",
              "b8iVrnfl239vBL3LaI0SxZtFiCP0S4UBk1/lwSglgWKYRVk06OIXY6OIIvMU5m7NOKsEBQBEks3c\n",
              "TkaVaGf/Gr6aocfcqT8lv1om99QGH0r5InQSq7BSl0L9SVWaO/0+mojzS8vNcABrxUSVnpHEvN0j\n",
              "i4LZ/NrTBS4uKEz3R9Yu3EeA6Ca8+TzdiKb0wptA24OmcSIHUYM6OuqfWFnIqfqui3L5ClUzxSB+\n",
              "DtBVHKuEvv8gpHQsE7rSVWyVfdwt2CxLVHIpnqC1HQf9xQl33Y+Vkb91UV881+xogwNaNqaaVjnM\n",
              "dLwu8W/qRqbO05YnE/zqnHWJWF5LtFjbBoHCC4NjX7FAAB1QAAAA3kGfUkUVLC//AAADADNGQmdw\n",
              "AslveZvPPSmPVEx2S8imG3TmxggJPJ11KJT5bkSfnaHWo9ma3aUSi1BwAEEPTffPG2yb8lvgJThQ\n",
              "3HLt/2ljuarJ/NjuL1JzZTD9AkLndIWwLTxCrtKGUqCuGRsD4pRmVd80ksTKGFIiGuivIJfdDrRi\n",
              "uNtjnODWfVCBh7iSG+1z7K3G1dtvMBlgGfA8yy2wxLQ/FQa/iBLPXbqJ6JdFzjNasvfD1beWCprW\n",
              "Oj7zF+QtTsBj7UoTWJDF+8HL5C/P3i0md5Xei3w4gAADBwAAAJABn3F0Qr8AAAMART61NEAIPoi1\n",
              "YMIscp/ZW0zKcyLIrLJICxGZFtFQ6YtIbtrc/H8fkQkgqHV/DL5YD/hUQqFuKBwNhlI2ag8sEUYC\n",
              "Y+GCHkh5HYjRi0l9jjIccYd3CEZ7Q8cyyMM1CryfopbNK/o9NddHpMcC26wmWyiMXYNgfclLfPEG\n",
              "WkxJVtmHaAAAVsAAAACTAZ9zakK/AAADAEVJfWEABr7Yb4gIAKZUJQYpGmPee/qYhetg+lNBZ2zT\n",
              "leQY+FeJhwUzFcWAGeQFoNUPtn0sYdQPVbbyeGgvwuxSy/He6TCXi78u9ezpL+BH3gb/xJUACm3g\n",
              "tnLfj/XTd/K+QuH8nG0q4E4g9rjkLBPucyT5XAvRBNISwRC/6qIpZbx8NAAAAwEHAAAB60GbeEmo\n",
              "QWyZTAh3//6plgAAAwArmn+0466ABoJRxPAL9tn56nqwGgRMUNl4OflwpVx2ceDm106ZFBOn2bq3\n",
              "JxCNvtJzZTvwy7l3k3cEPqPLzuzDO+gIW54iA+FQz26enbyCZqCN7VqWcbhCZsQrHh581ZGig9YC\n",
              "VtdtVmrHVTHAAc89O66gK4R4uXJnlGCriiKg0t9o+29wHsBg1il+vHfsjOn0hfSAY/plTL1czR6N\n",
              "ZckZMq7o5QaVBHRIx37ARSP4mERhf1Sw6U4hIR1/7EbR7G1//Tiebyi+K8yEVKGLWgvp7BWjFpyy\n",
              "uX9Zlx1r3NjbTes0S8WP8fEKtAjPgmBkvvKJ740lS+VBloR0r6QBVzAv3zsxR39+5cA765KbZaYW\n",
              "50dOHHAhPKIlU/imLddC+AtsjYu2WOuowZ/umAB6h9Pw/U/Sh8+EM9zn+t+YimOzCkDIALughwT4\n",
              "q8KJyG0Zk8yAyPbRwpN9ud3wm7SmMr6SuBMqm8MSDC2R4rALgTwlRP9oWWkBEHU9v08jigQ6BBTq\n",
              "O4OacHFsuZqRuDveJmplVy8+76T5zg/vOcnN4AzglyQ8/zxcH4evri2pWf/CmEeVrrbZiMOWMear\n",
              "SXdOOIWs3ZmC9SURz4igl89rK/HJO3+DBkgAACLhAAAA2kGflkUVLC//AAADADNDZlfDbgBAV2mS\n",
              "gqEV0pkL1l8op4xzKVesijesdsulhZdVuobgy7DIAnM4JaZV/dIKHKEMziTh5wZOkD9KXnTKlLmg\n",
              "t7fKiB54fGn237WXRhr3LdoB4umlo/DkE1bB8iHVulOZJEYvxULEQEVXqvMPLZmCw6cggZaPiuOH\n",
              "5W51+Uh5KNfBMjBdRNNP+yDbjWtHHm8D6BrrHgsYMtSOaoKv54qyKb6/a4IIbAx+NnQqWijxcf2I\n",
              "nTq4HBDZxH4mAvfhthxE7hyB3gAAAwGpAAAA3wGftXRCvwAAAwBFNGE2wAQ/Pi7q25/nU55WSqwO\n",
              "SuoiDXBMV+PMxLb4oyDOnlwz/GjVNRLnv1KSmdalCB7b2F75xZ3f8aVEXyaoWlqy7QWTIAfOwkQV\n",
              "/ltBESMNR1xER77/PAmdrxChorOTdxwM6OOE7T5Pfe4e1wRBABMH5GVsvU5Ip7fGQJZ6BFSfM0xX\n",
              "1kccPg76Yq1o6Ly9sGzUSayUlHYznOFtELavZFCptSd2U7664vbElpCViULFBiu9EuZq3o49E/kd\n",
              "TIgZq7vnPssW5aA3RirjDFr/kkAAAtsAAADcAZ+3akK/AAADAEWeIgBM+bk710nknTnT2xAKMbDO\n",
              "b8hVRNNycvWhLMRnhYBYqxL7PGmksLFuGEDzOekofu9QIa7qIMfmLM9wN85/S6NA+siWsnj7sdS/\n",
              "anoT1Pt4fRCjeFTIed/dhaBA4NLMe6IuU9y/W4Q+b79gHN80X4PHJpaNsq+zoxlxta+kRw7PsuWM\n",
              "zZXlotjtzDOnD9/FCFh507Sccc3yfF75CXTZf4EhzudXphsAyETmgVpW8FfQJbA8IFsLmGOgXuqa\n",
              "YM9k1zB05gMIpNNUBcSYAAD1gQAAAiFBm7xJqEFsmUwId//+qZYAAAMAK4JW8oABKB1DD13K7wZ2\n",
              "mhI2E8T5gwXFGQqW5IFok3/r7gtLFBiSEiecl67gEYO3HFIJe2Nc6l5vCf0cMxqO12cxC2vkZQhW\n",
              "LQ/H7USb4JM0nVEHBVZ2PCyPzAjQqtjidOT+D0QfFHDHDabuaxOEKH8RJ08oeEggQ42KE6u3I5ux\n",
              "eHBp3p1tiauDAPpu09ZnrmqBDVFJVAF6ENyq6Mkn0zrCA9BgZX/uF2jnZ/0AKoNkF5/rWdu2oja/\n",
              "XeHIAYfbn3PLe+zJ63eMOnu8nN0oreZTGbwD0klFB0Pu/aMuRHi3yQEDNIqUDqwG3/vkHu7ngv7A\n",
              "5kNPt3L3mhXzcWhTT9vvpYnAPZ8vyBJoQeeLD0+GSpM3qYNOEQj5hBybNQfwDsQHyqMjqPrgxyC1\n",
              "UrqE7i6ljVKpTSRdsRNydVabRb6FPKZr/YQ8QlMhP2D/mRDDkj+ihUpoRdQf1rtkjrcSSLYU9lj7\n",
              "g0DU82cSjp/OywIEAnR83jlppXdavx4ZjPj6ufKK1hTLFtfyN7UnT2eISZHIktXzGhzbvd9VUIFE\n",
              "5HkUV2/KHRIMmS4ebMo63zmp4wTjmXyGGZPhOoopoqt+L30Y0Qk2t7TAYTDRPne2FojBEmgoRE12\n",
              "utQjWkisDiVIZsGoD3SV5R+5RJ3f8Bm0rzxZOnMgabNn/innObnUCwbqfYBqaxbs1Cue9Y8UmAAA\n",
              "AOhBn9pFFSwv/wAAAwAzcuGggMAEN8DJEfHSn9BJiL8N1SCzv3R7BpptCHwrobzfWvITfZXLANiM\n",
              "BxXj1SiSHtBM1Lsp9SnXrkIMFYoQod1vPf5U1DFL8+wsl1YcuHY4fmv+WW30GQ4JSN2JZWItmWfP\n",
              "KRf9ZqR8aDfVhhRLeHbT4FyO1XrOBFUlcDFDlXt/O/jfI4QjGFV8+XBMAOfy11tywHVu9EP6kf4S\n",
              "yPdg48c5xwl9PGsyOo9KLLN7s6uP+m3t9DhblTtadxSm1ltTXChI6sWOeIGWdqz+64W+DwVVoDPH\n",
              "hnAAAMCBAAAA1AGf+XRCvwAAAwBFfe8ABqo3E5Zn967bRJA0G6kPpaOvvYseCM38lNECB/OmktH2\n",
              "qGJAXhH+V5AOfGs3zbwP4e6EQNOK9HNw2npVjdKbJ3MMk14z7cWYYx5iMuqa/TAbLVvfOap1q3+d\n",
              "zexDjYg3taNyi2pOHMoma7WmsVY7M00O3keoRdUjr0O++5L6Zr9khCK3jDpq4dhsiehTp+gABvQz\n",
              "mnBhrukOd17SyqFaRHzopQwbxpdprlDuVp7lYLftwPCv6sdDyOrqNVuJL+fazhNgAAi4AAAA2gGf\n",
              "+2pCvwAAAwBEcOTMAEPqZ4wM/TCOtVPJwHqUFCr4qK0uARXHBwGMKFaFx+C1LW5QrrzitmMLRFkK\n",
              "n0q1o5PV4OIZr77ySc5uQ+Pq7klQX0prvNUQKOblr1usK/I6c14D0Bb3aVg9PnASfRnH7Kxbhlu3\n",
              "saK4MRqn4QWLyTQZ+5OC0Qj13XigcAWjGSMaxOXn+jCx0iQwN2O3B94l4AJQwKOvAW+6WK9l7EWO\n",
              "d0S459+mlNSZzyv8HQQHzC1toJ0PitwVWZZd3M4oyZVq4Tj5TcgwiAqAACthAAAC6kGb4EmoQWyZ\n",
              "TAh3//6plgAAAwAre5nqgAhK3qk8cDoC2ErVkQ4FyPuR2NLCCyWJVIIgb4xWaS3FUk94wUPAZpDb\n",
              "srqr+UJoETlG/2Xk9NQt1Lohc0J//LWbgSMyjGcUIspmFAvN+eF+kNtTgvidRziy1Ah/+2vDmaTk\n",
              "fwkdprB+O48gMZkGbdAhta+yfSc0E3/6mnHm9znu/X249M/T+YMe4ZflxWn+mfP7tGsQZ8pFDPOu\n",
              "CfEhG0l3+Gqi+UjWi9gAbiku2QMbWnIPGbhUz9qBn3KF9fK4TfZuC7OiNeji5R/zoKtVEoPATJQW\n",
              "En0xqBmIkL++na9B0Ifv2fr9TDfLansn0sFet+7MGGYog+Nt0+1xQvlq7XqqQ162no2XYtdV7vGV\n",
              "Imv6uSw4io8NYIF0wQL33+6J4MG1knYB/6JEm/6nZZosASpBkVNzJG54CmLxaH2+polLxbangdr+\n",
              "eM+TiXpeBgK/bqVcsJZKZxM+R2KDghyEi6NEZT+RaCbqC3YJxLVBVAT8ZfbXvhjEJDmm5vMLjcmy\n",
              "LtOjlGbHh7g+JmsdWWhBo9g1EcoZiFjqufgLAfFtNOADcKr6ngPbqOXoC1zTbA0Cfek8CN3b93Et\n",
              "yhL06e4WhnOKujLvh2c6/f8bRsyJ2zsaBgmailMK+XrLcv460KZHWM7vXlUoIdRTIjK59/aUy008\n",
              "P1zDWCWds9oTrQG+7vBWlDVeoVHdOVvvivqKcIYXnAEtZ+9rejsWam9cBejlMxA2g10BNJ3KbYpa\n",
              "JXh7oI0Z0nl72D531wWvYe4YCdCcpvvEocctXWQrqgPgrz/yiXKbPmLAiBFGbhNVv7Dlwa7m28F8\n",
              "iZ3+tMqTKZkVwGP0oZDTDvhy2ggg1+1PJxdtht6bAf6oaC0DTOzfXKhutaWPXTRkWVaTKp2hr8Di\n",
              "ONwEaWNLkHvcZ1PCG5G+ttYZQS6ACij5EUclQZHFOx5Wd5o/L/dSNgPXr8obMB0IAAADAMKBAAAA\n",
              "9EGeHkUVLC//AAADADNoDFEAB+DYJiUwbeLv9Qd4QJ9JQ3KZ4IKxJBZksbWtwwyzD/ogu7OXjPP0\n",
              "iuqZJW8OwTpOKxoxLUwZh/E7ivOTnOqEcpLFx6pBjSA/kpRmuV04nNVAr2RuYjCkRpTibG9+dqqE\n",
              "UGAUQNnBzi7wrkSE2aV7W4/YJXcaiOP18o9l9nY/MlnpAhUwOSpktcWrSLZBKGmtbeEBhjgD57mN\n",
              "MhleuzhxTW/OY5llURRVHseYsfHuy+BxixIKaz5cmU/WdSJnyZmwQ9z88DVbR66uCfboVlWzGbHr\n",
              "gG5Ns9PXLhWvVM+7gAAAqoAAAADjAZ49dEK/AAADAERtLEVVwASAA2L+qdrL76ZdP/ABteZP1lt4\n",
              "uCzPergOmvZoS/F3/F7rDDGjkRX8YWL0MXVvae6tp0YQ2hTrAV3FNfnz7iWRyWDuxMg6ZmagaIqC\n",
              "mD9qqtUNDbeV6RsV6pkSAu2r7TDzQP98hJGDPWe5f3TaNAQ/X6k8wc/hbNk0uSvA+q1XjsbAcnKy\n",
              "Kq9fOf+9ICTPPWmcy5vf6DotNglDMIGzZ9AtYUNAhXwvxD+GRvP+UdINIr7FF/ImoQGMU2mi5Bww\n",
              "sTZ8nQmVZ6R2ONN6XUDPNAAAj4AAAADuAZ4/akK/AAADAEUXFgCwAEPQLeMB2qG26E/DeuRaoyz7\n",
              "Uj5zfhGemMjewSH7tP7VndZE570h6yX5RObFtki8irXdBWWXiojZ+wKFTrQAjEIwgMbVivaAviLE\n",
              "C2FfXEkE5rcgRlW+m+yY5QJa4c3waxmPF/76Sl6YVoEPCan56hJUyV7Wz3c6LYc4b1SYp4J9mfOE\n",
              "uwwIGmYXt3js+C+rpxnwEotyv473kHQVOnTrKF0llIr6khG0ia5MERiV/MBfPvWmlHhYvWl09pbe\n",
              "Pz4oXa+m38HIEP6rOw9JRs7wZIrZPpH/FA9zKplo3AABDwAAArZBmiRJqEFsmUwId//+qZYAAAMA\n",
              "K3yFoAGh4UAwv6YAytoPgNHXRVB/XFvIoa6D3Wgx/R4PC1CMwtSzqNyQJtv5KDvZMg+Rp+os3ZBQ\n",
              "25M92Fe+TC+cFlU8ga/0d6194+OZb8BzQswlfjVn8QKQYlKbGzomgITuqH6UvWDjbAW/MeyrhIaw\n",
              "Pky/WOwqXzAomkUl8onye6Nr5JvtIhqrY2KAaDAEFuBM17Jc4hGhZOQWIC7EPmJhsUr2FAqLaioz\n",
              "pdOu+6kmePrBPHO64NfjEYjGUxcHFnxe+CA9hP2+6oLrHnHewN69dVix5WzU/QP3sYu/NNxfmBpl\n",
              "COWWwbSZwkKBvlBTSWJtHFbKQsSKSRiFAxWqfq5nEhFoqqxJ03QSoJV4jayt4OVeSGiZtbq9mmsS\n",
              "08Y4t7M8MjUz+ImICAXoWpu7y04vUXDHbRWJ4TTZ4BU7LZXln4PHJOR1NRqRs9sH/emgiypTB0F9\n",
              "Xj692cE6ITBQvqEQSXxRnzdGYwm3FrqXH970Dhblg/nhPWe6oc0ka0wjMVDM+P2RRVIHN0SJQz26\n",
              "ZI14RNiR1pTAgd/yCHUNWuSniDLBBMy12k1/Yg3/yAZp6MMPYKDOatCRDXcx3l2UFnOB+E60AuIf\n",
              "14KzOL6j3pDGhlCBe2R7P+b8ZeNqg1yKT/Qg3d6CRIw5hCSJgGMZkWrFMs7q3/8mUt7l8noZXyWJ\n",
              "jjhUWjIQo2qEDLbJ0944Fx0Sg0Wcte1tPFMptnqJHOP+i0A9+mjJdMHmGPiDiBMtqMkUdAyMdD7E\n",
              "0LZsO1hwqcTpJAwZiaIrkpaq1W3CYgUVdUcenr7ba8ebWge4oNCLgmI4djSacRtmXaYFN+v2+flX\n",
              "WS6UjLLmRwJG6AVauuVVr1nzNP0Yddyk8SQdNbqa+zHsYIujdXJ8pg+QGg2bGej4AAAA+kGeQkUV\n",
              "LC//AAADADLfV+wGnMAEN8CCKU2Wwk4nGisK+lIM085NXSThYXraYQviSQruSeph5gRKjkA/Qnzn\n",
              "NZfCcg9y1a9wQ2kbs6/BS95k8Bqhv9x1RRbzuaSYWKLF+yzlDOkxNeAAvzX523/FuCNK0YHulrO2\n",
              "Z62vX98MC7vIILMEJhDDZvw7CzUuPvsjUjwQmIC5V1MCvy/ttXnvqbHx2XGHOGqySMatH3B+KHhk\n",
              "0w6Ci2jlTqFjgU4ee6y9ADAZSEM8nBeJxQSt++JPxy/5hnFrJb2O7Ng2NXfUR5P9IAcVRCEF7T6+\n",
              "k/LFkMHG8MSwqATf2jAAAQMAAADVAZ5hdEK/AAADAEUB4KxLYAIfnVqUPcobJP+UmJZO37Z88Xmd\n",
              "m27V4G7OYqxFOpoeAB4xl4Wi9tMhaIm3y+hXx8iKBjd0C9zJ0oa2yVBPzGRI994nWvfW6XJ1jlE5\n",
              "zw7g1Joqxdmpim+EL5X92qTeJOtcPJAXeRbRYuGcYRF041ADKJtF9W9t4jMI+5E1gPDjEYdjQWnp\n",
              "eftUmuWBfiH2MeXxH+jDSNl8AY43oThFrhn7BsJt4nUlzmItA3opmCheuu0kUrX/9QxavbrPi7dq\n",
              "BAwAAKCAAAAAtgGeY2pCvwAAAwBEiRdLABEHnAxmC/tTo+Br+UfrnEbFOdEyY1wqgRRioHRQz3pj\n",
              "Px1+N6A2a1Sx9ouKIDO3F4OXbtWGVrKTTpXJYKGWypm/MpKaUtYW9BpgQ/Nw/D01764AwKqK3Tz/\n",
              "qYmJOneTiUnmcALN8C8PDXeL6+m326e3WQcJhbfEAue2LRWSeCE0KuJwUqpwEWgPcV75UbHH1k4w\n",
              "qJipvzEnevQLwvnwLQfbXwAAAwGzAAACMEGaaEmoQWyZTAh3//6plgAAAwArvC3+VlaT6DQAUtb1\n",
              "Tdxy/uoryVPWdQBHeqd0TeRFanntaykUrh1ijBJoX6dFX3FHCXXd6oCbZOwv5ruYG7n+NajJwZdV\n",
              "tlitM3U9Jrl3oHUtrllV2SY8HMszikT7zAK1Fd1+Jz2/Y6eTW1x0cIvPlkcaopA7t7JvBROfonr+\n",
              "+efXweMiFpuElbtAX3SplyP6eMMtaFNT2ZG+t7LyT5OQ3l+rACMRG1gRdOEJbj6kT0ew08qQv5Kp\n",
              "bxIDo2TXOPR1SvgWBtcT+GWwDrIb3Ry8KAqyxuSu++NdtNyElF0ui/M/6VPUBIdhp0tn/fCvb2Cv\n",
              "8PRzKmjkzGGC21suCCrPR8iLxNJQmVwGoitnfSDJZ7LxsSRCUiH+ZJ8yBvw/ntO00XqiSFaAZuL+\n",
              "JrlUt2iVd17+BhEqdrjzoc29ANDiUTccYURgf40WXE52FX4B6cueKjITz7kFwcDl9HTfdAAJwy4a\n",
              "rJ9HITEpnXV5Iunl/sgcdsHTmoO/+Cr3ef2tfzYXEoQvaAv5b24VT5IKwF2P6N/M0Zt3OpOWpCVk\n",
              "SIbbAqLe3oK5qJxL0lFYFfpVMnFDShqJcvv0hLgz1kM846iHdqOzqUOfuH+r+2YEUG6+6zuK4ewx\n",
              "zIDqlj2w5WeazJ6zq8QOPIz0xu52iCiDpltsbcbXXwsidpeGbdtpnWJvU43wTomALLUdjie/ogFv\n",
              "OW5Kz8r7HUIrgJNK1dmhAAABFkGehkUVLC//AAADADNDh/zeWAD4Q6dzHeLJyyWzLV8JxdNQ3byT\n",
              "dR5XGK4NWstZU6oxapu0Ir8T2vAGduU8pvOUkVzkndqRkuPT62vdQx74xF9O6rpsz8b3XO/IKU8D\n",
              "NfKd4i/pp4g0IFzHuy7M11a6HoGEfxtSyvAyF29OsC2XBY9Iue6rp6jV0/L4F2CVwG/gdr/JP2xT\n",
              "1FJaOxI3F4ovJLGoHBgbuvt/v9iXXo81jy8OOuJGU/kneFr8ALnU37sYZ7KPxcW6P3m9hYnRyTE+\n",
              "4M/MMnrEbri3eZhAxRxiOcC8QUVxJo46RTRAv7OxCFQdwCVK/mvdWh2kOodnKD30v1tN7RxqfC0O\n",
              "BeDvZ2ykQLxQAAK3AAAAygGepXRCvwAAAwBFCCcKwAEMIFQlj1XXq2tZroGTy184IjoWE0iukmmG\n",
              "Nia50UoeUkwU4iLkfubxhfPUzCmqBJXg0gvl7bdtaSjpJe/oGlkXRyrdliyJSuRNOnsjSPZtnJup\n",
              "yCQyctr1vrFhHIVVQd9WF3WBoUCwZzV2844JPWExg596ADFZFVizWxNgQknlXiwCuH4iDhh0Dkp2\n",
              "4K6Ybh1lgJyepVE9OV4xfP+G3peKl0TfYK2Y5Mu5j4AEJDZR/Y0ZaHOlMnAAA/0AAAD2AZ6nakK/\n",
              "AAADAEWeIgBB0XFs22Ys8OCp5QRvp+MPOY1pSBQYZAhUajQ2ceibFI06ff19rdDxwbhV+BEBCCtL\n",
              "xoBYWY2gaRkpr2+HDAyJ3AyzuXOifjUO3m2n978+S4x838ez8Jerhzw9nKOyephHQRtZ1KGieDiE\n",
              "j5pk1Bq/A6lEtxb7vMrafJvCX33GaAT4QZd5n7URQwdXkikpAbHJ1iSGiKBRQq7YWFVof6AwzgRR\n",
              "Vdf2tLhdQqSlXwasrxkVbWOuIvLF5BFnYGQPdYpzLWWIg1H4uWHWkK0eOsAGDNfdl8uDm90wiSvh\n",
              "lBeajmSqByQAAAm4AAACL0GarEmoQWyZTAh3//6plgAAAwArhS2tGAB9wZK79orSq3lB5zXLQ4N/\n",
              "NtoNZLzG9sKGUM7bvRqoNLgduZL7Qp1Lsf7LlE+vJYlUUDOsQAsbXSFKQFnkhx/cFl4kyEnVepXy\n",
              "ylxV3A7yQcmxKwOGH6HKa5+OUupRw9nQv4FXuFXIfNJmA8Bb9GvSVPiLjBKLR5QeKFK99+OR/8RT\n",
              "10d87pwDV20J8EAEASywaFobBP99IEXdybbJx+klVJVVB8aHv4V6JeUg2yWt94WslTdeZIAfyZdK\n",
              "0QcMXpl1hoHQ50HF9IC6HmFF05jHd4OoIskv94Zr2VxrFUdSJsOrfgHKAy7v509jP3abfq2R94Dj\n",
              "erma5VGEUJRDcH1Kir+NiIzGmdQCc3ibcAb4+giLqtY1h8VbBmQoh45WcpqIGflpUGh/7j5+5tOy\n",
              "IA5FNRDgYTdTmP1W9e3JeHSRF+fR6g6/X8Zkhk6T/EELWwGHyrD5eld52FWAmiT+p28GWTzslkPG\n",
              "iHnJPs4zyIJGiM6qM0KSbtuK70Snz1iOWM8iHdAZndYGLq1lj0wz6dwTTM5Uw9EHesftToxKt9BQ\n",
              "wQmGTW937zPt4EB1toKr3fV9L/41s1DzAxfHsjfKDCBsHubKnHj2kGzoc9G7xZqllsjRYvwn2qvC\n",
              "ieFhuDGgfI0KHA2AKmPuoz20ZPTzkdrcjKXUJZFUVIPztG4sKwS4aAsdAs3RJP3sHJvzxz7QZLlB\n",
              "vgAAFbAAAAFHQZ7KRRUsL/8AAAMAMuodIuAEH8QDgDsl9MMN6BlVh21ezFS6PY3Nzsx6dH1xYqte\n",
              "1pf4xPFgvJ87DbI/sMWxZqBUV1RqfqicXwxfSwGlOetfR0ONndgE5h7HhB3HGXpTV+arZPgp2EKK\n",
              "oIgNT8FTY5ULVuTWn8OUHJIQVbp3moJulVEsARsCNuON25tir83q6HKuDOL56+ktZJTbqs5WaKJA\n",
              "cENuf/xgvVbGzdTSIG28rJ0zlp1KUj8mG2Q7odS0opoTRsOvJ7qjDr2jmJyc2S7x46IPL01ZWFHF\n",
              "Yk9gyia792U3e+Q8gEt290L6BrLhiy7Vj+HT0Bx39JDqS4Aph1bj/Cfs2M8EAVTGCkpBtTKYCdDK\n",
              "X8TzhGjDyifukDB3fbMNP09GSisL/fGfn4oxBEoI9Y+k1Whh3flVPzqforbYWZeAACzhAAAAowGe\n",
              "6XRCvwAAAwBFGdbTEAIS/QHWjIxk5DOR6X1mueRLaRIgju4+2tcHBKGEy6n6N3LdJNwFRHkrPhYy\n",
              "A0Ryp/OwYJJOtipsofPv8Ai3vDL+0yvbqd7g868yeBj1vSf2M7t6Pg+gB8lEL2Dghi9WtNJSisNV\n",
              "ZxxaIdG0X0E/8dBhSTQgp/81xGxZa0dAdM+FX/8cITAcz2YHQELgy8TeAAADA/wAAADTAZ7rakK/\n",
              "AAADAERz8qKwAQ02DyfTl8lyF3B+bkbRtkZPz/fVTjN2juyb0Kyn2K9VbrJZ0Lm1byMoCWAPXmft\n",
              "aiXukTVERBZtz18/ypYC3wzqbnOovV/ycLiif/vgMvWOklP0atDb3gPbxuyCV+hNcW3GMBdmeXtb\n",
              "8wiqH7GXLkTfJSuZMX5dIBy3SiTDPlhHlGqBfS0wN8z8QOPI2cWVwAM63mLjD6u5KI8fPsoCSA/C\n",
              "Fj9P3e+Fw5DTFDDE8OkthdhG0hRSn/uWmNSDFEAAAAMCkgAAAoNBmvBJqEFsmUwId//+qZYAAAMA\n",
              "K3+fFABDiKbq3xFX9ioCXfHmXYbFcZMrMbd905brHB7Hk63gIyK6aiFoTEtz1fljQT6HgYaQ/tGg\n",
              "WNrF9Q50JCuvz/B5wNFNeNuI93IOdWDDRxTkb8AkMegCls12qeNHsFnr8gkzKa3RKZ4rNk/qgNFu\n",
              "I2OYmHCccWvSan8H6ivfXpV61CJmU33qppM5NGmXj9fUxpxbsifRqc0Akt9BxvmBQtaSju3fzxst\n",
              "Fd1WY51AstoL6Pum6c1Xb2Z9IDIdBys7j5f0p9Kjrqs8mHzeWZX93dMhZxFg0ww5sfR4e78vx3Vy\n",
              "sEybWvI632/LdPLaA1TaU5QFWQ9GmmyG/RfpiXjfggODvii3rIG0uP/FpEsX9QXNQXim+K/IW7i5\n",
              "JUwqdCGxhGhQNkXMR5dOXIgi1Edq57iNDvRaoZxtWFj/YP60KzDoWtl3LjL2euSwkchvvKL/4B6Y\n",
              "OpODmdeZpeq1Il1OGHW+9MqqufRtxEuJMkD+9P9TOYjEUNYKF2UN3jgwWjQg3zXbI7b3U5pbpXd5\n",
              "0k7RyKyN30HQ20J61KRpf9cPEYN7OtY4qBL3nHOglQHjU5fvK13H7UOtH44K20q0LKl4hwkH8hms\n",
              "HLs7UjTEJkphrv3MQF8ofErDjVga7nn02PrwHR+LCIZ7K85PsGuQ9hktjtDbITaCO0s8PzG7JWtg\n",
              "bknUDFvPEDpayUvKtHYeqtsw5YldjxXmFjyCaXEGD3j31EET8z6gXnuQmunlIpecdlEGVX6sMV5b\n",
              "a1Rg62HZxerjh+gWK8bGTVPN+KCD/kFo5pAYw9O4pAmeDUas2s5XwBl0gqcKf+ErutAMSdx1AAAB\n",
              "BkGfDkUVLC//AAADADOROpwAmd5Fh1PfyQrKjtoDhN7Ih8EGExwkXG1qqIcMD+2CZkbpDrJ/AYA/\n",
              "EUrQyGr/2j5TfNCH9/xnL3CJGBpQvIUfiX/CpIPhwyuO7yE8nNzIXDSi08BsbByIVllq5B5mHgjs\n",
              "4bRE0Da+20JiI+fdZ8hFCBiMbfZso5mYuTLzeT8tNDA83TdeGdrVMnWGnmwi6SveFUtcNRvDdoT8\n",
              "DQfLjVbm9RcglOcoET1rrVrGZE/qC4+nDBNdiFza7CG2U0tYGt2hFHqXo6RqjA0Z3hBmIhVvFJai\n",
              "s0ykm+eQXwpyrUFR5EIBUpM3TSwhYj0djNJ0jqYm5gAAEPEAAADgAZ8tdEK/AAADAEUZIBziIAQh\n",
              "VcbL/Soy3d5g1iVZ8OF+EEUrGd1CMITs6RGOy3eh5LihqRa/ukfj/MKkH8vKoYj03CXrG74Mq2Jh\n",
              "kRAlw28CAWDtZxzv79FBFW2YX8i8gtfBhBqP0Nd4tHZiVFCs8nFK3dm2KfqaYokUh5cBo2oIFHCO\n",
              "EBPN6iSOEFwiD3OaEuY1YVa0WtaRe71CUgdARYa7zC7BkcDD27gEmm51sH4pOoCIu6FUYmwxN0hh\n",
              "eMqBZAEqCoRIrDdcERoMav4SB//rXcWDkohMXmgAAAMAIOEAAAC/AZ8vakK/AAADAER8LSwAQ1YW\n",
              "9gCxuXAlnB9dB3WWYHstn8cDx6Ywx/nOitrU0EZAFeajXpzptfhzKggoGIe9aP2BVKiT6muiDFx1\n",
              "nT6rJFydzYg36tCoNXYjpJFVZT7Wa/1Qm3QIUFU3VITav3lc/T6cLcHm1wiJrt+93e2J0jrZC6nr\n",
              "2fgHCJqyadhsxTvdQ14z6ixKYt2LkNkZUanZZ4wXUZP8D8byjm49yQ0bL6O33jHXpydnJx+uKAAA\n",
              "CpgAAAIWQZs0SahBbJlMCHf//qmWAAADACuQJZ0oAIbSc25bL8VjL8u81KRhPzkVyQv2yXeEW8FC\n",
              "NOr+QP1+VuznMkHKWTUhPJZ8HK02RepasVCJSNvt4KEN4aHPRp1U3suObEnHhY98LKqYERlUx72A\n",
              "IIfIRktL4++eHNzrTCv/JEKiV+0y+n+h7oFmtbKjeSx3o2riUHi+7/sLrG/XU/YckTB2TsLWFRyl\n",
              "Xh6mpExFsWZvFLH+GfOd98In0l3o+iebi0MyH7C+6oyyIONodY9slZFzhcYpgzI2HrIC5j9EIztr\n",
              "e0/2LmvFctpCOOgA7b8Lx6DDQC0G7Yg3rVsF+iZKerch1gLau7uVDfQ5EkZtT3O9zSn5xsZ9DwAU\n",
              "Man7N52T1qfi/moLCydqZhrgCkba0NeaWVf8T2iDarj34M2fpLA7lSpSu352erugLqgS2eS6RvrU\n",
              "uBpBb2400n/z1m5Yir3wL+QTsxFPKjD+4DI8HAKo2Py0kIGFYeFPAv1pEHh6X69phc0qvbrTAjqk\n",
              "aYm1zwpFL3VTwJMNgvsimcssH4So6LheYHSMFBiJgtV31OuuBvRbuJqKbt2TYkek7kQ/Mu8tH2hS\n",
              "QmVoAw3mzPLm0q6d+iFU387FqgUytobnSsHO75f+3UbwbO3na/0KQoriGguttdn5SeB84zOSKWvb\n",
              "7ejRgH9mjiZR4aznyzhM4zykBqO6AIPlaSZgAAAAr0GfUkUVLC//AAADADOkxgAdaGn2gyA0fdvI\n",
              "Az4Lu1Dd4A6OmpJibcQYD0i7kLLiqimNlFk2wNz+N6McKni60wg6kCT4+11yQLvdy7Sjjx9R5cV2\n",
              "qzA//eSegZoKHTQMJWf5FvT+FWfCFenXwk715+/gl5tkVq+kgWEVfgidBCytaXhBWp4iYilIQixu\n",
              "EBWLyyIWaoeNM/a/VTbFbqFERGYVg8ULIk6vZlojwAAAFbEAAACzAZ9xdEK/AAADAEWeIgBCOHrU\n",
              "R991e2mjRSLj0quX6SKbxnjuBfng24bizgSZZwA5hmYGWzeDPWTaQdKmoUhqSc4KaMXJHkF6Cju/\n",
              "sNg3bIC6N9bDkcK1apUWyQwigFtjDsdKggHDGylDsZ0RDnkH7MvdMlLOWinddJL6FnjvtLAwybSE\n",
              "+9Cu5257zXGSI63ts64/YIr1rjX131dvIBewHWTEgmmhFIjJaogKc+JzbAAACLgAAAC8AZ9zakK/\n",
              "AAADAESFMVxACBZ1TtWyy48uzGBX6ZP7C2/f4g4Zg+OSqeepneOVkbc2A8aNs3S3IN/2fgxkdrlO\n",
              "BtZRkApA+lBtSRUB7+pCSk0vSkKkluD8OwM3sRA3jYskpR1y1tHTEemi7e/uVEBEuMOQk6JEOIf1\n",
              "T6cZAGUcvPSw8vSI5r2IVs1Ayk5M7vsIZP3nyFoNe48OA4x7jQiRleplRfPF/n72F6s7nVYX6nyQ\n",
              "Ob94E1SfgAAALiAAAAL0QZt4SahBbJlMCHf//qmWAAADADpDfOAMtuofDvAEmtVsF8oz/0QMYqs9\n",
              "J5lnIATwgC7xDzxymCYb9csAMX/fMpXtLJnd0Wpk4k7qNhrv+GEvqPA5OAqi/vPgtawyqewbvXqp\n",
              "RJILeaP/KytJ55vSembJTw1b+6BzeGoh3Hz9GHS1u06iHLOIldrFn4g6djjGgHeBeY6HMLu2bcuh\n",
              "eKIZD3TCwdrNS1OCJa9EcgSm3d3rm34Sxc53jHA5a4B9dfO8nUNclypkGAM6lxH/H7YOPx4vsm4M\n",
              "pw+ZuCbP8DHAxShv36AZiIorJV5xf9/SLrHEtvkKTyLJXmQj9/rBtKIynYZbODcTwj8R9T/Ls81P\n",
              "RJk3RO6MXy9tA59EIxiD7Sp2zrQEHu2pYBOhUrXT1Zn8or6NZI2NXSgxpBxNtpvjHRkK2bS/ug/E\n",
              "gUKP67GrOBp7W15zqdEjkOIUEJSrknwSYZjvbOEU/yBO51DCs5fE2ne8Cmvy5eeBwBevWu8lhJ8x\n",
              "LmJbKe3rE5WmhSHnZxXsTugHqM7KfVPFjx61rDrlO5u76/Wik6U3dk4tkdpfihjeXg6RwREPaiHz\n",
              "GGjL/8nqQ6W2DTvQCAIGPzt/C1I+/QHH8rcf0lq1G6QUwfK4w6aUfXHkP5gGJEkiz5+Uw0GrW6bG\n",
              "k8o6erH6CZSuHfAD/3FVzMoJ0VsTxebCZW0rTSGxF5j38X9HLeB7pTrj6hgK/nxjDYMrdN4Il3Wl\n",
              "NX18fWChkx0YrYE7n3Zs0LBIla5VaMU8I65mDblYjQz9bHWeFrDWpBMDl3VzrbNc5vejwzlf5KuX\n",
              "4ANuHRA2479GJdib+1bCM6BlmITC1AJfXGGPOa3op78TI48afKpRalItbCHXfDIjrxiHz2srukwH\n",
              "+0g6F5KWb5pMTsUwHefiwry3ACge54j8R3X7gT8qvn3z4lW83J1AqB08dwZtYtjr8g+lld+3tSmZ\n",
              "uV9eyaA25UWpWNKQX1tl4t8VL5yi4vmh7CUv1ctRAAAA8UGflkUVLC//AAADAEVnM17FHEaxB0IP\n",
              "8YshAoAIb3HtTVgCHLP+1FGERlQnUzgTk72yWZGzWidHnULIyA8apZFbg7gKe1fuTA6LpQIzMC3P\n",
              "9ChTiRx27YawOWP6nk1QLQbapCM7NBpUVuXf459RLGO3GDcMjARLnnyC1hMC0sBi88r14GwCN2ci\n",
              "UY9XB505d0EaBKlBAuLX7iO1/q9/EUQ8Y5VuQQ0upF2Ufcw7osf6NBdWJgOtYbJ7FGNZN7mhbbwx\n",
              "zKEcLi6VIKgpk0S+T87+Xnsn7W35Db+DXGIDPcshfV/9TUs4+1c9/eOapWAACpgAAAEFAZ+1dEK/\n",
              "AAADAF9/daCpPWcrGUJJoonNMAIFibb9/DIM0ASVwpwzZfB3oveTfYwWzTz6urzDXuQXUpK5eQKs\n",
              "Zm9KRd1ASVpeQ3JN7W/zk8JcCwk+HHzQBfHnKtxfUJZv9Y/0jH9yKYL83jnKCa6F4Y07VQA4e0uK\n",
              "6v4gADfJxs2yeQlv6AWJdQGqlhYk0LNNeVATOL+H/1JBK2xJX30btFXQUctyj7NsP7++a2CbeyaO\n",
              "ecna4hWoBtLbswgBWSTNrTh68pTAEmMgmGgiYYIerPyA0K6BJSqUhVMUIYdBE2MHrilaSNbnTqZk\n",
              "s3hcUfacaarPuZbsiC/3B8JsA2TgAAADALKBAAAA3QGft2pCvwAAAwBCbYcREAIOrHz9YcCW/UMu\n",
              "LodZtMfSJT+JdWOzNruLKBY8QYR67aCBnlxk1DC9V0Lw6afmk9hNUm5l05pDhFrypK/ntTWLCAmA\n",
              "O6KUF/VscBdlcAjsMZ/nbkj/aVguwTZeHOt0BZi3U2JvwebFElYrl+xkKzNm9WufAgyrZ4NkjwOD\n",
              "9XhDyv8WqRDY2cYvm96AyBr6Lq8RHJZYGSRAteAlGOwH/FoDzo9gAcKJ7Xka4WFnusC80b7w5aEK\n",
              "1RBnwOMMTSFdzNaLItNWFitGG7QAAAtpAAACwUGbvEmoQWyZTAh3//6plgAAAwArvC3vQXMjhCAE\n",
              "d3rGCqaAnYr2ygGk+nwn3RMHTRIa4V0Mi8jxFuBF1rOwR4GIUenuc0e9ltzvb9iDq2GPK81SJZgN\n",
              "olp7Bwa2bZO1v0W4GMgnG9oriwHCNKlcIohiVjJc2rwi+Dievmm1jmtsSjesLlrb201cT7JqjhLr\n",
              "VjdQzPn7vLEJuCR8m9Q7Rwx+RJtSxjIWBAA6it6FkQhnbACQ2CIf8A8zPlGBXvrMZA1xkablPMEH\n",
              "4SOblJiFMErGbqZoCOJ+Otauf0b+nGQP8Bb1AOyEj65vDRSrwM+UsaF3mra6Rcgu3MtS2/Pq8ZXQ\n",
              "zhfxyzM9QGGQAG1cJ7ixeP150sIPMQUURl0uYV2+zo721PgQONcdsgLGSv6+NJMa/lScbEXKRgVo\n",
              "puXELo25rBJFLu6PDYEKicjgXs4R89xJjyYhFA/e8bThVhYlO9D3qM8FNVLhjdWrHFTsWmIEAxCg\n",
              "ZnGiymwUlxulggyNwit/AsC9QHs7qb2yaoQs86FyCppGIIeNVtWkTYBZGEZDbn83g1qy+qlp7Kdy\n",
              "1xKDrD05z2E4zW7ZwcKnsSSRh3me30sTTIN1Vmu84E1xYUKcXexCirUvhWcPxzyI7sStpi9RLf9z\n",
              "zg5c5EABlRAM+R2Ht+nXR4fwGgof2GgVS+mVjXY0st3Wzbc9PWpyiMHTQUiCoi/DshfZAtIugAfq\n",
              "mXylZqHb2XBDsaa9ERrtJbjdvsT/AAFKiq15MCCEoNNpGu7/3b4lTiGVGGKu3fJDMpso7Rrj+YlJ\n",
              "ZuxBbi00rjllCtIBo8xvI2v2yzFu94Tojd015CwzoMhA7xr1x9o4INQpNy/lxsvfIeG0h8pm2Lqy\n",
              "b+Pbzwbvvs6xgkVvS7EwEqlIm8akfDqb2MQPIX5vSTNLeD8WzqPr0KN/bqiYQfZQcAAAAPZBn9pF\n",
              "FSwv/wAAAwCK+cxL+wCADzgjEySE83K8ZY/lZAkG6NQiK+FZU8cEnzCn+7GILB528PCpzJmUHyua\n",
              "7Gr7AUx9uU2g7jXxOrsNgf0bkwovb5ikuWfCw+7RV0x3i7lR7hrH6Wm9s8Loo+1U2c/s5lwH9/VS\n",
              "cpJRoULtcA/OOHrnuSaXN6mDwM2Zq/vCVNY1ki4X4kRew+hzGJLomMV2hORPkxu5rT1LXKljMB4P\n",
              "7SJMzHpdBAWBFd0kigigohWmAOC+f1dBBB9q2d8FjlCsR7zWMwpUmb5fs11mO0o24De+fmdwRWOY\n",
              "9LaIo1Cu9yRg+IAABJ0AAADlAZ/5dEK/AAADAEV71I5keuACAeEKD+fU5EWX9mAzl1vzKnWd391D\n",
              "da1AWlLlaYsxO7nYDlJQPJnwGG4GXX5yE07LFZM6uaLLe2+iUcAb6FZko9X0ri3zteZ9OX9+vn+I\n",
              "8LxAqOaZ36UbQlWTFQvaXUsnJZ17jlvqJ0VBqQ+17Cp+axY8EcsF3oHbPKGousZ9slpbm7mYsjNs\n",
              "vBdEFZQYUwFB+DoVF0xyxRXT99ATfs5mWkc+Tgu6d+SBSfx3yM0ITEdLDBo9/RuXSABM1NYa16Kx\n",
              "09BqT8zCdPFGHN/N49eAAADPgAAAAKgBn/tqQr8AAAMAQzcupfiAEw0mq2eCT36VFWvKL9DxFaTu\n",
              "7NfZW4AtPYthO6g1m64UnHjCNiKbx4mxnd3yf/XBv5Q5BvRiGEqPsbOLIH2HUL/Pt60w7quT7vz6\n",
              "ojP98cQTVSQpgFRdiPrAFc4+ELCfXFN5BEiGDIDHJ2wemsvXqkbZg/J5LZ9+kyi6k1gKEA1eh017\n",
              "sKPAK2uE900ygmSZzLCp4AAABd0AAAI9QZv/SahBbJlMCHf//qmWAAADACuRZ+y0AG+nlQoCk4JH\n",
              "dUBRL4vasQl+3FlA52yIDhZenFiowhdNbj0waS4pQZdYKnrtPwiG5/oSh05uXww6tqOTVUW9XlGm\n",
              "N5EoHXo0W1Yud2t/Nst+v++5VjcgzHj4PUq3uBF0HGXnlF352wc1sJU/v9XNzuFqxaRfdq4lMrZC\n",
              "HfDts6S8jK7K7+si5ffmSs/2n6w7I5E0prdFnKi5ux/UUkHsPL6JzomcGLmE7bB0e46zr/92byWD\n",
              "a8KspJfdzD5JxWbqBX54UHz7iqwoHjzvJFtsVppm3d7DDUSY81GpKkQz+42Ihid0U1ANSYASEUIs\n",
              "WwfQFu+tSKI2GwJCkSkq0/980i9d7AQFaCFaXbHmROzVxISEORTrWmkQHNkQQ9p6hzW8jWsySG8Y\n",
              "ch88SEszxC/8frMi28wm91Ac2Jn22Z5xQlOd3Ij75QkhFrf1J+IK9ccrqwiNE7cATw4s2pJ0PQSt\n",
              "RaMxnVRhHXf/WcW8rvnhqpC9tuxmg5NeWngHa0W5LTd7AWlRyVrvSDUY17hsVVoEC5i8FENOLwjB\n",
              "4U+bUQ/pKi3+lwdHQxUWsyCe2Gl9kO0yW/SMq/YP9FnDVDUbaf9dJm7ayXN2VuKo3x3Or3BLwZhV\n",
              "7GHgM/GvMHW8VHswXgrCFeAA+8h819/CmLS827RM7/k2LC1G03Je1YU7zmFH8qOkwtVzU6/Xu1+r\n",
              "h94IR1AVPEnnHqhM4Gq5UGu1rBOi0Qs9iAJBAAAAxkGeHUUVLCv/AAADAL9YZmFLdAA4rJybAWpa\n",
              "EaSazD+gzkdLbNHxRMsP4vdGmjNwCKyza4oCe0wF/1f2f0xCtBTUy6GHT+IdH/Ex0xFXqbDLTRLD\n",
              "HxMB5GQtnHf9JPM6Xr3fkyQbLO9LMa0rhBLuLbx7jH6fg114ZSKWGBGW1P5ummUbKltsAjFdX622\n",
              "D7PoOGuRTjKs3gHvUZ9UEuuKiMejAYQalNGQCX03Te/5yyMnHovVQIbrWaTE/e1r5BR2rEYAAAMB\n",
              "+QAAAKIBnj5qQr8AAAMARXW+xXQw8ADUI4qxDBSrAOa04WXWrtaCdBxMPSRw2mWq3apLIaqOwatN\n",
              "O+nK/K6SdXbjN7nWrTPGuiEXi9STP3EH3bDeKRdZEzZ9n22V70yUV/NlewFoZeOWQpfSbCS4F6z+\n",
              "Q5JvHZhTsfnR3DjcgQ3Nz9P0HqmyMaziDcb+dbP3LGEejM0DVy/vSDtyhWvZQX2sAAADAdUAAAGk\n",
              "QZojSahBbJlMCG///qeEAAADAFQJ+G4ACD+TWWDBLxSHfEv3emlIidQEt/dOWh0f0CwUU8YT4D+o\n",
              "Uh1mQ4Ly6lS7M7ZxVX75H82YzV5IQrZ+2qiQtM3OZu0dTRsqhpipZv0i4e25OR580h+epGP/PJau\n",
              "oxUFC/55IHzGdWtuwKn3o358gJ9w+pmIChg1aTRtH339bDCheR8dRicxFPYDGjzp1PhN7RQWOn1s\n",
              "/Tq9MCWM5fRqcKN+Ad30we+oBnMxf9MqWu4bKvvCPEXzQ3L9MgoRapReEXjuhA27GE/ymRWQbe/4\n",
              "pg7VleQzYZDi7dLQaMvhMWL+v8y+4cp0Bx8pvwvaW7IMjlejc7f8N3QXxrGlXOkYAM3mYNEMf4Fg\n",
              "9VsOoBhsHRxYF6z3P+a4R5kmwU080jFv1cncS/q2byYmRQdtpKEiZMqGV6ZT1y0sljOjQJfPelR0\n",
              "OXGrrdGZWp8+l9VvRP4k0i83L2YP6BPq+QxX/YMsKewhWxY+o/SJhgXi+tdfZG0md6LIcITQgTx+\n",
              "XM/UQqKCDeep9RevfmiwDU4955kFAAAAvkGeQUUVLC//AAADAIr5zD0GBnOgA2gmkOgzn+GGiuND\n",
              "YIQabkvIDTG9vvddzAVxonHyMAQLZjFaik8/o3AUYJRze9ts74ikcX0Ts4a+x2zO4sdmKGXW1HgF\n",
              "NTaM7oi8IgZs32N2vrtWVCPrSoStcMCXcmwfTIYTJZdRvF0uF8FG3LHzWtLcgRO6RjSciRnGoVgJ\n",
              "O0lUn6/LPhRHvs8AS7k2G4R4BNyoNu1IzH8/0k1wdH2lUsCI/k0AAAMAGzAAAADdAZ5gdEK/AAAD\n",
              "AEOj4gBL/053bgIaLzJXXQ0En2UnVcrhHXkkRMo0AbZaIXouAxODznjIqLR+POAxS8+SIpfFANxT\n",
              "/Rb2gUUoK/Y3fnCFHDB+7a4rInRRLhzpDKXN35x6wh4BspfPcMOwhmHFY48Kp8DQ7xhnjQwwWBGD\n",
              "aJWhHm1pprtu3YioBXbx6JSWw2GAQ/+XexTU8kvCg4ZHdbplhCugzdTcwV4yjAChYWMNiHeot4gZ\n",
              "Gjf0RmdyDJv/sgioChkrzpoY4SNMNk0D67p++VYpcryxbQwKSAAAB/kAAADIAZ5iakK/AAADAEN3\n",
              "QiAEAcR8XZm9ohgdeQT0wwO8su+c+sbnFJ1EEQdGf1fQesKzZGNp/fnz82EyFv2IVQtJuvylXzOO\n",
              "pLj6p0X5lngTxaiJX5bdX4JotXvi+b7hFV7N57Lge4/SpGcoRhKUPEaBfayEAKI7sSMUbv4GrHBL\n",
              "W1mfuRDQuueba/QZmNpuGi+N7qcm7WVriDGGWgHR0gwL4gnvzvAFNVmkF6XJ6GkhTeTMBvbkVy2e\n",
              "a33MGbEAIx7vOSOYAAADApIAAAG/QZpnSahBbJlMCG///qeEAAADAFZY2OQAmr3mNpfrZPcFIf1Z\n",
              "d0lV6wJKCv1/w0YaHz9/Jl0LEChA40tuqWJiBMyS3b6mnIZsUMu7fXvOqDJS2OHA6WjcxzZoKAIC\n",
              "g2xTshfF5b10gcswIqryEd+VbrT4wv7rnM0XspuAPRxGqpDVr8LbLQZwV8lAlK/xOpVI3I/rh7lB\n",
              "Y5kzVxPx5E9nnLvG0K8ZGDxI5i7SW0XqNxGelcTLMb/TVDpOSLhliJ0QS2CP30F56hf3trl4QBgT\n",
              "x+vw0tFTpYehD8y9v00KPX8j4DTsWYHk8PgrM5fuyuEtg7F3x5Z7wkkrobLpB2rFVGzZlc2CSa0S\n",
              "aomjSlzy9SKFlKl4+R4DM7cEoRpwTw48ZSjPB9hpjane3+a2vWpySju2nOqS5JnPtQiOB2ssgGVy\n",
              "LnJOjy8s8fNbp41YUGEK6iTfaD25V0KJetHHTPN1x7LNod11jpU+8vFnn7TvgH0TXKGyWgPj3JKz\n",
              "Rrk3wrcJKf8BT72Vy17Bt9lZdICzdXQr9Y5XwjD8o7wWS1JFPiBvHryWEJw6F/z7yz6mCINSHbrB\n",
              "5zm+R7AVfcAAAO6BAAAA/UGehUUVLC//AAADAIr5zEvuNVwAfCHRrsDMRH1bN0EacsiVibgHTG8V\n",
              "OEIsVDPkPNtHHtzAiHsVMdGJSEmmIa9wTk84u44l4CbQ0du40xkXGxwehZQejkOHtDPk/HPykH5U\n",
              "v4hs6q3rXoXAgpacGlDR/aSNFEzaVC3qwuilvD/af8DbhRVwEiOCOMbqHFzrw7AbKK9TrNLTlQXz\n",
              "77QoyksXpp8e3VLK4kw58Hm0MiO51BlrFUklnFYwT2e3hiFgZvX1sfjNqHTr8WVJhzJKrqXPwwOD\n",
              "ZDyJ/jCbgbadGcn/Pgr4zZnXq2OetbO0GFrJkgkwSxXcV/cYQAAABF0AAADbAZ6kdEK/AAADAEVc\n",
              "1Cm+ACF/mPkgr1211u613soNibbSAsByPEcGkCL4Help3Rd8JaWm7W9YmP+IZxX6OlZ266H1W121\n",
              "Uh2Psh3SZIiSNZ4arcO5epYBzY6uPLDFhH5YzLhtM1a1Gu3HnRzAxml9Lb0xbmEe+tlQaYlS6ecH\n",
              "bGy33xsG7uiUk49X7MEe+JQ4uwylYJf39v5B7za6+i5uVqmMz2ilOtOSUbKByznaag9ZfqY++P31\n",
              "BNtWdRNOX2w14QNmUiW0PDWudKzElQ8VCSu6RzFwh8AAAAj5AAAArAGepmpCvwAAAwBC/sV0dMQA\n",
              "g6K1mJcNI7Q1ttpg3NroLpxVq0fMOB5Lish6Htq9aQkl8ZwebKsB1WSv9f69sq+3b8xTRKX7ndi9\n",
              "SRNtVfgH+bKi7stuBEgcHU4ddt7VsKGkMqFa+tOUNljjjf1ip2oZWNOhqJ+RLB5M5P8b9iOfcwkw\n",
              "pzHftpc+YVeJiepuC+ZWHQ8d21knjRaJO/j1bcGILPmKFUo4WAAAz4EAAAHmQZqrSahBbJlMCGf/\n",
              "/p4QAAADAVHfflb0010wAjodfCKreLvipKwjVejrhcgJH84k/UwpIBdUbiI2QIxH1EglEKDfC/MW\n",
              "SlBSOBUCtcUNS7vr0s0PlcgjWyRDzp3NNPrDd/NCfrhxpLsUgPhOKeW78N92J4qf3eeLWSMs5Qj6\n",
              "lifd3PH8T1j9tVgMLjodfUHYhn6ahSDIdxeiz7SL092Tiv3PcmjzUi9WE+AVInOgj2TymbPQ+WRt\n",
              "K2cv9x16i15d/m7jGquUG1NerZzWoazyuBu8SgulJQvYFUi20lNScow+QmYOuA9C2xtcVF8gkkcJ\n",
              "J5TEwUp/q5TTqGA5iMgE0pmkVSPRBk9dkmnAZMnOqXE9vifj4EfPC4oYukhccojC025uHTDjtrgD\n",
              "HyUlC1aWQQ/rnXoiZ5AbiM+xHAayD56AiRKg5hnl4v84UHM7Evbfwhi3RdaLdKJn2CTzF9i+VGrF\n",
              "w73e3Q/BUeEsgjzoXR4qk7+BO7+7lcZ6Zj6gGLNjyo+fTwDsJFCgpKXpQd4PW+f582KarN45sFer\n",
              "JGLZrVcKNDAFT4arK6jODFxF6QB3ZVkMfeFD8SdiQf+8LRDwmOaPKqe21BSq3G2+1RYWNIGPmhyq\n",
              "JAwh0SklsqWXNasL5Qngda2AAAAA6EGeyUUVLC//AAADAIr5zEv7AIAPiUWzTA7mBhOkLQ8H3Wby\n",
              "zYbdF2UMlYxw5Pi0vYiQoouFlo5jIIfO28e6R5JTQliXewNL5VSN24ptTuro4qNWCKVBBJvNRIlz\n",
              "LOORhe1jx/22yxl5GiG+LOIWOvQhWqbFPZG0XU0BMVNc41hRPTSHXUg/v7YQiXGFZG+omKBfwyNy\n",
              "I3pS6ZQ6yl4+HfoIxYiJJyRNQKgGEZX8H/e2/N85tw3gv4wF+A0+5sC6MTwY/Ty9lA0QryDnBoMQ\n",
              "bLGBcwTk8C/MsHg4ahzYrB79KHTcwAAAO6AAAAC8AZ7odEK/AAADAEV7PvnS2TwAhHNa0MclO6pR\n",
              "ANMx2DomQ7meTP6UW2blhu5duApf8far6oT6w/hMysK7snaGnA0q1vsI9oEyT383C1G12icvhZDa\n",
              "YuTuuCt2kbbiPQ3EAXDwUUu7Xvu1SEtYpzzJG+60cfknf9mmgdB0xY1+PqSH0diN5C0fcp429bp9\n",
              "xxIEI6aJMi563hiFJAZJWAM6xc3b499ywNqY7EwQQAX/XA5hBHTPJPhZwAAADjkAAAC1AZ7qakK/\n",
              "AAADAEMy25iAEA7/rCPCzrR69p4V5JzZ4DlFmU/n+CLdIWB4zudPqeFjaAgu1L0QHysgz4/YBRYR\n",
              "jW+kzcrGeqT7F528J9zpYU5qL1ypqOZKSLpwE/DtFTd1mSiR6O32m+dYY91lyVcCs7WMAVCDBA2q\n",
              "Nb2In2U3WjbfEKM61kOqYfBpJINdVsFilivJ+5efbZiSckq+CZpK71726MffTFrQDsvZ+jonZYAA\n",
              "AAMBdwAAARRBmu1JqEFsmUwUTCv//jhAAAAE94Y6AA09wCnw1kXmHXbzPUirmQvopwD0bODsWDnt\n",
              "KkTbkWmR+DORva/KSlplagqFphXu6koa6i7dkvLROJhfZAACZFYrjKkDOA8/r9aFNtLusM6pXJao\n",
              "UzgobDJb6Fs1/fC88OvjyaYj2+CMky/MhUPEcQIiTSK9CODKgppEnFD53qMBikgpJXgY15SZOFdQ\n",
              "IAxFCdVRmxRqGZA3bIS9oZaDp92MFa78CtQyz9dX6p0jHiyL0eU6jme25MggaPxuPUY8Ov6ttm4n\n",
              "fX6WL56iKmS/uz85QuVurwlWgDt1L4RcmbXf4KlH1Ab/Zu7isezT/ArIq8VPejxUWUhDQAAAQ8AA\n",
              "AAC3AZ8MakK/AAADAL9YZmHadXJRQANmYkWbM4HRwgrWAoznlsHOV7i3LhbikB1Z2o3rb2Bjtkua\n",
              "NL/JIfXe/c7RdZNWJYfkjhgbKvKlE7YH/i01rCYI+97HXLPOYNM8rGLUnsPjFDZR5iKyXXjb2Wio\n",
              "6OrsYymweteGwA53o/IH62B6rlai+1KHSmrRWYAizrSysLL3WCY7iBWOg77KJhBgp/obOtC+qSwR\n",
              "bsa24BwFSXLT+f3AAAI/AAAG1G1vb3YAAABsbXZoZAAAAAAAAAAAAAAAAAAAA+gAAAwwAAEAAAEA\n",
              "AAAAAAAAAAAAAAABAAAAAAAAAAAAAAAAAAAAAQAAAAAAAAAAAAAAAAAAQAAAAAAAAAAAAAAAAAAA\n",
              "AAAAAAAAAAAAAAAAAAAAAAIAAAX+dHJhawAAAFx0a2hkAAAAAwAAAAAAAAAAAAAAAQAAAAAAAAww\n",
              "AAAAAAAAAAAAAAAAAAAAAAABAAAAAAAAAAAAAAAAAAAAAQAAAAAAAAAAAAAAAAAAQAAAAAJYAAAC\n",
              "WAAAAAAAJGVkdHMAAAAcZWxzdAAAAAAAAAABAAAMMAAABAAAAQAAAAAFdm1kaWEAAAAgbWRoZAAA\n",
              "AAAAAAAAAAAAAAAAMgAAAJwAVcQAAAAAAC1oZGxyAAAAAAAAAAB2aWRlAAAAAAAAAAAAAAAAVmlk\n",
              "ZW9IYW5kbGVyAAAABSFtaW5mAAAAFHZtaGQAAAABAAAAAAAAAAAAAAAkZGluZgAAABxkcmVmAAAA\n",
              "AAAAAAEAAAAMdXJsIAAAAAEAAAThc3RibAAAALlzdHNkAAAAAAAAAAEAAACpYXZjMQAAAAAAAAAB\n",
              "AAAAAAAAAAAAAAAAAAAAAAJYAlgASAAAAEgAAAAAAAAAAQAAAAAAAAAAAAAAAAAAAAAAAAAAAAAA\n",
              "AAAAAAAAAAAAABj//wAAADdhdmNDAWQAHv/hABpnZAAerNlAmBN5ZYQAAAMABAAAAwDIPFi2WAEA\n",
              "Bmjr48siwP34+AAAAAAcdXVpZGtoQPJfJE/FujmlG88DI/MAAAAAAAAAGHN0dHMAAAAAAAAAAQAA\n",
              "AE4AAAIAAAAAFHN0c3MAAAAAAAAAAQAAAAEAAAJ4Y3R0cwAAAAAAAABNAAAAAQAABAAAAAABAAAK\n",
              "AAAAAAEAAAQAAAAAAQAAAAAAAAABAAACAAAAAAEAAAoAAAAAAQAABAAAAAABAAAAAAAAAAEAAAIA\n",
              "AAAAAQAACgAAAAABAAAEAAAAAAEAAAAAAAAAAQAAAgAAAAABAAAKAAAAAAEAAAQAAAAAAQAAAAAA\n",
              "AAABAAACAAAAAAEAAAoAAAAAAQAABAAAAAABAAAAAAAAAAEAAAIAAAAAAQAACgAAAAABAAAEAAAA\n",
              "AAEAAAAAAAAAAQAAAgAAAAABAAAKAAAAAAEAAAQAAAAAAQAAAAAAAAABAAACAAAAAAEAAAoAAAAA\n",
              "AQAABAAAAAABAAAAAAAAAAEAAAIAAAAAAQAACgAAAAABAAAEAAAAAAEAAAAAAAAAAQAAAgAAAAAB\n",
              "AAAKAAAAAAEAAAQAAAAAAQAAAAAAAAABAAACAAAAAAEAAAoAAAAAAQAABAAAAAABAAAAAAAAAAEA\n",
              "AAIAAAAAAQAACgAAAAABAAAEAAAAAAEAAAAAAAAAAQAAAgAAAAABAAAKAAAAAAEAAAQAAAAAAQAA\n",
              "AAAAAAABAAACAAAAAAEAAAoAAAAAAQAABAAAAAABAAAAAAAAAAEAAAIAAAAAAQAACgAAAAABAAAE\n",
              "AAAAAAEAAAAAAAAAAQAAAgAAAAABAAAIAAAAAAIAAAIAAAAAAQAACgAAAAABAAAEAAAAAAEAAAAA\n",
              "AAAAAQAAAgAAAAABAAAKAAAAAAEAAAQAAAAAAQAAAAAAAAABAAACAAAAAAEAAAoAAAAAAQAABAAA\n",
              "AAABAAAAAAAAAAEAAAIAAAAAAQAABgAAAAABAAACAAAAABxzdHNjAAAAAAAAAAEAAAABAAAATgAA\n",
              "AAEAAAFMc3RzegAAAAAAAAAAAAAATgAAEpYAAAOXAAABhQAAAOsAAADlAAADCwAAAQQAAADFAAAA\n",
              "5QAAAhYAAAEaAAAAmAAAAJ8AAAHpAAABHwAAAL0AAAC9AAAB5QAAAOIAAACUAAAAlwAAAe8AAADe\n",
              "AAAA4wAAAOAAAAIlAAAA7AAAANgAAADeAAAC7gAAAPgAAADnAAAA8gAAAroAAAD+AAAA2QAAALoA\n",
              "AAI0AAABGgAAAM4AAAD6AAACMwAAAUsAAACnAAAA1wAAAocAAAEKAAAA5AAAAMMAAAIaAAAAswAA\n",
              "ALcAAADAAAAC+AAAAPUAAAEJAAAA4QAAAsUAAAD6AAAA6QAAAKwAAAJBAAAAygAAAKYAAAGoAAAA\n",
              "wgAAAOEAAADMAAABwwAAAQEAAADfAAAAsAAAAeoAAADsAAAAwAAAALkAAAEYAAAAuwAAABRzdGNv\n",
              "AAAAAAAAAAEAAAAwAAAAYnVkdGEAAABabWV0YQAAAAAAAAAhaGRscgAAAAAAAAAAbWRpcmFwcGwA\n",
              "AAAAAAAAAAAAAAAtaWxzdAAAACWpdG9vAAAAHWRhdGEAAAABAAAAAExhdmY1OC43Ni4xMDA=\n",
              "\">\n",
              "  Your browser does not support the video tag.\n",
              "</video>"
            ]
          },
          "metadata": {},
          "execution_count": 23
        },
        {
          "output_type": "display_data",
          "data": {
            "text/plain": [
              "<Figure size 600x600 with 1 Axes>"
            ],
            "image/png": "[encoded data removed]"
          },
          "metadata": {}
        }
      ],
      "source": [
        "# create a figure and axes\n",
        "fig = plt.figure(figsize=(6,6))\n",
        "\n",
        "# Create arrays with the latitude and longitude coordinates for plotting using pcolor\n",
        "from dedalus.extras import plot_tools\n",
        "(X, Y) = plot_tools.quad_mesh(np.squeeze(x), np.squeeze(y))\n",
        "\n",
        "# Define an animation function\n",
        "def drawframe(n):\n",
        "    plt.clf()\n",
        "    concentration = plt.pcolor(X, Y, c_save[n,:,:].T)\n",
        "    # Specify the axis limits and labels\n",
        "    plt.axis('square')\n",
        "    plt.xlim(0, L)\n",
        "    plt.ylim(0, w)\n",
        "    plt.xlabel('x (m)')\n",
        "    plt.ylabel('y (m)')\n",
        "    plt.title('concentration, time = {0:.2f} seconds'.format(t_save[n]))\n",
        "    return (concentration,)\n",
        "\n",
        "from matplotlib import animation\n",
        "# blit=True re-draws only the parts that have changed.\n",
        "anim = animation.FuncAnimation(fig, drawframe, frames=len(t_save), interval=40, blit=True)\n",
        "\n",
        "from IPython.display import HTML\n",
        "HTML(anim.to_html5_video())"
      ]
    },
    {
      "cell_type": "markdown",
      "metadata": {
        "id": "gh2FiEdcsR2q"
      },
      "source": [
        "## 2.3 Student investigation\n",
        "<a id='section2pt3'></a>\n",
        "In the boxes below, plot the pollution concentration at a few points as a function of time. Then vary the maximum flow speed and the diffusivity and explore how the pollution levels depend on these parameters. Using dimensional analysis, estimate the time needed for the pollution to reach the opposite side of the river. How far downstream of the source do you expect this to happen (assuming that the domain in the x-direction is infinite)."
      ]
    },
    {
      "cell_type": "code",
      "source": [
        "fig = plt.figure(figsize=(6,6))\n",
        "plt.xlabel('Time (s)')\n",
        "plt.ylabel('Concentration')\n",
        "plt.title('Concentrations of Pollutants at Specific Points Over Time')\n",
        "\n",
        "plt.plot(t_save, c_save[:, 50, 0], color = 'purple', label = 'Right before x = 10 m w/ y = 0')                      # Right before x = 10 m w/ y = 0\n",
        "plt.plot(t_save, c_save[:, 52, 0], color = 'blue', label = 'Right after x = 10 m w/ y = 0')                         # Right after x = 10 m w/ y = 0\n",
        "\n",
        "plt.plot(t_save, c_save[:, 50, 15], color = 'red', label = 'Right before x = 10 m w/ a higher y')                   # Right before x = 10 m w/ a higher y\n",
        "plt.plot(t_save, c_save[:, 52, 15], color = 'orange', label = 'Right after x = 10 m w/ a higher y')                 # Right after x = 10 m w/ a higher y\n",
        "\n",
        "plt.plot(t_save, c_save[:, 255, 31], color = 'green', label = 'Endpoint')                                           # Endpoint\n",
        "\n",
        "plt.legend(loc='upper left')"
      ],
      "metadata": {
        "id": "unW_hxSAyqXm",
        "outputId": "dcc9de63-c346-4bd1-b640-034a48afb125",
        "colab": {
          "base_uri": "https://localhost:8080/",
          "height": 581
        }
      },
      "execution_count": 25,
      "outputs": [
        {
          "output_type": "execute_result",
          "data": {
            "text/plain": [
              "<matplotlib.legend.Legend at 0x7ba966ebc700>"
            ]
          },
          "metadata": {},
          "execution_count": 25
        },
        {
          "output_type": "display_data",
          "data": {
            "text/plain": [
              "<Figure size 600x600 with 1 Axes>"
            ],
            "image/png": "[encoded data removed]"
          },
          "metadata": {}
        }
      ]
    },
    {
      "cell_type": "code",
      "source": [
        "# U0 = 0.005 m/s\n",
        "\n",
        "\"\"\"\n",
        "Script to solve the time-dependent advection/diffusion equation\n",
        "\"\"\"\n",
        "\n",
        "import numpy as np\n",
        "import matplotlib.pyplot as plt\n",
        "import dedalus.public as dedalus\n",
        "import logging\n",
        "logger = logging.getLogger(__name__)\n",
        "\n",
        "# Set parameters\n",
        "U0 = 0.005 # maximum current speed in m/s\n",
        "w = 10 # width of the river in m\n",
        "L = 50 # length of the river section to simulate\n",
        "kappa = 1e-2 # diffusivity in m^2/s\n",
        "S0 = 1 # amplitude of the pollution source term\n",
        "S_w = 1 # width of the source term in m\n",
        "S_x = 10 # center of the forcing in x\n",
        "S_y = 0 # center of the forcing in y\n",
        "S_t = 1 # forcing timescale\n",
        "\n",
        "# Numerical parameters\n",
        "Nx = 256 # number of gridoints in x\n",
        "Ny = 32 # number of gridpoints in y\n",
        "stop_sim_time=1500 # end time in seconds\n",
        "timestep = (L/Nx)/U0 # timestep in seconds, calculated from the CFL number\n",
        "\n",
        "import numpy as np\n",
        "import dedalus.public as dedalus\n",
        "import logging\n",
        "logger = logging.getLogger(__name__)\n",
        "\n",
        "# Bases and coordinates\n",
        "coords = dedalus.CartesianCoordinates('x', 'y')\n",
        "dist = dedalus.Distributor(coords, dtype=np.float64)\n",
        "xbasis = dedalus.RealFourier(coords['x'], size=Nx, bounds=(0, L), dealias=3/2)\n",
        "ybasis = dedalus.ChebyshevT(coords['y'], size=Ny, bounds=(0, w), dealias=3/2)\n",
        "x, y = dist.local_grids(xbasis, ybasis)\n",
        "ex, ey = coords.unit_vector_fields(dist) # x and y unit vectors\n",
        "\n",
        "# Fields\n",
        "c = dist.Field(name='b', bases=(xbasis,ybasis))\n",
        "u = dist.Field(name='u', bases=(xbasis,ybasis))\n",
        "tau_1 = dist.Field(name='tau_1', bases=xbasis)\n",
        "tau_2 = dist.Field(name='tau_2', bases=xbasis)\n",
        "\n",
        "# Specify the velocity field\n",
        "u['g'] = U0 * (1- (y - w/2)**2.0/(w/2)**2.0) # parabolic velocity profile\n",
        "\n",
        "# Substitutions\n",
        "lift_basis = ybasis.derivative_basis(1)\n",
        "lift = lambda A: dedalus.Lift(A, lift_basis, -1)\n",
        "grad_c = dedalus.grad(c) + ey*lift(tau_1)\n",
        "dx = lambda A: dedalus.Differentiate(A, coords['x'])\n",
        "\n",
        "S = dist.Field(name='u', bases=(xbasis,ybasis))\n",
        "S['g'] = S0*np.exp(-(x-S_x)**2.0/S_w**2.0-(y-S_y)**2.0/S_w**2.0)\n",
        "\n",
        "# Problem\n",
        "problem = dedalus.IVP([c, tau_1, tau_2], namespace=locals())\n",
        "problem.add_equation(\"dt(c) + u*dx(c) - kappa*div(grad_c) + lift(tau_2) = S/S_t\")\n",
        "problem.add_equation(\"c(y=0) = 0\")\n",
        "problem.add_equation(\"c(y=w) = 0\")\n",
        "\n",
        "# Now, set the solver\n",
        "solver = problem.build_solver(dedalus.RK222)\n",
        "solver.stop_sim_time = stop_sim_time\n",
        "\n",
        "# Create an array to periodically save the concentration field for plotting later\n",
        "c.change_scales(1)\n",
        "c_save = [np.copy(c['g'])];\n",
        "\n",
        "t_save = [solver.sim_time]; # Save the initial condition and the initial time\n",
        "# Main loop\n",
        "try:\n",
        "    logger.info('Starting main loop')\n",
        "    while solver.proceed:\n",
        "        solver.step(timestep)\n",
        "        if (solver.iteration-1) % 10 == 0:\n",
        "            logger.info('Iteration=%i, Time=%e, dt=%e' %(solver.iteration, solver.sim_time, timestep))\n",
        "            c.change_scales(1)\n",
        "            c_save.append(np.copy(c['g']))\n",
        "            t_save.append(solver.sim_time)\n",
        "except:\n",
        "    logger.error('Exception raised, triggering end of main loop.')\n",
        "    raise\n",
        "finally:\n",
        "    solver.log_stats()\n",
        "\n",
        "# Convert the variables to numpy arrays for allow array slicing\n",
        "c_save = np.array(c_save)\n",
        "\n",
        "# create a figure and axes\n",
        "fig = plt.figure(figsize=(6,6))\n",
        "\n",
        "# Create arrays with the latitude and longitude coordinates for plotting using pcolor\n",
        "from dedalus.extras import plot_tools\n",
        "(X, Y) = plot_tools.quad_mesh(np.squeeze(x), np.squeeze(y))\n",
        "\n",
        "# Define an animation function\n",
        "def drawframe(n):\n",
        "    plt.clf()\n",
        "    concentration = plt.pcolor(X, Y, c_save[n,:,:].T)\n",
        "    # Specify the axis limits and labels\n",
        "    plt.axis('square')\n",
        "    plt.xlim(0, L)\n",
        "    plt.ylim(0, w)\n",
        "    plt.xlabel('x (m)')\n",
        "    plt.ylabel('y (m)')\n",
        "    plt.title('concentration, time = {0:.2f} seconds'.format(t_save[n]))\n",
        "    return (concentration,)\n",
        "\n",
        "from matplotlib import animation\n",
        "# blit=True re-draws only the parts that have changed.\n",
        "anim = animation.FuncAnimation(fig, drawframe, frames=len(t_save), interval=40, blit=True)\n",
        "\n",
        "from IPython.display import HTML\n",
        "HTML(anim.to_html5_video())"
      ],
      "metadata": {
        "id": "7bVinWpOzEWZ",
        "outputId": "e851fd75-c8dd-4fa9-df4a-dc2b4c90b6f4",
        "colab": {
          "base_uri": "https://localhost:8080/",
          "height": 1000
        }
      },
      "execution_count": 9,
      "outputs": [
        {
          "output_type": "stream",
          "name": "stderr",
          "text": [
            "INFO:subsystems:Building subproblem matrices 1/1 (~100%) Elapsed: 0s, Remaining: 0s, Rate: 3.4e+00/s\n"
          ]
        },
        {
          "output_type": "stream",
          "name": "stdout",
          "text": [
            "2024-12-04 16:37:09,315 subsystems 0/1 INFO :: Building subproblem matrices 1/1 (~100%) Elapsed: 0s, Remaining: 0s, Rate: 3.4e+00/s\n"
          ]
        },
        {
          "output_type": "stream",
          "name": "stderr",
          "text": [
            "INFO:__main__:Starting main loop\n"
          ]
        },
        {
          "output_type": "stream",
          "name": "stdout",
          "text": [
            "2024-12-04 16:37:09,322 __main__ 0/1 INFO :: Starting main loop\n"
          ]
        },
        {
          "output_type": "stream",
          "name": "stderr",
          "text": [
            "INFO:__main__:Iteration=1, Time=3.906250e+01, dt=3.906250e+01\n"
          ]
        },
        {
          "output_type": "stream",
          "name": "stdout",
          "text": [
            "2024-12-04 16:37:09,358 __main__ 0/1 INFO :: Iteration=1, Time=3.906250e+01, dt=3.906250e+01\n"
          ]
        },
        {
          "output_type": "stream",
          "name": "stderr",
          "text": [
            "INFO:__main__:Iteration=11, Time=4.296875e+02, dt=3.906250e+01\n"
          ]
        },
        {
          "output_type": "stream",
          "name": "stdout",
          "text": [
            "2024-12-04 16:37:09,385 __main__ 0/1 INFO :: Iteration=11, Time=4.296875e+02, dt=3.906250e+01\n"
          ]
        },
        {
          "output_type": "stream",
          "name": "stderr",
          "text": [
            "INFO:__main__:Iteration=21, Time=8.203125e+02, dt=3.906250e+01\n"
          ]
        },
        {
          "output_type": "stream",
          "name": "stdout",
          "text": [
            "2024-12-04 16:37:09,412 __main__ 0/1 INFO :: Iteration=21, Time=8.203125e+02, dt=3.906250e+01\n"
          ]
        },
        {
          "output_type": "stream",
          "name": "stderr",
          "text": [
            "INFO:__main__:Iteration=31, Time=1.210938e+03, dt=3.906250e+01\n"
          ]
        },
        {
          "output_type": "stream",
          "name": "stdout",
          "text": [
            "2024-12-04 16:37:09,443 __main__ 0/1 INFO :: Iteration=31, Time=1.210938e+03, dt=3.906250e+01\n"
          ]
        },
        {
          "output_type": "stream",
          "name": "stderr",
          "text": [
            "INFO:solvers:Simulation stop time reached.\n"
          ]
        },
        {
          "output_type": "stream",
          "name": "stdout",
          "text": [
            "2024-12-04 16:37:09,474 solvers 0/1 INFO :: Simulation stop time reached.\n"
          ]
        },
        {
          "output_type": "stream",
          "name": "stderr",
          "text": [
            "INFO:solvers:Final iteration: 39\n"
          ]
        },
        {
          "output_type": "stream",
          "name": "stdout",
          "text": [
            "2024-12-04 16:37:09,477 solvers 0/1 INFO :: Final iteration: 39\n"
          ]
        },
        {
          "output_type": "stream",
          "name": "stderr",
          "text": [
            "INFO:solvers:Final sim time: 1523.4375\n"
          ]
        },
        {
          "output_type": "stream",
          "name": "stdout",
          "text": [
            "2024-12-04 16:37:09,481 solvers 0/1 INFO :: Final sim time: 1523.4375\n"
          ]
        },
        {
          "output_type": "stream",
          "name": "stderr",
          "text": [
            "INFO:solvers:Setup time (init - iter 0): 0.3339 sec\n"
          ]
        },
        {
          "output_type": "stream",
          "name": "stdout",
          "text": [
            "2024-12-04 16:37:09,485 solvers 0/1 INFO :: Setup time (init - iter 0): 0.3339 sec\n"
          ]
        },
        {
          "output_type": "stream",
          "name": "stderr",
          "text": [
            "INFO:solvers:Warmup time (iter 0-10): 0.05343 sec\n"
          ]
        },
        {
          "output_type": "stream",
          "name": "stdout",
          "text": [
            "2024-12-04 16:37:09,488 solvers 0/1 INFO :: Warmup time (iter 0-10): 0.05343 sec\n"
          ]
        },
        {
          "output_type": "stream",
          "name": "stderr",
          "text": [
            "INFO:solvers:Run time (iter 10-end): 0.09425 sec\n"
          ]
        },
        {
          "output_type": "stream",
          "name": "stdout",
          "text": [
            "2024-12-04 16:37:09,492 solvers 0/1 INFO :: Run time (iter 10-end): 0.09425 sec\n"
          ]
        },
        {
          "output_type": "stream",
          "name": "stderr",
          "text": [
            "INFO:solvers:CPU time (iter 10-end): 2.618e-05 cpu-hr\n"
          ]
        },
        {
          "output_type": "stream",
          "name": "stdout",
          "text": [
            "2024-12-04 16:37:09,494 solvers 0/1 INFO :: CPU time (iter 10-end): 2.618e-05 cpu-hr\n"
          ]
        },
        {
          "output_type": "stream",
          "name": "stderr",
          "text": [
            "INFO:solvers:Speed: 5.335e+06 mode-stages/cpu-sec\n"
          ]
        },
        {
          "output_type": "stream",
          "name": "stdout",
          "text": [
            "2024-12-04 16:37:09,495 solvers 0/1 INFO :: Speed: 5.335e+06 mode-stages/cpu-sec\n"
          ]
        },
        {
          "output_type": "stream",
          "name": "stderr",
          "text": [
            "INFO:matplotlib.animation:Animation.save using <class 'matplotlib.animation.FFMpegWriter'>\n"
          ]
        },
        {
          "output_type": "stream",
          "name": "stdout",
          "text": [
            "2024-12-04 16:37:09,638 matplotlib.animation 0/1 INFO :: Animation.save using <class 'matplotlib.animation.FFMpegWriter'>\n"
          ]
        },
        {
          "output_type": "stream",
          "name": "stderr",
          "text": [
            "INFO:matplotlib.animation:MovieWriter._run: running command: ffmpeg -f rawvideo -vcodec rawvideo -s 600x600 -pix_fmt rgba -framerate 25.0 -i pipe: -vcodec h264 -pix_fmt yuv420p -y /tmp/tmppxhno_w9/temp.m4v\n"
          ]
        },
        {
          "output_type": "stream",
          "name": "stdout",
          "text": [
            "2024-12-04 16:37:09,644 matplotlib.animation 0/1 INFO :: MovieWriter._run: running command: ffmpeg -f rawvideo -vcodec rawvideo -s 600x600 -pix_fmt rgba -framerate 25.0 -i pipe: -vcodec h264 -pix_fmt yuv420p -y /tmp/tmppxhno_w9/temp.m4v\n"
          ]
        },
        {
          "output_type": "execute_result",
          "data": {
            "text/plain": [
              "<IPython.core.display.HTML object>"
            ],
            "text/html": [
              "<video width=\"600\" height=\"600\" controls autoplay loop>\n",
              "  <source type=\"video/mp4\" src=\"data:video/mp4;base64,AAAAIGZ0eXBNNFYgAAACAE00ViBpc29taXNvMmF2YzEAAAAIZnJlZQAAGDhtZGF0AAACrgYF//+q\n",
              "3EXpvebZSLeWLNgg2SPu73gyNjQgLSBjb3JlIDE2MyByMzA2MCA1ZGI2YWE2IC0gSC4yNjQvTVBF\n",
              "Ry00IEFWQyBjb2RlYyAtIENvcHlsZWZ0IDIwMDMtMjAyMSAtIGh0dHA6Ly93d3cudmlkZW9sYW4u\n",
              "b3JnL3gyNjQuaHRtbCAtIG9wdGlvbnM6IGNhYmFjPTEgcmVmPTMgZGVibG9jaz0xOjA6MCBhbmFs\n",
              "eXNlPTB4MzoweDExMyBtZT1oZXggc3VibWU9NyBwc3k9MSBwc3lfcmQ9MS4wMDowLjAwIG1peGVk\n",
              "X3JlZj0xIG1lX3JhbmdlPTE2IGNocm9tYV9tZT0xIHRyZWxsaXM9MSA4eDhkY3Q9MSBjcW09MCBk\n",
              "ZWFkem9uZT0yMSwxMSBmYXN0X3Bza2lwPTEgY2hyb21hX3FwX29mZnNldD0tMiB0aHJlYWRzPTMg\n",
              "bG9va2FoZWFkX3RocmVhZHM9MSBzbGljZWRfdGhyZWFkcz0wIG5yPTAgZGVjaW1hdGU9MSBpbnRl\n",
              "cmxhY2VkPTAgYmx1cmF5X2NvbXBhdD0wIGNvbnN0cmFpbmVkX2ludHJhPTAgYmZyYW1lcz0zIGJf\n",
              "cHlyYW1pZD0yIGJfYWRhcHQ9MSBiX2JpYXM9MCBkaXJlY3Q9MSB3ZWlnaHRiPTEgb3Blbl9nb3A9\n",
              "MCB3ZWlnaHRwPTIga2V5aW50PTI1MCBrZXlpbnRfbWluPTI1IHNjZW5lY3V0PTQwIGludHJhX3Jl\n",
              "ZnJlc2g9MCByY19sb29rYWhlYWQ9NDAgcmM9Y3JmIG1idHJlZT0xIGNyZj0yMy4wIHFjb21wPTAu\n",
              "NjAgcXBtaW49MCBxcG1heD02OSBxcHN0ZXA9NCBpcF9yYXRpbz0xLjQwIGFxPTE6MS4wMACAAAAM\n",
              "u2WIhAAz//727L4FNf2f0JcRLMXaSnA+KqSAgHc0wAAAAwAAAwAAFgn0I7DkqgN3QAAAHGAFBCwC\n",
              "PCVC2EhH2OIdQ4SKHHmB+x/yxDPCxwr/PgXy5WMpnoY6mnLS8iV+9zNezP10GS6Dv347Q7R0Ooor\n",
              "fOP3Q7Hng+s8hgxJV/rWOrqZ1cJyQ9so8YcGSM14QEJkmNMMWvQHun867jA2ZlZQipA6VktPqRaJ\n",
              "Y/vOr/7VxqkYIKGOUOx5JvVX3NrHMmYPlN3XB/LQSM86FepEmotiDJMdOjKCXBGiSems8COqwasz\n",
              "clUz6xwNR+FpCj8l/UWIpqaZMl/Lvbe1bsI0SDEjjLrD3ScECXg+e86rF4gA1QyAe33IzWCHDDoO\n",
              "mijTzBEsv/ROjJGXfbPZIyEYYFXPlPAcMuB1Po5BKr+xt6mvPNop0dCzJaZBhh8Pa7oUfZv0IzPP\n",
              "NM/5Qg/KQKRNw2QcWA4ov5eZoiq0KFYYohIs8x/tnyl8PCnn8tV5RQqF/rf1IcgfOgugtt/wK7ig\n",
              "NayWYG24q3r7rZHASeaMtA+whtKY7KVPsqMNCTdIgEgQW1XdGDn9JxfuGlaonsSZ5mS+PZZ16v3i\n",
              "MGV+UuvfEH3JAp+jZ6JoVDFwnqc6E/uWB9GCCZfmBpb+c2DBFPMCdgKkow4J4p8ash6q+y9HG+Iv\n",
              "pAqCOxS+wPZdtnPOBQR1XYCZ9pmICeVuVgeUsCCWWEdjgqjfVhJ2q3vPWrHuFd4Qml8GCbp1Or3B\n",
              "AtbcvlvJNxTvvHRVwOTfd9ncv98E8rI5lwHhqig9xjpwGMJnRn9kSNWnAlX52kJk+M3SQbA0k29e\n",
              "p55OvhKoC5WRCs9qMBC4NH+HGRQqHGvUnPnSJ7PDk0zHeeG6wZ1FOcvbPnD6VebSve994XcCINyT\n",
              "fy8Tgl1r1V80D8mMB2+dI1snQyJqfPGz+X88ujkW1rbNOgJBlWi3fof9huG9Kc2UpttBOeMlbjzt\n",
              "zIBARA0DOD4ip1mP4YCbGD4Uc5/AgT+Ef5Kdp877ex5XSimoCZGu6fzxTYYun7v2vaGtc4iDHA9J\n",
              "eHrFOoroFUzWUz2aTrVm3aPayO2EZFDwayMAOIywLb28chWLYqzvkF19C5dFMHnghVYbYtoN7rfH\n",
              "QecyQHfAXh9lM/Xru4Q8jkFF//BU9scGTAiWEuYRDDM87vuR/dlZmULXCAhFevd1lHgQbkS8LKMX\n",
              "3836MiuMsouH6LS9Mv7cXrUR9P0bxg39HiuPwzEk15apex/yXmNL9wUjYvjFIa+6Y/ujDTS2NOsn\n",
              "Mn71iSSBU0c9kmLFmOKl4A6H5BJJ7jKkgi1O5T6qD55w4lV3Y+r+Qo8tuzL+IHiMuNr8+LVDxIB5\n",
              "zuIscNXGEBhiof+7pBRCgX4zhbOeZ2godnQDDksFTeq2Bkc3a0875KzQ5jOsHfyXp4CEaXmwhAh+\n",
              "rk25ACjEz2i2/UPUfsj2AGIvzV/qIPN0uIk/u3/ZKG9s60Jwr9xqjK0w5QzHfKu7J+Q9jRthw+8Y\n",
              "EUZNg4ISb9ONM6+mqQ8gaQ8oBd+F6F2M4fqGG0odca2RsFgYWNQmsgSSAxukmA6+gyG5hCEznJFH\n",
              "8BNtDE+yzRVZslv07CwEJ4yhuxEDsGlfKqkjE0V2jC7hR6vXaryKqHsmY900YVZSCCC7UHEPQRdB\n",
              "tjpXO/oTqqejEI5/s9YWCqcNbMhEsN2CGDjXcqDLpnSDOMr94gWUrBijDjhKJH+0fFRtcm/zNX0o\n",
              "dCDwHomMBfyB+AgZ8rfPsPoNSov/uSJwRRVagVz8zlRkM49qXXriZEnB8mrbIev7G4YXjbmFSgld\n",
              "+Apm7FQeqygwuGO98ySHI45OiPl/F74+/X/ValRo+xfEqfjbOkgR4fiNDqs+E1DVx5rSNg5wDWm7\n",
              "GAA+hz/P/7hF5FlC0KqynFCbh/HgdIyZ6nAMbCKoEfg+fLntGCZiwtXWPuwD2de0r6MmgPcnGPAW\n",
              "6t0G8y0tOuOF7P2d5QP+a4tI+zS9+vmeDmn4b8rVUY86VqTZrTP6Us/+NYKboyyyD8JK1An8M4Sr\n",
              "Hqnm+rLJ05lgEppL+LUFXQMW9MyG/MeSDPwD3UmZ2XQ/ER0dG6BuQMzaKiYfcrwjI/jSl2o7favw\n",
              "g7cOoAjLbmr+M2HP5ZpmMTo8196wV2fQAAAESBCK+Cj/0iwCUKgX0da0GeuGcBTMahR735dW2Um+\n",
              "PYbKJfVElOatBo5aPHQ3Vgu3sPyL45EkD/Lamsso+qXwq+jL6NkFoJ7++qrqJ+0DHZ9ZukVFwz/b\n",
              "5SuaOAfD8IGAb6SYASRRPuxqAACmJ8t8JAGLU3Mqe220Ar9t/K5qPlVa88aeJUJeH6Rqdcv1rdeA\n",
              "cpH2Lp/YlA6ju1Y15HJX8LL3Vol9wKUzeALEQOq4bHZyAB6z2PBg9+YDVB0Sx8HRYJ4f5ioYXioe\n",
              "hX+GnRgpy4bY6X6+oRFTZMPGfKW6AbJXlDauP7GU2/hCfCTQF3qW43dmBhcQDx+uRoxI4/trmo1v\n",
              "3odW6Zllv/NzfDwZ4w5XefQevN32ODOWfend2ImrDYnjHT0bOGpOYwnOSP05VU0UI5izysFKbc/F\n",
              "b5Q0TY5Nknv0QeuXgQryRvxW1AAApeDaRSL/iBsNOXJw77ib0t0JVlp7GLqM61jYdrMRKJHm6PAJ\n",
              "OYkvcAGC+XTokni9OGUvV9KY+rL7k111HlBfhZyBGP6qQy/FZULQ6LWTfJ1wrEk4ZWiV46WB/tKv\n",
              "eWLEeTPfegsI/RhOYj9Pynmohp6IdmQIgMPAALAlDA6VO3GBzxRMejVhUkMGf+q8NKujeNRdnyQf\n",
              "pW8sORAkDYEQaJJBkmN2PQE2CtgfnjgCZlObDWLajPAm3bvwB7PNuONpWhH22lnrK2RyD6ylqPGy\n",
              "5i5rvP9SEbE6CHT0Op10RdPc1z+Ohq641SDz22nZMLZ078XsmQGoceUFgy4aHXRsDR5V/7Dqlbvi\n",
              "h/TTrI/a+QxGntKpQvipqs6mQhRi0Rc90Fjkwb8tMnImba+Vf1UVpjDO+UniG5whHTaJDkU7f1D4\n",
              "usvkhOsAF1hLVtth6rs0f5qU1z8OM5MbhxI584mgMArzG2dlMRmFmZa6CaENa01IWrbU3vkQHcnd\n",
              "Rc/svbxIiSRAMUp0Ri9KhwsWcctH9BOl0E5AKa6inBSaaG7th/UjmpXHcJHM1EXXRQNQz6kvBivx\n",
              "gXhV6M9zAJ6onfHMEFH1uNoBZgnUUMxg+vNH+ymZPm5KXPdI/lJ8OA3hbyJUr5brt3JA7ia2FrG0\n",
              "bYrvqstxyU1h+w9mq/TTHAWm82kL0vt8ikX997f2W3ruWwOuk/0jJoGSLNMElYE9FqNboIga/RGJ\n",
              "p5zFz8B5QvhsYjJNmxiz2ZtxlJhfNzDvhnPef1V3hr1c3hIvCAnlwPEXrCLdyxc89oX2/AmD5Alw\n",
              "6v1jxshdTzGf9N5vqI6ftGOV6WK6mrJuZkByEpZmFHB+bS2mJvnF/j458Mk70OelEIY1hewPfNwi\n",
              "4zVwlQ+Rq48uHu4upwwdWQQFi9yaoxntyzMMagJwx5+mfQna1jS3yGvHhgrBnbRPFayzv9fNaow7\n",
              "1+0AahpkzHglCpjPTuTOrY2OpMba/9BOwLKjZBQVa0O8Gfg4r+oqw8GaGw/3DvsAr4Xfr/XneTD7\n",
              "0lE66RGwbt2R9ttiPY7e/eZF1kfFsYZWw8HoI7dbIrqvg1Q9sIOre+bxH23zGEYRoaPrWt+eV0AM\n",
              "Ql7EPwGYUnKjdBr11XChNT0pRJspJAIMRtBa0HPVIhmn24GIQVcbKOtLd4Luzh0Mkr76SPePDZ7I\n",
              "6vrmQEDJr3C2MRj3R5zlOt1nY4Ovwd/9WCNCd1gcWAjHoQonlNnkbcW2F9huwpkT9ebhYsmcB571\n",
              "z0Qow2M3GoB86QZS8VWCFXUt8Y5XUtjS2ubgis3U95WlapPodXIKXlDeDHQU4caATbkhIkpOVy+G\n",
              "Us5to0aU0fReSobdagTZSDRAKOQO9lDgGhF3xaW2EK8XJkncNGgIqhkzUsNTfaFv8R+iw5UjjPda\n",
              "1hHcUPMVPhTmUI5Guy0kYIteSOwVkT+FvPlIGrYxcIXukUMbC22cj+8IavgSWYz8bHpq9GZsR+pt\n",
              "6396V8Djx3cYucQeYrxksnlayFAAHCVPf5oj5DhOZXaLQHdzbj8E3gj/JgTWJW757GgYB/Q0993y\n",
              "CWs3/Tnhx2XUad9xkmkIYNiIIoqw+xT1Q4aH3dWzSqj43Cnb31qUK1WhUGQn8IjU92fikINdsAEX\n",
              "Net8u1rdlSaabfpq0UQF9opbfuJUKirznnmlJuzLyuBMwAAAAwAAAwAAAwAAAwAAAwAAAwAAAwAA\n",
              "AwAAAwAAAwAAB00AAAJdQZohbEM//p4QAAADAcQPHGMvQrG1VWBHM6zoJe1gD8thi7fjdnXAC1xn\n",
              "gLi+D6vanKiGEHPLJpxkGrGjMGRgKh1BWnSuF0IFwxZQQIv8qBwbwBc2gw79SCP8OQeanpoKPGxY\n",
              "HmyOUgc5gv0461w8V3UzAwwYwhNId2BjZ6I3wjtZ6++tvhPR6XFu2dm/NCvV3FUZpTKfkCUFhjsC\n",
              "s6OeAtIFwe9rSp+RGZs3qy8aDJMMbIYH9i8E3K0Es3TzMdOXlkhd07bAIsA3q2o8zBek/zeOYXAl\n",
              "oTneYWueyUkHtTue850aWlMZx/U8w4motvxVyYQVGxPWGKUs7JyaUbSCsljbnDHSFI1/3ZZjkjWP\n",
              "hLeNsFPdDd6nmBatCwHSuIoY6zZI7pd46nY8Cr2CQvyebqL0fX/oc3Iv8b/nZs513jc5P8N7ODtv\n",
              "e+8dxYSYOLS91YFTu0UvKaKyyMo4ClqxH4gPYXK+JgIEoLshnZizTZYpNyKiDBG/f4b1m0RyynpH\n",
              "bnjZ4+GlFZVGfxOB9IMrDljuHoE9TZkbVISG9AHF4j9+BZ84uWiaQCOrUOn6qCutXo8F9x697/vw\n",
              "qKOa0tC+NuVpwapUE+6nF7KdLwWPb/v26cMAxPyWgHFShV4ye8IvnCkgRxN8mro5vdCA7pjLdyJ9\n",
              "HiXqx554RbAtjKbr2B7+s6BtO5LshVSys4u+rXP/rqJTEb7VCXvbQE/novA+2oYUonOixDE38SUD\n",
              "OH9wneMuLNRh7m2gT0LD1RuXdQyN1PNkXfoGW4cHnTqm5RXWqAz98miTVDboIIl3/VIAAALRQZpD\n",
              "PCGTKYQv//6MsAAAAwHG5AiSvIJu2TH2/ZqKMIr1GsiDFbYAEdvyiAEBSSA7tqPQ7y9ZWWoQamB7\n",
              "ViZzdNjqS1cfvyFfCQisZNCK3mAsKQLUAspLwCihSrCYR4DXFv3g7p0xMuK7gG1lSGNiJbQZ14n6\n",
              "GNavhuyeMoQMChLoBs9pRfRB3slh70gmErlvdCQ0LP3yqIhNp0Dy4cOx5+tJVYCw3dtpT/O96JqI\n",
              "v3OtOZYpM919f01j9QMLPh9KIbDVAMQDBMpfPlDg0twmb7NIt7c7NZh2WjOgtmmQCNUNonPkHXel\n",
              "PHBDSmErMLyNX6qsgsPDovh4vuIO4K/7s4k76BOhtu5y0QHvccpbArrW/FUFuUBz5Q34hcBj2ti1\n",
              "ll+rx2tkQXWteqhThdmsspom4LW3LNUONrv9UHQi/MB5MuGJpkrDUH7qqPBRUHW94cHF8rNNtpJo\n",
              "SxInUrsctsz8h/gHCcBDjiEDgJWFfGtE+jRpuVef7KcV0fNj1BC24BZSswMHetGyjIfmgQyLDinx\n",
              "wQzahgmpxy5aQJF33RJFmNd/OyHqDjhLJ06Y0miMvgneHQk2Tk3zR164AhhS45SbZ2VYppMKUiab\n",
              "mbokduZmJzXKZrAuPwkdCmuTar7IWFfgyTwgvjaOuFqhmwWU5/U++ZIZULpoA9kg0JYRTfw9ta7G\n",
              "kOCg9+d9YP7SK7/u/9uHLkCnd9+HW9ckgHN7tUZ0fPmsYsQHGb3WtwLOY+pdjxPpxxdV1DTMcMJW\n",
              "JzvLPAh7yA81NErc7k0uScMhxlEK6emNjmXpIwuRzuVkwfxvHaU45icxg/HWBxUyDHchqhJQGPbV\n",
              "mR+niio6yqTh0POXZH/52ibVOXWY7+LMi6RV3NUbLKZ5Glqe588/RhkYDKN+bTCcA5F6myLC6gx4\n",
              "omnxtFF3KIySbbk/gchxYI6efjNaFC6CGy7YAbbjWv3JQQAAAXkBnmJqQr8AAAMAX4f7rYnRXrj6\n",
              "4+qSO36qSACGouPqnjWvo9kuFSgTYuXtZ6ZyDLB0FDMU8pDHF1GGlbJ9YPLY47RM5eFeSvNaKNPC\n",
              "6dZ0WtnwwaqavHg2AMAr6/KrwiOQWI2tCh77dg+oOs3gRjRunofYUz7PyxEDt8nz9H5QIpE41MUJ\n",
              "Q2d56iqbQp88YiftCrIZ9XGoWkFNpfNOocr5g5Z4lnVvaslaR4MdMoshMVsMlNDHbmbriMgSQGIp\n",
              "0H2TUjdAY7GVxQ9UreX8nhsKInKrmqFsiAmvYMbtmvx3CdLxXYvm20cZV3uXv9Nn0Hi5alBcrfS+\n",
              "u1uiUxZ3lEbhJp4XBrM7oyyby6RsO8oavXzzBghv0NYtX5IZdbtHKe/ePPUqKwfQxg9+geqodPUU\n",
              "I/sLZFPBH+QElN4YEpLVGljbbhR/PqerG0cfX/KD0NDTGP5CXoJWI8oBeAh2Q4t4EsNMxxNCzQf9\n",
              "4aFlhmG1o7Ni+xF8AABMwAAAAghBmmRJ4Q8mUwIV//44QAAABuTvuWLODoNzdGwk4r7iYtUyxtGT\n",
              "jUuUABdRpZ9MKkROg98g16eFkWrwE6btnh+1LZP1QiK8NTviCbkRheH8KTXWFT1dn4IXN26lDfea\n",
              "mdk6Fb0GncPLBEbXrYNHVog5BbRoYN69GKwsXNVzVtHi73D+DGVk7bUmpL9u6yhV3Skfu0h1nb4S\n",
              "AB7EZs3aGkMB76AX48H8MOHq0ja4FO9d1FHdcJC83bT9cM+8VPtKSXvMWIb3PBJmBVpn1v/kg39V\n",
              "/707qUAgMGWvTrC7gj2paDltFapqQ5DpHT7oe47t5yjxPpFMr9upJFr9Nh5jrsVOHXg6YfzcT/r+\n",
              "7M9LjnGw9OQ1kH/54VCwzmg4kkDg3ISXTl6DfIjJFcuF8w92wUb5KPG3eBgHyLkbJMafmRi4/D9s\n",
              "6pYgguw/wnFWlk/SUW8JNI/ny1XnHwBkm5QfYV4oulz0REqWHlKj+DqVAXZ3ALljW+9J+4by1Rrl\n",
              "t83x7eqTSmHHFVyQb8LsMujTkU0q8Kaqya3Z90WODu3xTgRdu6oFXJtUdCoRXAcQ2I7E0Wpr9AX1\n",
              "QYg33Rbd/yUV9I2Kzwr3heXPwI7EtB+gnVDuT+C2D+R84XCtsZNgNemtNLHtyZff8f0+DYr+vTxA\n",
              "Lw3t1I2MjXc9HsCC68wyhqgbXiSIGRMnkN3xAAADaG1vb3YAAABsbXZoZAAAAAAAAAAAAAAAAAAA\n",
              "A+gAAADIAAEAAAEAAAAAAAAAAAAAAAABAAAAAAAAAAAAAAAAAAAAAQAAAAAAAAAAAAAAAAAAQAAA\n",
              "AAAAAAAAAAAAAAAAAAAAAAAAAAAAAAAAAAAAAAIAAAKSdHJhawAAAFx0a2hkAAAAAwAAAAAAAAAA\n",
              "AAAAAQAAAAAAAADIAAAAAAAAAAAAAAAAAAAAAAABAAAAAAAAAAAAAAAAAAAAAQAAAAAAAAAAAAAA\n",
              "AAAAQAAAAAJYAAACWAAAAAAAJGVkdHMAAAAcZWxzdAAAAAAAAAABAAAAyAAABAAAAQAAAAACCm1k\n",
              "aWEAAAAgbWRoZAAAAAAAAAAAAAAAAAAAMgAAAAoAVcQAAAAAAC1oZGxyAAAAAAAAAAB2aWRlAAAA\n",
              "AAAAAAAAAAAAVmlkZW9IYW5kbGVyAAAAAbVtaW5mAAAAFHZtaGQAAAABAAAAAAAAAAAAAAAkZGlu\n",
              "ZgAAABxkcmVmAAAAAAAAAAEAAAAMdXJsIAAAAAEAAAF1c3RibAAAALlzdHNkAAAAAAAAAAEAAACp\n",
              "YXZjMQAAAAAAAAABAAAAAAAAAAAAAAAAAAAAAAJYAlgASAAAAEgAAAAAAAAAAQAAAAAAAAAAAAAA\n",
              "AAAAAAAAAAAAAAAAAAAAAAAAAAAAABj//wAAADdhdmNDAWQAHv/hABpnZAAerNlAmBN5ZYQAAAMA\n",
              "BAAAAwDIPFi2WAEABmjr48siwP34+AAAAAAcdXVpZGtoQPJfJE/FujmlG88DI/MAAAAAAAAAGHN0\n",
              "dHMAAAAAAAAAAQAAAAUAAAIAAAAAFHN0c3MAAAAAAAAAAQAAAAEAAAAwY3R0cwAAAAAAAAAEAAAA\n",
              "AgAABAAAAAABAAAGAAAAAAEAAAIAAAAAAQAABAAAAAAcc3RzYwAAAAAAAAABAAAAAQAAAAUAAAAB\n",
              "AAAAKHN0c3oAAAAAAAAAAAAAAAUAAA9xAAACYQAAAtUAAAF9AAACDAAAABRzdGNvAAAAAAAAAAEA\n",
              "AAAwAAAAYnVkdGEAAABabWV0YQAAAAAAAAAhaGRscgAAAAAAAAAAbWRpcmFwcGwAAAAAAAAAAAAA\n",
              "AAAtaWxzdAAAACWpdG9vAAAAHWRhdGEAAAABAAAAAExhdmY1OC43Ni4xMDA=\n",
              "\">\n",
              "  Your browser does not support the video tag.\n",
              "</video>"
            ]
          },
          "metadata": {},
          "execution_count": 9
        },
        {
          "output_type": "display_data",
          "data": {
            "text/plain": [
              "<Figure size 600x600 with 1 Axes>"
            ],
            "image/png": "[encoded data removed]"
          },
          "metadata": {}
        }
      ]
    },
    {
      "cell_type": "code",
      "source": [
        "# kappa = 1e-3 m^2/s\n",
        "\n",
        "\"\"\"\n",
        "Script to solve the time-dependent advection/diffusion equation\n",
        "\"\"\"\n",
        "\n",
        "import numpy as np\n",
        "import matplotlib.pyplot as plt\n",
        "import dedalus.public as dedalus\n",
        "import logging\n",
        "logger = logging.getLogger(__name__)\n",
        "\n",
        "# Set parameters\n",
        "U0 = 0.1 # maximum current speed in m/s\n",
        "w = 10 # width of the river in m\n",
        "L = 50 # length of the river section to simulate\n",
        "kappa = 1e-3 # diffusivity in m^2/s\n",
        "S0 = 1 # amplitude of the pollution source term\n",
        "S_w = 1 # width of the source term in m\n",
        "S_x = 10 # center of the forcing in x\n",
        "S_y = 0 # center of the forcing in y\n",
        "S_t = 1 # forcing timescale\n",
        "\n",
        "# Numerical parameters\n",
        "Nx = 256 # number of gridoints in x\n",
        "Ny = 32 # number of gridpoints in y\n",
        "stop_sim_time=1500 # end time in seconds\n",
        "timestep = (L/Nx)/U0 # timestep in seconds, calculated from the CFL number\n",
        "\n",
        "import numpy as np\n",
        "import dedalus.public as dedalus\n",
        "import logging\n",
        "logger = logging.getLogger(__name__)\n",
        "\n",
        "# Bases and coordinates\n",
        "coords = dedalus.CartesianCoordinates('x', 'y')\n",
        "dist = dedalus.Distributor(coords, dtype=np.float64)\n",
        "xbasis = dedalus.RealFourier(coords['x'], size=Nx, bounds=(0, L), dealias=3/2)\n",
        "ybasis = dedalus.ChebyshevT(coords['y'], size=Ny, bounds=(0, w), dealias=3/2)\n",
        "x, y = dist.local_grids(xbasis, ybasis)\n",
        "ex, ey = coords.unit_vector_fields(dist) # x and y unit vectors\n",
        "\n",
        "# Fields\n",
        "c = dist.Field(name='b', bases=(xbasis,ybasis))\n",
        "u = dist.Field(name='u', bases=(xbasis,ybasis))\n",
        "tau_1 = dist.Field(name='tau_1', bases=xbasis)\n",
        "tau_2 = dist.Field(name='tau_2', bases=xbasis)\n",
        "\n",
        "# Specify the velocity field\n",
        "u['g'] = U0 * (1- (y - w/2)**2.0/(w/2)**2.0) # parabolic velocity profile\n",
        "\n",
        "# Substitutions\n",
        "lift_basis = ybasis.derivative_basis(1)\n",
        "lift = lambda A: dedalus.Lift(A, lift_basis, -1)\n",
        "grad_c = dedalus.grad(c) + ey*lift(tau_1)\n",
        "dx = lambda A: dedalus.Differentiate(A, coords['x'])\n",
        "\n",
        "S = dist.Field(name='u', bases=(xbasis,ybasis))\n",
        "S['g'] = S0*np.exp(-(x-S_x)**2.0/S_w**2.0-(y-S_y)**2.0/S_w**2.0)\n",
        "\n",
        "# Problem\n",
        "problem = dedalus.IVP([c, tau_1, tau_2], namespace=locals())\n",
        "problem.add_equation(\"dt(c) + u*dx(c) - kappa*div(grad_c) + lift(tau_2) = S/S_t\")\n",
        "problem.add_equation(\"c(y=0) = 0\")\n",
        "problem.add_equation(\"c(y=w) = 0\")\n",
        "\n",
        "# Now, set the solver\n",
        "solver = problem.build_solver(dedalus.RK222)\n",
        "solver.stop_sim_time = stop_sim_time\n",
        "\n",
        "# Create an array to periodically save the concentration field for plotting later\n",
        "c.change_scales(1)\n",
        "c_save = [np.copy(c['g'])];\n",
        "\n",
        "t_save = [solver.sim_time]; # Save the initial condition and the initial time\n",
        "# Main loop\n",
        "try:\n",
        "    logger.info('Starting main loop')\n",
        "    while solver.proceed:\n",
        "        solver.step(timestep)\n",
        "        if (solver.iteration-1) % 10 == 0:\n",
        "            logger.info('Iteration=%i, Time=%e, dt=%e' %(solver.iteration, solver.sim_time, timestep))\n",
        "            c.change_scales(1)\n",
        "            c_save.append(np.copy(c['g']))\n",
        "            t_save.append(solver.sim_time)\n",
        "except:\n",
        "    logger.error('Exception raised, triggering end of main loop.')\n",
        "    raise\n",
        "finally:\n",
        "    solver.log_stats()\n",
        "\n",
        "# Convert the variables to numpy arrays for allow array slicing\n",
        "c_save = np.array(c_save)\n",
        "\n",
        "# create a figure and axes\n",
        "fig = plt.figure(figsize=(6,6))\n",
        "\n",
        "# Create arrays with the latitude and longitude coordinates for plotting using pcolor\n",
        "from dedalus.extras import plot_tools\n",
        "(X, Y) = plot_tools.quad_mesh(np.squeeze(x), np.squeeze(y))\n",
        "\n",
        "# Define an animation function\n",
        "def drawframe(n):\n",
        "    plt.clf()\n",
        "    concentration = plt.pcolor(X, Y, c_save[n,:,:].T)\n",
        "    # Specify the axis limits and labels\n",
        "    plt.axis('square')\n",
        "    plt.xlim(0, L)\n",
        "    plt.ylim(0, w)\n",
        "    plt.xlabel('x (m)')\n",
        "    plt.ylabel('y (m)')\n",
        "    plt.title('concentration, time = {0:.2f} seconds'.format(t_save[n]))\n",
        "    return (concentration,)\n",
        "\n",
        "from matplotlib import animation\n",
        "# blit=True re-draws only the parts that have changed.\n",
        "anim = animation.FuncAnimation(fig, drawframe, frames=len(t_save), interval=40, blit=True)\n",
        "\n",
        "from IPython.display import HTML\n",
        "HTML(anim.to_html5_video())"
      ],
      "metadata": {
        "id": "7sf6Hr0M8CxK",
        "outputId": "f93adee5-c629-4a33-af7c-df475f29e5a5",
        "colab": {
          "base_uri": "https://localhost:8080/",
          "height": 1000
        }
      },
      "execution_count": 10,
      "outputs": [
        {
          "output_type": "stream",
          "name": "stderr",
          "text": [
            "INFO:subsystems:Building subproblem matrices 1/1 (~100%) Elapsed: 0s, Remaining: 0s, Rate: 4.1e+00/s\n"
          ]
        },
        {
          "output_type": "stream",
          "name": "stdout",
          "text": [
            "2024-12-04 16:37:11,282 subsystems 0/1 INFO :: Building subproblem matrices 1/1 (~100%) Elapsed: 0s, Remaining: 0s, Rate: 4.1e+00/s\n"
          ]
        },
        {
          "output_type": "stream",
          "name": "stderr",
          "text": [
            "INFO:__main__:Starting main loop\n"
          ]
        },
        {
          "output_type": "stream",
          "name": "stdout",
          "text": [
            "2024-12-04 16:37:11,290 __main__ 0/1 INFO :: Starting main loop\n"
          ]
        },
        {
          "output_type": "stream",
          "name": "stderr",
          "text": [
            "INFO:__main__:Iteration=1, Time=1.953125e+00, dt=1.953125e+00\n"
          ]
        },
        {
          "output_type": "stream",
          "name": "stdout",
          "text": [
            "2024-12-04 16:37:11,326 __main__ 0/1 INFO :: Iteration=1, Time=1.953125e+00, dt=1.953125e+00\n"
          ]
        },
        {
          "output_type": "stream",
          "name": "stderr",
          "text": [
            "INFO:__main__:Iteration=11, Time=2.148438e+01, dt=1.953125e+00\n"
          ]
        },
        {
          "output_type": "stream",
          "name": "stdout",
          "text": [
            "2024-12-04 16:37:11,353 __main__ 0/1 INFO :: Iteration=11, Time=2.148438e+01, dt=1.953125e+00\n"
          ]
        },
        {
          "output_type": "stream",
          "name": "stderr",
          "text": [
            "INFO:__main__:Iteration=21, Time=4.101562e+01, dt=1.953125e+00\n"
          ]
        },
        {
          "output_type": "stream",
          "name": "stdout",
          "text": [
            "2024-12-04 16:37:11,382 __main__ 0/1 INFO :: Iteration=21, Time=4.101562e+01, dt=1.953125e+00\n"
          ]
        },
        {
          "output_type": "stream",
          "name": "stderr",
          "text": [
            "INFO:__main__:Iteration=31, Time=6.054688e+01, dt=1.953125e+00\n"
          ]
        },
        {
          "output_type": "stream",
          "name": "stdout",
          "text": [
            "2024-12-04 16:37:11,409 __main__ 0/1 INFO :: Iteration=31, Time=6.054688e+01, dt=1.953125e+00\n"
          ]
        },
        {
          "output_type": "stream",
          "name": "stderr",
          "text": [
            "INFO:__main__:Iteration=41, Time=8.007812e+01, dt=1.953125e+00\n"
          ]
        },
        {
          "output_type": "stream",
          "name": "stdout",
          "text": [
            "2024-12-04 16:37:11,439 __main__ 0/1 INFO :: Iteration=41, Time=8.007812e+01, dt=1.953125e+00\n"
          ]
        },
        {
          "output_type": "stream",
          "name": "stderr",
          "text": [
            "INFO:__main__:Iteration=51, Time=9.960938e+01, dt=1.953125e+00\n"
          ]
        },
        {
          "output_type": "stream",
          "name": "stdout",
          "text": [
            "2024-12-04 16:37:11,467 __main__ 0/1 INFO :: Iteration=51, Time=9.960938e+01, dt=1.953125e+00\n"
          ]
        },
        {
          "output_type": "stream",
          "name": "stderr",
          "text": [
            "INFO:__main__:Iteration=61, Time=1.191406e+02, dt=1.953125e+00\n"
          ]
        },
        {
          "output_type": "stream",
          "name": "stdout",
          "text": [
            "2024-12-04 16:37:11,505 __main__ 0/1 INFO :: Iteration=61, Time=1.191406e+02, dt=1.953125e+00\n"
          ]
        },
        {
          "output_type": "stream",
          "name": "stderr",
          "text": [
            "INFO:__main__:Iteration=71, Time=1.386719e+02, dt=1.953125e+00\n"
          ]
        },
        {
          "output_type": "stream",
          "name": "stdout",
          "text": [
            "2024-12-04 16:37:11,533 __main__ 0/1 INFO :: Iteration=71, Time=1.386719e+02, dt=1.953125e+00\n"
          ]
        },
        {
          "output_type": "stream",
          "name": "stderr",
          "text": [
            "INFO:__main__:Iteration=81, Time=1.582031e+02, dt=1.953125e+00\n"
          ]
        },
        {
          "output_type": "stream",
          "name": "stdout",
          "text": [
            "2024-12-04 16:37:11,565 __main__ 0/1 INFO :: Iteration=81, Time=1.582031e+02, dt=1.953125e+00\n"
          ]
        },
        {
          "output_type": "stream",
          "name": "stderr",
          "text": [
            "INFO:__main__:Iteration=91, Time=1.777344e+02, dt=1.953125e+00\n"
          ]
        },
        {
          "output_type": "stream",
          "name": "stdout",
          "text": [
            "2024-12-04 16:37:11,593 __main__ 0/1 INFO :: Iteration=91, Time=1.777344e+02, dt=1.953125e+00\n"
          ]
        },
        {
          "output_type": "stream",
          "name": "stderr",
          "text": [
            "INFO:__main__:Iteration=101, Time=1.972656e+02, dt=1.953125e+00\n"
          ]
        },
        {
          "output_type": "stream",
          "name": "stdout",
          "text": [
            "2024-12-04 16:37:11,622 __main__ 0/1 INFO :: Iteration=101, Time=1.972656e+02, dt=1.953125e+00\n"
          ]
        },
        {
          "output_type": "stream",
          "name": "stderr",
          "text": [
            "INFO:__main__:Iteration=111, Time=2.167969e+02, dt=1.953125e+00\n"
          ]
        },
        {
          "output_type": "stream",
          "name": "stdout",
          "text": [
            "2024-12-04 16:37:11,651 __main__ 0/1 INFO :: Iteration=111, Time=2.167969e+02, dt=1.953125e+00\n"
          ]
        },
        {
          "output_type": "stream",
          "name": "stderr",
          "text": [
            "INFO:__main__:Iteration=121, Time=2.363281e+02, dt=1.953125e+00\n"
          ]
        },
        {
          "output_type": "stream",
          "name": "stdout",
          "text": [
            "2024-12-04 16:37:11,679 __main__ 0/1 INFO :: Iteration=121, Time=2.363281e+02, dt=1.953125e+00\n"
          ]
        },
        {
          "output_type": "stream",
          "name": "stderr",
          "text": [
            "INFO:__main__:Iteration=131, Time=2.558594e+02, dt=1.953125e+00\n"
          ]
        },
        {
          "output_type": "stream",
          "name": "stdout",
          "text": [
            "2024-12-04 16:37:11,707 __main__ 0/1 INFO :: Iteration=131, Time=2.558594e+02, dt=1.953125e+00\n"
          ]
        },
        {
          "output_type": "stream",
          "name": "stderr",
          "text": [
            "INFO:__main__:Iteration=141, Time=2.753906e+02, dt=1.953125e+00\n"
          ]
        },
        {
          "output_type": "stream",
          "name": "stdout",
          "text": [
            "2024-12-04 16:37:11,743 __main__ 0/1 INFO :: Iteration=141, Time=2.753906e+02, dt=1.953125e+00\n"
          ]
        },
        {
          "output_type": "stream",
          "name": "stderr",
          "text": [
            "INFO:__main__:Iteration=151, Time=2.949219e+02, dt=1.953125e+00\n"
          ]
        },
        {
          "output_type": "stream",
          "name": "stdout",
          "text": [
            "2024-12-04 16:37:11,773 __main__ 0/1 INFO :: Iteration=151, Time=2.949219e+02, dt=1.953125e+00\n"
          ]
        },
        {
          "output_type": "stream",
          "name": "stderr",
          "text": [
            "INFO:__main__:Iteration=161, Time=3.144531e+02, dt=1.953125e+00\n"
          ]
        },
        {
          "output_type": "stream",
          "name": "stdout",
          "text": [
            "2024-12-04 16:37:11,806 __main__ 0/1 INFO :: Iteration=161, Time=3.144531e+02, dt=1.953125e+00\n"
          ]
        },
        {
          "output_type": "stream",
          "name": "stderr",
          "text": [
            "INFO:__main__:Iteration=171, Time=3.339844e+02, dt=1.953125e+00\n"
          ]
        },
        {
          "output_type": "stream",
          "name": "stdout",
          "text": [
            "2024-12-04 16:37:11,835 __main__ 0/1 INFO :: Iteration=171, Time=3.339844e+02, dt=1.953125e+00\n"
          ]
        },
        {
          "output_type": "stream",
          "name": "stderr",
          "text": [
            "INFO:__main__:Iteration=181, Time=3.535156e+02, dt=1.953125e+00\n"
          ]
        },
        {
          "output_type": "stream",
          "name": "stdout",
          "text": [
            "2024-12-04 16:37:11,863 __main__ 0/1 INFO :: Iteration=181, Time=3.535156e+02, dt=1.953125e+00\n"
          ]
        },
        {
          "output_type": "stream",
          "name": "stderr",
          "text": [
            "INFO:__main__:Iteration=191, Time=3.730469e+02, dt=1.953125e+00\n"
          ]
        },
        {
          "output_type": "stream",
          "name": "stdout",
          "text": [
            "2024-12-04 16:37:11,892 __main__ 0/1 INFO :: Iteration=191, Time=3.730469e+02, dt=1.953125e+00\n"
          ]
        },
        {
          "output_type": "stream",
          "name": "stderr",
          "text": [
            "INFO:__main__:Iteration=201, Time=3.925781e+02, dt=1.953125e+00\n"
          ]
        },
        {
          "output_type": "stream",
          "name": "stdout",
          "text": [
            "2024-12-04 16:37:11,922 __main__ 0/1 INFO :: Iteration=201, Time=3.925781e+02, dt=1.953125e+00\n"
          ]
        },
        {
          "output_type": "stream",
          "name": "stderr",
          "text": [
            "INFO:__main__:Iteration=211, Time=4.121094e+02, dt=1.953125e+00\n"
          ]
        },
        {
          "output_type": "stream",
          "name": "stdout",
          "text": [
            "2024-12-04 16:37:11,950 __main__ 0/1 INFO :: Iteration=211, Time=4.121094e+02, dt=1.953125e+00\n"
          ]
        },
        {
          "output_type": "stream",
          "name": "stderr",
          "text": [
            "INFO:__main__:Iteration=221, Time=4.316406e+02, dt=1.953125e+00\n"
          ]
        },
        {
          "output_type": "stream",
          "name": "stdout",
          "text": [
            "2024-12-04 16:37:11,980 __main__ 0/1 INFO :: Iteration=221, Time=4.316406e+02, dt=1.953125e+00\n"
          ]
        },
        {
          "output_type": "stream",
          "name": "stderr",
          "text": [
            "INFO:__main__:Iteration=231, Time=4.511719e+02, dt=1.953125e+00\n"
          ]
        },
        {
          "output_type": "stream",
          "name": "stdout",
          "text": [
            "2024-12-04 16:37:12,008 __main__ 0/1 INFO :: Iteration=231, Time=4.511719e+02, dt=1.953125e+00\n"
          ]
        },
        {
          "output_type": "stream",
          "name": "stderr",
          "text": [
            "INFO:__main__:Iteration=241, Time=4.707031e+02, dt=1.953125e+00\n"
          ]
        },
        {
          "output_type": "stream",
          "name": "stdout",
          "text": [
            "2024-12-04 16:37:12,035 __main__ 0/1 INFO :: Iteration=241, Time=4.707031e+02, dt=1.953125e+00\n"
          ]
        },
        {
          "output_type": "stream",
          "name": "stderr",
          "text": [
            "INFO:__main__:Iteration=251, Time=4.902344e+02, dt=1.953125e+00\n"
          ]
        },
        {
          "output_type": "stream",
          "name": "stdout",
          "text": [
            "2024-12-04 16:37:12,065 __main__ 0/1 INFO :: Iteration=251, Time=4.902344e+02, dt=1.953125e+00\n"
          ]
        },
        {
          "output_type": "stream",
          "name": "stderr",
          "text": [
            "INFO:__main__:Iteration=261, Time=5.097656e+02, dt=1.953125e+00\n"
          ]
        },
        {
          "output_type": "stream",
          "name": "stdout",
          "text": [
            "2024-12-04 16:37:12,098 __main__ 0/1 INFO :: Iteration=261, Time=5.097656e+02, dt=1.953125e+00\n"
          ]
        },
        {
          "output_type": "stream",
          "name": "stderr",
          "text": [
            "INFO:__main__:Iteration=271, Time=5.292969e+02, dt=1.953125e+00\n"
          ]
        },
        {
          "output_type": "stream",
          "name": "stdout",
          "text": [
            "2024-12-04 16:37:12,135 __main__ 0/1 INFO :: Iteration=271, Time=5.292969e+02, dt=1.953125e+00\n"
          ]
        },
        {
          "output_type": "stream",
          "name": "stderr",
          "text": [
            "INFO:__main__:Iteration=281, Time=5.488281e+02, dt=1.953125e+00\n"
          ]
        },
        {
          "output_type": "stream",
          "name": "stdout",
          "text": [
            "2024-12-04 16:37:12,174 __main__ 0/1 INFO :: Iteration=281, Time=5.488281e+02, dt=1.953125e+00\n"
          ]
        },
        {
          "output_type": "stream",
          "name": "stderr",
          "text": [
            "INFO:__main__:Iteration=291, Time=5.683594e+02, dt=1.953125e+00\n"
          ]
        },
        {
          "output_type": "stream",
          "name": "stdout",
          "text": [
            "2024-12-04 16:37:12,215 __main__ 0/1 INFO :: Iteration=291, Time=5.683594e+02, dt=1.953125e+00\n"
          ]
        },
        {
          "output_type": "stream",
          "name": "stderr",
          "text": [
            "INFO:__main__:Iteration=301, Time=5.878906e+02, dt=1.953125e+00\n"
          ]
        },
        {
          "output_type": "stream",
          "name": "stdout",
          "text": [
            "2024-12-04 16:37:12,257 __main__ 0/1 INFO :: Iteration=301, Time=5.878906e+02, dt=1.953125e+00\n"
          ]
        },
        {
          "output_type": "stream",
          "name": "stderr",
          "text": [
            "INFO:__main__:Iteration=311, Time=6.074219e+02, dt=1.953125e+00\n"
          ]
        },
        {
          "output_type": "stream",
          "name": "stdout",
          "text": [
            "2024-12-04 16:37:12,304 __main__ 0/1 INFO :: Iteration=311, Time=6.074219e+02, dt=1.953125e+00\n"
          ]
        },
        {
          "output_type": "stream",
          "name": "stderr",
          "text": [
            "INFO:__main__:Iteration=321, Time=6.269531e+02, dt=1.953125e+00\n"
          ]
        },
        {
          "output_type": "stream",
          "name": "stdout",
          "text": [
            "2024-12-04 16:37:12,340 __main__ 0/1 INFO :: Iteration=321, Time=6.269531e+02, dt=1.953125e+00\n"
          ]
        },
        {
          "output_type": "stream",
          "name": "stderr",
          "text": [
            "INFO:__main__:Iteration=331, Time=6.464844e+02, dt=1.953125e+00\n"
          ]
        },
        {
          "output_type": "stream",
          "name": "stdout",
          "text": [
            "2024-12-04 16:37:12,377 __main__ 0/1 INFO :: Iteration=331, Time=6.464844e+02, dt=1.953125e+00\n"
          ]
        },
        {
          "output_type": "stream",
          "name": "stderr",
          "text": [
            "INFO:__main__:Iteration=341, Time=6.660156e+02, dt=1.953125e+00\n"
          ]
        },
        {
          "output_type": "stream",
          "name": "stdout",
          "text": [
            "2024-12-04 16:37:12,417 __main__ 0/1 INFO :: Iteration=341, Time=6.660156e+02, dt=1.953125e+00\n"
          ]
        },
        {
          "output_type": "stream",
          "name": "stderr",
          "text": [
            "INFO:__main__:Iteration=351, Time=6.855469e+02, dt=1.953125e+00\n"
          ]
        },
        {
          "output_type": "stream",
          "name": "stdout",
          "text": [
            "2024-12-04 16:37:12,457 __main__ 0/1 INFO :: Iteration=351, Time=6.855469e+02, dt=1.953125e+00\n"
          ]
        },
        {
          "output_type": "stream",
          "name": "stderr",
          "text": [
            "INFO:__main__:Iteration=361, Time=7.050781e+02, dt=1.953125e+00\n"
          ]
        },
        {
          "output_type": "stream",
          "name": "stdout",
          "text": [
            "2024-12-04 16:37:12,491 __main__ 0/1 INFO :: Iteration=361, Time=7.050781e+02, dt=1.953125e+00\n"
          ]
        },
        {
          "output_type": "stream",
          "name": "stderr",
          "text": [
            "INFO:__main__:Iteration=371, Time=7.246094e+02, dt=1.953125e+00\n"
          ]
        },
        {
          "output_type": "stream",
          "name": "stdout",
          "text": [
            "2024-12-04 16:37:12,521 __main__ 0/1 INFO :: Iteration=371, Time=7.246094e+02, dt=1.953125e+00\n"
          ]
        },
        {
          "output_type": "stream",
          "name": "stderr",
          "text": [
            "INFO:__main__:Iteration=381, Time=7.441406e+02, dt=1.953125e+00\n"
          ]
        },
        {
          "output_type": "stream",
          "name": "stdout",
          "text": [
            "2024-12-04 16:37:12,550 __main__ 0/1 INFO :: Iteration=381, Time=7.441406e+02, dt=1.953125e+00\n"
          ]
        },
        {
          "output_type": "stream",
          "name": "stderr",
          "text": [
            "INFO:__main__:Iteration=391, Time=7.636719e+02, dt=1.953125e+00\n"
          ]
        },
        {
          "output_type": "stream",
          "name": "stdout",
          "text": [
            "2024-12-04 16:37:12,578 __main__ 0/1 INFO :: Iteration=391, Time=7.636719e+02, dt=1.953125e+00\n"
          ]
        },
        {
          "output_type": "stream",
          "name": "stderr",
          "text": [
            "INFO:__main__:Iteration=401, Time=7.832031e+02, dt=1.953125e+00\n"
          ]
        },
        {
          "output_type": "stream",
          "name": "stdout",
          "text": [
            "2024-12-04 16:37:12,608 __main__ 0/1 INFO :: Iteration=401, Time=7.832031e+02, dt=1.953125e+00\n"
          ]
        },
        {
          "output_type": "stream",
          "name": "stderr",
          "text": [
            "INFO:__main__:Iteration=411, Time=8.027344e+02, dt=1.953125e+00\n"
          ]
        },
        {
          "output_type": "stream",
          "name": "stdout",
          "text": [
            "2024-12-04 16:37:12,636 __main__ 0/1 INFO :: Iteration=411, Time=8.027344e+02, dt=1.953125e+00\n"
          ]
        },
        {
          "output_type": "stream",
          "name": "stderr",
          "text": [
            "INFO:__main__:Iteration=421, Time=8.222656e+02, dt=1.953125e+00\n"
          ]
        },
        {
          "output_type": "stream",
          "name": "stdout",
          "text": [
            "2024-12-04 16:37:12,663 __main__ 0/1 INFO :: Iteration=421, Time=8.222656e+02, dt=1.953125e+00\n"
          ]
        },
        {
          "output_type": "stream",
          "name": "stderr",
          "text": [
            "INFO:__main__:Iteration=431, Time=8.417969e+02, dt=1.953125e+00\n"
          ]
        },
        {
          "output_type": "stream",
          "name": "stdout",
          "text": [
            "2024-12-04 16:37:12,691 __main__ 0/1 INFO :: Iteration=431, Time=8.417969e+02, dt=1.953125e+00\n"
          ]
        },
        {
          "output_type": "stream",
          "name": "stderr",
          "text": [
            "INFO:__main__:Iteration=441, Time=8.613281e+02, dt=1.953125e+00\n"
          ]
        },
        {
          "output_type": "stream",
          "name": "stdout",
          "text": [
            "2024-12-04 16:37:12,718 __main__ 0/1 INFO :: Iteration=441, Time=8.613281e+02, dt=1.953125e+00\n"
          ]
        },
        {
          "output_type": "stream",
          "name": "stderr",
          "text": [
            "INFO:__main__:Iteration=451, Time=8.808594e+02, dt=1.953125e+00\n"
          ]
        },
        {
          "output_type": "stream",
          "name": "stdout",
          "text": [
            "2024-12-04 16:37:12,745 __main__ 0/1 INFO :: Iteration=451, Time=8.808594e+02, dt=1.953125e+00\n"
          ]
        },
        {
          "output_type": "stream",
          "name": "stderr",
          "text": [
            "INFO:__main__:Iteration=461, Time=9.003906e+02, dt=1.953125e+00\n"
          ]
        },
        {
          "output_type": "stream",
          "name": "stdout",
          "text": [
            "2024-12-04 16:37:12,773 __main__ 0/1 INFO :: Iteration=461, Time=9.003906e+02, dt=1.953125e+00\n"
          ]
        },
        {
          "output_type": "stream",
          "name": "stderr",
          "text": [
            "INFO:__main__:Iteration=471, Time=9.199219e+02, dt=1.953125e+00\n"
          ]
        },
        {
          "output_type": "stream",
          "name": "stdout",
          "text": [
            "2024-12-04 16:37:12,801 __main__ 0/1 INFO :: Iteration=471, Time=9.199219e+02, dt=1.953125e+00\n"
          ]
        },
        {
          "output_type": "stream",
          "name": "stderr",
          "text": [
            "INFO:__main__:Iteration=481, Time=9.394531e+02, dt=1.953125e+00\n"
          ]
        },
        {
          "output_type": "stream",
          "name": "stdout",
          "text": [
            "2024-12-04 16:37:12,830 __main__ 0/1 INFO :: Iteration=481, Time=9.394531e+02, dt=1.953125e+00\n"
          ]
        },
        {
          "output_type": "stream",
          "name": "stderr",
          "text": [
            "INFO:__main__:Iteration=491, Time=9.589844e+02, dt=1.953125e+00\n"
          ]
        },
        {
          "output_type": "stream",
          "name": "stdout",
          "text": [
            "2024-12-04 16:37:12,858 __main__ 0/1 INFO :: Iteration=491, Time=9.589844e+02, dt=1.953125e+00\n"
          ]
        },
        {
          "output_type": "stream",
          "name": "stderr",
          "text": [
            "INFO:__main__:Iteration=501, Time=9.785156e+02, dt=1.953125e+00\n"
          ]
        },
        {
          "output_type": "stream",
          "name": "stdout",
          "text": [
            "2024-12-04 16:37:12,890 __main__ 0/1 INFO :: Iteration=501, Time=9.785156e+02, dt=1.953125e+00\n"
          ]
        },
        {
          "output_type": "stream",
          "name": "stderr",
          "text": [
            "INFO:__main__:Iteration=511, Time=9.980469e+02, dt=1.953125e+00\n"
          ]
        },
        {
          "output_type": "stream",
          "name": "stdout",
          "text": [
            "2024-12-04 16:37:12,919 __main__ 0/1 INFO :: Iteration=511, Time=9.980469e+02, dt=1.953125e+00\n"
          ]
        },
        {
          "output_type": "stream",
          "name": "stderr",
          "text": [
            "INFO:__main__:Iteration=521, Time=1.017578e+03, dt=1.953125e+00\n"
          ]
        },
        {
          "output_type": "stream",
          "name": "stdout",
          "text": [
            "2024-12-04 16:37:12,954 __main__ 0/1 INFO :: Iteration=521, Time=1.017578e+03, dt=1.953125e+00\n"
          ]
        },
        {
          "output_type": "stream",
          "name": "stderr",
          "text": [
            "INFO:__main__:Iteration=531, Time=1.037109e+03, dt=1.953125e+00\n"
          ]
        },
        {
          "output_type": "stream",
          "name": "stdout",
          "text": [
            "2024-12-04 16:37:12,984 __main__ 0/1 INFO :: Iteration=531, Time=1.037109e+03, dt=1.953125e+00\n"
          ]
        },
        {
          "output_type": "stream",
          "name": "stderr",
          "text": [
            "INFO:__main__:Iteration=541, Time=1.056641e+03, dt=1.953125e+00\n"
          ]
        },
        {
          "output_type": "stream",
          "name": "stdout",
          "text": [
            "2024-12-04 16:37:13,013 __main__ 0/1 INFO :: Iteration=541, Time=1.056641e+03, dt=1.953125e+00\n"
          ]
        },
        {
          "output_type": "stream",
          "name": "stderr",
          "text": [
            "INFO:__main__:Iteration=551, Time=1.076172e+03, dt=1.953125e+00\n"
          ]
        },
        {
          "output_type": "stream",
          "name": "stdout",
          "text": [
            "2024-12-04 16:37:13,041 __main__ 0/1 INFO :: Iteration=551, Time=1.076172e+03, dt=1.953125e+00\n"
          ]
        },
        {
          "output_type": "stream",
          "name": "stderr",
          "text": [
            "INFO:__main__:Iteration=561, Time=1.095703e+03, dt=1.953125e+00\n"
          ]
        },
        {
          "output_type": "stream",
          "name": "stdout",
          "text": [
            "2024-12-04 16:37:13,070 __main__ 0/1 INFO :: Iteration=561, Time=1.095703e+03, dt=1.953125e+00\n"
          ]
        },
        {
          "output_type": "stream",
          "name": "stderr",
          "text": [
            "INFO:__main__:Iteration=571, Time=1.115234e+03, dt=1.953125e+00\n"
          ]
        },
        {
          "output_type": "stream",
          "name": "stdout",
          "text": [
            "2024-12-04 16:37:13,105 __main__ 0/1 INFO :: Iteration=571, Time=1.115234e+03, dt=1.953125e+00\n"
          ]
        },
        {
          "output_type": "stream",
          "name": "stderr",
          "text": [
            "INFO:__main__:Iteration=581, Time=1.134766e+03, dt=1.953125e+00\n"
          ]
        },
        {
          "output_type": "stream",
          "name": "stdout",
          "text": [
            "2024-12-04 16:37:13,147 __main__ 0/1 INFO :: Iteration=581, Time=1.134766e+03, dt=1.953125e+00\n"
          ]
        },
        {
          "output_type": "stream",
          "name": "stderr",
          "text": [
            "INFO:__main__:Iteration=591, Time=1.154297e+03, dt=1.953125e+00\n"
          ]
        },
        {
          "output_type": "stream",
          "name": "stdout",
          "text": [
            "2024-12-04 16:37:13,185 __main__ 0/1 INFO :: Iteration=591, Time=1.154297e+03, dt=1.953125e+00\n"
          ]
        },
        {
          "output_type": "stream",
          "name": "stderr",
          "text": [
            "INFO:__main__:Iteration=601, Time=1.173828e+03, dt=1.953125e+00\n"
          ]
        },
        {
          "output_type": "stream",
          "name": "stdout",
          "text": [
            "2024-12-04 16:37:13,224 __main__ 0/1 INFO :: Iteration=601, Time=1.173828e+03, dt=1.953125e+00\n"
          ]
        },
        {
          "output_type": "stream",
          "name": "stderr",
          "text": [
            "INFO:__main__:Iteration=611, Time=1.193359e+03, dt=1.953125e+00\n"
          ]
        },
        {
          "output_type": "stream",
          "name": "stdout",
          "text": [
            "2024-12-04 16:37:13,267 __main__ 0/1 INFO :: Iteration=611, Time=1.193359e+03, dt=1.953125e+00\n"
          ]
        },
        {
          "output_type": "stream",
          "name": "stderr",
          "text": [
            "INFO:__main__:Iteration=621, Time=1.212891e+03, dt=1.953125e+00\n"
          ]
        },
        {
          "output_type": "stream",
          "name": "stdout",
          "text": [
            "2024-12-04 16:37:13,312 __main__ 0/1 INFO :: Iteration=621, Time=1.212891e+03, dt=1.953125e+00\n"
          ]
        },
        {
          "output_type": "stream",
          "name": "stderr",
          "text": [
            "INFO:__main__:Iteration=631, Time=1.232422e+03, dt=1.953125e+00\n"
          ]
        },
        {
          "output_type": "stream",
          "name": "stdout",
          "text": [
            "2024-12-04 16:37:13,360 __main__ 0/1 INFO :: Iteration=631, Time=1.232422e+03, dt=1.953125e+00\n"
          ]
        },
        {
          "output_type": "stream",
          "name": "stderr",
          "text": [
            "INFO:__main__:Iteration=641, Time=1.251953e+03, dt=1.953125e+00\n"
          ]
        },
        {
          "output_type": "stream",
          "name": "stdout",
          "text": [
            "2024-12-04 16:37:13,389 __main__ 0/1 INFO :: Iteration=641, Time=1.251953e+03, dt=1.953125e+00\n"
          ]
        },
        {
          "output_type": "stream",
          "name": "stderr",
          "text": [
            "INFO:__main__:Iteration=651, Time=1.271484e+03, dt=1.953125e+00\n"
          ]
        },
        {
          "output_type": "stream",
          "name": "stdout",
          "text": [
            "2024-12-04 16:37:13,422 __main__ 0/1 INFO :: Iteration=651, Time=1.271484e+03, dt=1.953125e+00\n"
          ]
        },
        {
          "output_type": "stream",
          "name": "stderr",
          "text": [
            "INFO:__main__:Iteration=661, Time=1.291016e+03, dt=1.953125e+00\n"
          ]
        },
        {
          "output_type": "stream",
          "name": "stdout",
          "text": [
            "2024-12-04 16:37:13,453 __main__ 0/1 INFO :: Iteration=661, Time=1.291016e+03, dt=1.953125e+00\n"
          ]
        },
        {
          "output_type": "stream",
          "name": "stderr",
          "text": [
            "INFO:__main__:Iteration=671, Time=1.310547e+03, dt=1.953125e+00\n"
          ]
        },
        {
          "output_type": "stream",
          "name": "stdout",
          "text": [
            "2024-12-04 16:37:13,483 __main__ 0/1 INFO :: Iteration=671, Time=1.310547e+03, dt=1.953125e+00\n"
          ]
        },
        {
          "output_type": "stream",
          "name": "stderr",
          "text": [
            "INFO:__main__:Iteration=681, Time=1.330078e+03, dt=1.953125e+00\n"
          ]
        },
        {
          "output_type": "stream",
          "name": "stdout",
          "text": [
            "2024-12-04 16:37:13,518 __main__ 0/1 INFO :: Iteration=681, Time=1.330078e+03, dt=1.953125e+00\n"
          ]
        },
        {
          "output_type": "stream",
          "name": "stderr",
          "text": [
            "INFO:__main__:Iteration=691, Time=1.349609e+03, dt=1.953125e+00\n"
          ]
        },
        {
          "output_type": "stream",
          "name": "stdout",
          "text": [
            "2024-12-04 16:37:13,550 __main__ 0/1 INFO :: Iteration=691, Time=1.349609e+03, dt=1.953125e+00\n"
          ]
        },
        {
          "output_type": "stream",
          "name": "stderr",
          "text": [
            "INFO:__main__:Iteration=701, Time=1.369141e+03, dt=1.953125e+00\n"
          ]
        },
        {
          "output_type": "stream",
          "name": "stdout",
          "text": [
            "2024-12-04 16:37:13,582 __main__ 0/1 INFO :: Iteration=701, Time=1.369141e+03, dt=1.953125e+00\n"
          ]
        },
        {
          "output_type": "stream",
          "name": "stderr",
          "text": [
            "INFO:__main__:Iteration=711, Time=1.388672e+03, dt=1.953125e+00\n"
          ]
        },
        {
          "output_type": "stream",
          "name": "stdout",
          "text": [
            "2024-12-04 16:37:13,615 __main__ 0/1 INFO :: Iteration=711, Time=1.388672e+03, dt=1.953125e+00\n"
          ]
        },
        {
          "output_type": "stream",
          "name": "stderr",
          "text": [
            "INFO:__main__:Iteration=721, Time=1.408203e+03, dt=1.953125e+00\n"
          ]
        },
        {
          "output_type": "stream",
          "name": "stdout",
          "text": [
            "2024-12-04 16:37:13,649 __main__ 0/1 INFO :: Iteration=721, Time=1.408203e+03, dt=1.953125e+00\n"
          ]
        },
        {
          "output_type": "stream",
          "name": "stderr",
          "text": [
            "INFO:__main__:Iteration=731, Time=1.427734e+03, dt=1.953125e+00\n"
          ]
        },
        {
          "output_type": "stream",
          "name": "stdout",
          "text": [
            "2024-12-04 16:37:13,679 __main__ 0/1 INFO :: Iteration=731, Time=1.427734e+03, dt=1.953125e+00\n"
          ]
        },
        {
          "output_type": "stream",
          "name": "stderr",
          "text": [
            "INFO:__main__:Iteration=741, Time=1.447266e+03, dt=1.953125e+00\n"
          ]
        },
        {
          "output_type": "stream",
          "name": "stdout",
          "text": [
            "2024-12-04 16:37:13,709 __main__ 0/1 INFO :: Iteration=741, Time=1.447266e+03, dt=1.953125e+00\n"
          ]
        },
        {
          "output_type": "stream",
          "name": "stderr",
          "text": [
            "INFO:__main__:Iteration=751, Time=1.466797e+03, dt=1.953125e+00\n"
          ]
        },
        {
          "output_type": "stream",
          "name": "stdout",
          "text": [
            "2024-12-04 16:37:13,738 __main__ 0/1 INFO :: Iteration=751, Time=1.466797e+03, dt=1.953125e+00\n"
          ]
        },
        {
          "output_type": "stream",
          "name": "stderr",
          "text": [
            "INFO:__main__:Iteration=761, Time=1.486328e+03, dt=1.953125e+00\n"
          ]
        },
        {
          "output_type": "stream",
          "name": "stdout",
          "text": [
            "2024-12-04 16:37:13,767 __main__ 0/1 INFO :: Iteration=761, Time=1.486328e+03, dt=1.953125e+00\n"
          ]
        },
        {
          "output_type": "stream",
          "name": "stderr",
          "text": [
            "INFO:solvers:Simulation stop time reached.\n"
          ]
        },
        {
          "output_type": "stream",
          "name": "stdout",
          "text": [
            "2024-12-04 16:37:13,791 solvers 0/1 INFO :: Simulation stop time reached.\n"
          ]
        },
        {
          "output_type": "stream",
          "name": "stderr",
          "text": [
            "INFO:solvers:Final iteration: 768\n"
          ]
        },
        {
          "output_type": "stream",
          "name": "stdout",
          "text": [
            "2024-12-04 16:37:13,795 solvers 0/1 INFO :: Final iteration: 768\n"
          ]
        },
        {
          "output_type": "stream",
          "name": "stderr",
          "text": [
            "INFO:solvers:Final sim time: 1500.0\n"
          ]
        },
        {
          "output_type": "stream",
          "name": "stdout",
          "text": [
            "2024-12-04 16:37:13,801 solvers 0/1 INFO :: Final sim time: 1500.0\n"
          ]
        },
        {
          "output_type": "stream",
          "name": "stderr",
          "text": [
            "INFO:solvers:Setup time (init - iter 0): 0.2917 sec\n"
          ]
        },
        {
          "output_type": "stream",
          "name": "stdout",
          "text": [
            "2024-12-04 16:37:13,804 solvers 0/1 INFO :: Setup time (init - iter 0): 0.2917 sec\n"
          ]
        },
        {
          "output_type": "stream",
          "name": "stderr",
          "text": [
            "INFO:solvers:Warmup time (iter 0-10): 0.05338 sec\n"
          ]
        },
        {
          "output_type": "stream",
          "name": "stdout",
          "text": [
            "2024-12-04 16:37:13,807 solvers 0/1 INFO :: Warmup time (iter 0-10): 0.05338 sec\n"
          ]
        },
        {
          "output_type": "stream",
          "name": "stderr",
          "text": [
            "INFO:solvers:Run time (iter 10-end): 2.444 sec\n"
          ]
        },
        {
          "output_type": "stream",
          "name": "stdout",
          "text": [
            "2024-12-04 16:37:13,809 solvers 0/1 INFO :: Run time (iter 10-end): 2.444 sec\n"
          ]
        },
        {
          "output_type": "stream",
          "name": "stderr",
          "text": [
            "INFO:solvers:CPU time (iter 10-end): 0.000679 cpu-hr\n"
          ]
        },
        {
          "output_type": "stream",
          "name": "stdout",
          "text": [
            "2024-12-04 16:37:13,812 solvers 0/1 INFO :: CPU time (iter 10-end): 0.000679 cpu-hr\n"
          ]
        },
        {
          "output_type": "stream",
          "name": "stderr",
          "text": [
            "INFO:solvers:Speed: 5.377e+06 mode-stages/cpu-sec\n"
          ]
        },
        {
          "output_type": "stream",
          "name": "stdout",
          "text": [
            "2024-12-04 16:37:13,815 solvers 0/1 INFO :: Speed: 5.377e+06 mode-stages/cpu-sec\n"
          ]
        },
        {
          "output_type": "stream",
          "name": "stderr",
          "text": [
            "INFO:matplotlib.animation:Animation.save using <class 'matplotlib.animation.FFMpegWriter'>\n"
          ]
        },
        {
          "output_type": "stream",
          "name": "stdout",
          "text": [
            "2024-12-04 16:37:14,086 matplotlib.animation 0/1 INFO :: Animation.save using <class 'matplotlib.animation.FFMpegWriter'>\n"
          ]
        },
        {
          "output_type": "stream",
          "name": "stderr",
          "text": [
            "INFO:matplotlib.animation:MovieWriter._run: running command: ffmpeg -f rawvideo -vcodec rawvideo -s 600x600 -pix_fmt rgba -framerate 25.0 -i pipe: -vcodec h264 -pix_fmt yuv420p -y /tmp/tmpzt_q0xzc/temp.m4v\n"
          ]
        },
        {
          "output_type": "stream",
          "name": "stdout",
          "text": [
            "2024-12-04 16:37:14,091 matplotlib.animation 0/1 INFO :: MovieWriter._run: running command: ffmpeg -f rawvideo -vcodec rawvideo -s 600x600 -pix_fmt rgba -framerate 25.0 -i pipe: -vcodec h264 -pix_fmt yuv420p -y /tmp/tmpzt_q0xzc/temp.m4v\n"
          ]
        },
        {
          "output_type": "execute_result",
          "data": {
            "text/plain": [
              "<IPython.core.display.HTML object>"
            ],
            "text/html": [
              "<video width=\"600\" height=\"600\" controls autoplay loop>\n",
              "  <source type=\"video/mp4\" src=\"data:video/mp4;base64,AAAAIGZ0eXBNNFYgAAACAE00ViBpc29taXNvMmF2YzEAAAAIZnJlZQAAaS1tZGF0AAACrgYF//+q\n",
              "3EXpvebZSLeWLNgg2SPu73gyNjQgLSBjb3JlIDE2MyByMzA2MCA1ZGI2YWE2IC0gSC4yNjQvTVBF\n",
              "Ry00IEFWQyBjb2RlYyAtIENvcHlsZWZ0IDIwMDMtMjAyMSAtIGh0dHA6Ly93d3cudmlkZW9sYW4u\n",
              "b3JnL3gyNjQuaHRtbCAtIG9wdGlvbnM6IGNhYmFjPTEgcmVmPTMgZGVibG9jaz0xOjA6MCBhbmFs\n",
              "eXNlPTB4MzoweDExMyBtZT1oZXggc3VibWU9NyBwc3k9MSBwc3lfcmQ9MS4wMDowLjAwIG1peGVk\n",
              "X3JlZj0xIG1lX3JhbmdlPTE2IGNocm9tYV9tZT0xIHRyZWxsaXM9MSA4eDhkY3Q9MSBjcW09MCBk\n",
              "ZWFkem9uZT0yMSwxMSBmYXN0X3Bza2lwPTEgY2hyb21hX3FwX29mZnNldD0tMiB0aHJlYWRzPTMg\n",
              "bG9va2FoZWFkX3RocmVhZHM9MSBzbGljZWRfdGhyZWFkcz0wIG5yPTAgZGVjaW1hdGU9MSBpbnRl\n",
              "cmxhY2VkPTAgYmx1cmF5X2NvbXBhdD0wIGNvbnN0cmFpbmVkX2ludHJhPTAgYmZyYW1lcz0zIGJf\n",
              "cHlyYW1pZD0yIGJfYWRhcHQ9MSBiX2JpYXM9MCBkaXJlY3Q9MSB3ZWlnaHRiPTEgb3Blbl9nb3A9\n",
              "MCB3ZWlnaHRwPTIga2V5aW50PTI1MCBrZXlpbnRfbWluPTI1IHNjZW5lY3V0PTQwIGludHJhX3Jl\n",
              "ZnJlc2g9MCByY19sb29rYWhlYWQ9NDAgcmM9Y3JmIG1idHJlZT0xIGNyZj0yMy4wIHFjb21wPTAu\n",
              "NjAgcXBtaW49MCBxcG1heD02OSBxcHN0ZXA9NCBpcF9yYXRpbz0xLjQwIGFxPTE6MS4wMACAAAAP\n",
              "72WIhAA7//73Tr8Cm0WXagOSVwr2yqQmWblSawHypgAAAwAAAwAAAwLa9HiTO+TU8TYAAAMBBwAo\n",
              "YVMRISAUsbwqBIiSFwOM2zAH7Mfnl4kAoCjb52TJceI7LMwtYO8mo1dXqalPZBOWairsF1cuClW8\n",
              "2qIbZjPp4sHlZSmT361wHAJWxCinv2uD7IEEjDLx/N9fBzMI8rze6JcJvioUCPbugZSCW+2RujFA\n",
              "lxeAbvjBHhoYiBVv009DlPzvssS4XAMHt86VdukzVizVDOTTLyFxq8/5RQo2LvmBRpq9ezISkAUL\n",
              "wo1ct1k0jlbzpIQV+C8ixKnXAyvu8kaywN9pRrQGPm2hJIHiOOI2WNC7npcpyozNVRTVMmoDOiUg\n",
              "jbWIkVy7SOs1rfNWiuToMyPK94W8O97MOwGLHaZ2g783kJnKKvetUixK8wjmeB0DlaTo75kgMUCQ\n",
              "bBgPmwAWvPaAG0TfDk2Np0FmcOuLtNjYqxnFsLWSpFFslZRhJ7ucf3dC/fkVCBqKVuaX2S6M9tRg\n",
              "xB8YC1nm6RA1xblNUCgvNRN8evx7KRdTEATDjm0YKtHjTi4HtzuT26ZuP48EkYokn+zPql8np3FG\n",
              "Io3wa4Nm8MIbyQBzT71le6EpaElowKh4X1xT2BgtWra1aqW59AjVxYaFxnnCkWjIFmFxwPJ2JrKt\n",
              "tr7N0WNl20VtxoqX0jNoc9K1L2xdspSn//W6K6rSQRm88z4wPJd54jXEQ0qEROcBRzPCChrccabc\n",
              "bct3k6sAztsBieBKdcDAOdINCxnshplceN18SCRXNLyPAHt7Iso9gQ6Q+6Naw+xyS3dfVpc6dOHI\n",
              "6cI1C72+ZJvbXa1zKzDm/Jml51+qkN9IYGNTNR3i8ay/wVHOtZCeeN26n/6TsRQWMreHyvFVX3wX\n",
              "xyOchUc5xmsePoqNuP1eA7mcQOANwxIWBz/532O4QZL+RDUvNsQPZ5G/pDzDJIxtx7XahruXnPxI\n",
              "AAOXzY3QkGpyzs+E7fyeuwsLG4aVQGaZ99CcWQuyW+RGkBORKXeRrpN5H+MP1IgRi+4YUcxZyqgF\n",
              "qqm64moeL73noIqTFExXRvVBIGy9CKXhcuEQnotxVuS3/9OABpqufPv08tbboqe6PYV32lPo6FUM\n",
              "IYgmd4nwfafwThVe0ToVZ/RCHgncftdVbsF+IVheEwd6w/hGqw+qKXk8/bNWb14VedStI0AIQtAT\n",
              "/FB6+yFgTpeRqdTnT6G9VTYmPwJua8JgGn/s74GdZYeKaMvU11xG2W63siUPPvxGXTghErzAhNq2\n",
              "M8om7nYy6lZZ6PkYVKfX96kfi4DLQbL7qb7xJfElt7JdXwzm5Gr+Oh1Wp5mAiJxmFhdmn33FwwJe\n",
              "vSZE3nYDWrAhbyU0DzG2gyEQHtUimRPE2I69ZHjlbqBIsiPJKpKSGc1kBCY+I1Vj8sI5rSb8Xn+9\n",
              "R9j3uxuuI+h42nwq+bwrcI7UIay1tg48gIHo1iPz9vIebUxCvyI9gUy7SSuz+4clWTCM06ZqKnE4\n",
              "JinxX7zbLOyftEHLu+yDrOY5wk9mYzg6v4IUF3BiwtLmgz74MksVpGAZuZnLYDW4soNpzFLkqd/s\n",
              "jNCJP4/9yGKpUE/mC4Kza33tsfw+WImnF7dBdQtZ/wDay/SFhFDBFRHNT3mHsyzn212bkLiHc07F\n",
              "ADc1yuE9xiqKILVZi2pkzpQ4t7iGX1wOwf95TySl6DyNHUYgeZHqdASjDGjOTGC9G4wFmtf3Z1Qd\n",
              "AmxHk/KKD9P1WLhfMsweTJenTmQj9sQsSVSu0YM7oBEi1H1Ago8JfarwZA80iRXWi4HYQk0vX3Ww\n",
              "2L4lUA5Pe3OWahYIWG+VkYqsltLXI/5h7DeTQ1Ie5aCHaP258cUdy4hkeoRDyFF0zv4yxBB1guj0\n",
              "HapaO7xRPUoHX3pu5W/2eDD8VpnVi3orcLDd3UR3Ne+WfbXw/ehJLpKNsfu/BJNGHlIBZJD3Un3f\n",
              "EO+ESMnPYxfpyIi/qp1WthAc90n4R7tDG7haze2otpCES9pjykvXGzHUkOUCgBflaiiblo9LwCsl\n",
              "FP1e7MoX4G8v5poED6RZxhaFpc6T28Tz3c/IHrkwzq8N6YdlvrofIdJqdiAELihDBqKnmRwkk+x1\n",
              "XYMjTxqr5wtaFiGBQDOx1na1DIlx/5S8DiY51yjUdJWRpck10L/qo+LhhDxg+Apk9rNKfnVgqJG9\n",
              "q3XkZHAUmYlHthvsB7x75/7TtySYKaoQG2qzaOKCbPRSnOvgCS92D5xGmeMW5WVruZQ7mMjkOp3U\n",
              "DVwx3tKJW3hPFFxHc5bkF5G18X686dIPCq0299+MulCKxhAXQwIJCqfDiF90SINyOuX/R6ZwjhAj\n",
              "dDlnQnYAO6FpHgk6fZ1JQZdseTOiEhCicizg4/l+gecbHzuOAAZeIlzwrPsLBWAoJtTIa+ZLsZKL\n",
              "GOmg6H/TMFTspU6By8v8c7sp7KVlBShadg56p4s2WukMXfJD9gg+qyKqYx6f6lABLbxfqfR4hYHf\n",
              "UDqdkZjooFX+taUydqSUtz6UDVpkKYj+568xmDGzTWbQyiOmxn/TimHhEEZgSyVYmli8S3c/7mab\n",
              "zwjKFmRKzoagdhuvk7K1lrJi0k7z7q+wDaBxi43n+xi/kj1smUDRURuTw4L2iUllg2be26w9sLCR\n",
              "cAX+lZ3TrfgfnDB48/rpDZPvq0xR1rdhvckYJa6YLH6xQRi23R/8zyzsagcWi+GehbzXKP0YKoha\n",
              "O3a7DEfqwdnTXnwOoNkk7IEgpQvXj3qmmGxyMjGsboB8z9NmRWpSPKirCnvjmU+yd6jxd8fFb5W1\n",
              "lcN7ClQaCTGapIIg3xZddheNNTivucW3XymIdtOBTho4tUIEoNf2wASYwtNpViFBQqABitftxbh4\n",
              "BMo1InLNo0q9b8uVb/mHfTSrUtsNGOyv0O6gxZ6ga8EFygeQml69hX/7Xn9Pum/P+cYAACQvyCbj\n",
              "lQAu4Konhxa1CH1+CwEzILx6O5GtZbhjuHydnNuTq4BuL26/2ofvC3xgfgu9TBGi0rhwg4pq8pR1\n",
              "fbZJwobOBt0eSRJxe+R7anzJS5p/9+DIODj3Qe/F4N7i2+ltFDZvjMXj9yM2QHVbpvQIjRJ1Yrmg\n",
              "XlZEaxheJ9og6LBxCuc7wGG5wBG7FRLfegmcEaAyosaJ3qsOb5xUbHWjfpGO+a2AOPCaSpvMeT0j\n",
              "P3A5YPcYYtC/wey4EZiX10FewDvNXjQfdEPrnpmbm6fABVKiAIpiibnOeYbgDvwsNuI8U1z4zpXI\n",
              "jtAUXLIQzpd7Y2isUfmgtxkDo7G6ox9Wxg/yub6+RSD97Igd3vaqKgA+YmArp+jTvnWrZ8S15xm7\n",
              "3UNxbOqocXMAVx1vzMPSvf5QBVYf4hczpQfaRQfNBAVICTrW4ktBQjnGem6mDybLLMU6LdcWSiVD\n",
              "g/yTGOOs7+gQ8ay+KYH0paLfFG/eIUZy/uAAAcPGcp8rhajer7vVYRlNhaOTCGf5SOrg1VmvWu15\n",
              "GIteSepYkEM3IVCKRipvglam53PSJNAAA6TPmrwmksMGolLk/0/WCpZ8xS5ReqcJ9nlWJg0JebP6\n",
              "ulnv9526Yglo+qgXi4a3k8+Ju+5XL8oWP1dmFI4ZJM30a2xubUXNv9+0M6se6nf28GkUiJ/GT6Nq\n",
              "HqrLebgO/n4dBWteZEIVoTw/OoZZLDwChiskT0eRT0TDrBUonn+E3whovX35IOu4+Wy/8x8ItoQJ\n",
              "m31WZeKvXUKGoIQ68N63RurCJ6UY8rpxcRcXs+ECfmIJDcR/40nlm6w8on2N21sG30b+7p4kUPVY\n",
              "tWZBFUkWwCp5dfB8s5fLfPt0OmazaZuEC9zQCyoeQ+80QLcwOfm0xzvR+E3BRXeiJxmSTaadAdiI\n",
              "bEkrnWnPuuP18pxn6gszmCQtGDkPtY95jJMxIAnNpDoqbYDEk6Oz427/9fi3BKrrH1T+lvX9SxKC\n",
              "P/aGoaJpxVEwWq2qp4XmBeA9HOSfgf2v/v3lXc0+/y5RFCsdFUTKaK8Y9VpbT8OtEUrn6Mly9MIr\n",
              "K+3gbrgAu8rCqTSU1c5KSnBjvk2ioNFa0ABc0iYVeFxDI8t8RXitVsSHGbhhOUZaHhjKX/K0KBaY\n",
              "u1p/eKdlcn3IhM+w+7aWorEsHvgLvDgtczUxgtcSvnVjkRKQ7bvy8mXqUlp7mTXBFqvNjGrhR3ni\n",
              "eH0zbco3S1pTZ67tJq0F1C3Bt2VfPC2SQ+4TiQZAaib3dz4q9Ta7ptWO2hkaQan1EJS7oljDUDqw\n",
              "xatl542En0bBwk8sY9ObeIfOeiF6Qt93aNztcMLugaCd6nMo4aJQOLV62Lz1P1rMHLqwKeesGkzl\n",
              "SAvFq0CcUKufZahuA+cFRuj/MXNoZh5Uk5bmvx0dnbhoFwtLGh1qWv6c9KkgjJcrqutkiyekfzl/\n",
              "wtJFDaSyrHTkDS0d26Zq2yxCdke+EFlg2gVpi8BoFTGEvDl0S7RIzmKU2L4PDKyvPIkCg16ZYTxA\n",
              "FNvxJdInxsOrU/Sle8LCLZamDIYaiqqxugWUDN8JRyABx0nEXfJemeJjZZHeEq6uoQI28ISLEhA9\n",
              "YoMkAOIJsuz+AmgC4A0yQPA6ZhtQZwk9nXXHV4TuC2KRuHRAYMwj43h6VhTKgi5T8h5fjQtDdJ/7\n",
              "pbmo3D5CXeJs2YuK8PdF6GLuNdbcoS+tWPuG60NIoFvPaxULwCsf94pZMRN1Us1XE8qBtODgJ99B\n",
              "W3FcrXpKxJRDzp147prVdnnHbp47VTqynFMwHCsDxgk7PuAnU/h8AQ1xPwFXt8nZJ34OakBD0zsP\n",
              "9qNIitONy4QeW2EYy+/WtokLe0y8tqmZGQ02psTQdost5qg8abz5FUSPSfjMHC0z7QQ7tCMX7IiH\n",
              "tIzi2Xxbp6VuxeLmG7y+Ok6acFaBVz7wWIZ/XLFrjY9TrzhG2gM/RdsJJSMvmJHoPUnxfSIhQxlQ\n",
              "u6nrm5ZBDzVO/Ehq7S1knXk7d4UwX5+aXWNwpKGLYjXDkbzEGwUSSaCB+cWC0B0UIcMjRcGL2fYo\n",
              "vZXeYDjfuJ9UHL+XAG9HGmOWMa4XAem+V9Q8Yhc8vD8J5efj7WAKcZMZ47/2R+O9tF5SRcsslGkC\n",
              "PfP+I7ZZoSzBIY4gmap962AZAl4XN0qe7OVj7mVmVg1jHkYSTWDL3HMpUgBbvOGd/J2fCReB9aUz\n",
              "fvtkABINfjfo+5ZgzksllyrTgj1va+qCkERvL8vTTVRI3vbNrSi86bzjRYz1ayCfKRZXU84Wc6x9\n",
              "dl80/esnMvVbqvjAXrRhu04Ercy5O36KTh0CgQ48lMNrqnJs2DXeQhIRkr6uFOHiFGOh+RpjD1jx\n",
              "BPcJU7VGahdYRw6wYFqizCTK4LQGibmMo4fslxelw43HF+ecgWMFmLUsrWwGcCxMQpFrYOaKgAAA\n",
              "AwAAAwAAAwAAAwAAAwAAAwAAAwAAAwAAAwAAAwAAAwGNAAADJ0GaJGxDv/6plgAAAwA6RqnBEtw2\n",
              "+UcC/NMLcYWKm6uIK5Fpl1IGACIM0YNSATa1Xtb2F0K0Jz3BvIHDkdWS0IAhPmYFwdzKcqBPXmqv\n",
              "VXcKcycuXE0S9Hn+AEXwsqURDZTwtyX1NvZFRNyHzLE9WmPJwToY3w1Hg//ql95/t0PDqo+2bhtm\n",
              "Ovb2Zo/AAFi4+n8OC3zIkMc8vLKGK471tLQ6jasvVFZZ2upTP2jxsvu7mgvxPUcnSuIIp0VVWWZU\n",
              "koZM40kVfbsfZTpHWpcCc+cL1sMT3czYyvpgTOgvaxrBdj3bTF8zPE/91uXl8t0NIOHAz68tXQAw\n",
              "carEglsvL6fIJM3F+ai2I3oLa72VPMHP7btCU9OW4kl/Dx40/7QMM2N9b5y/TLEFnQanRfI8unvR\n",
              "U+07oY7V4EYcfInyySxu+kjilpVoeb6aemixeEjfJgyJDENe1WMgQ9fw1+ZUHeDLf8eY/YGLSvlq\n",
              "2peTLTMyByUr1v+kPBQA28eynX8YSa8lmIdl3CC0DLVvLBHxa7FkNoLgz8O68lCXxlavADz6oa8X\n",
              "yQGeG62DWM8/h1agoFOkflg/2L3T8J8ZbXU5HItEwGJ10oDtVY4lR3rlKcPw0IhVC6bbFtwFhd90\n",
              "jU5BdbVBah8evi94qT+qfdaJ1/Xm3VLidkz8zzcaLzhm/Sf8PDi2jEh/cjy97owY0Afps6i62p0X\n",
              "Z4xgGho1t+wfeiS6zmJBeUVqdqAfmf7iarVm+BlomkZyJ+4rq9KjTYA67gmASHAkaHB0qAboH03p\n",
              "qE58GGqaVQYJcKt4XVKyk/z4JMPxhhDV0dauOqs2MB0Q3/DKKGz6mMkE9SwHsU1TZjhVtxDlyfRt\n",
              "uOksOEvct8M+hgBvmi811s6xwBFmyrWRoWt2WSPaeDEN6MWTaQmQ0Qty5yw8e/iaaYG3zem1dLUH\n",
              "VzvewqOgGHCr5OXQ3OaiNFHu+QqDn4TzWR0BM/EnKB7R8/Q+zJcMdYOBg8Pkpew9Hh6CZ3i9hmV+\n",
              "dnwbq2xF8zDSd/eDo6sfV983Z0EJNFV7X4Y59PnGs2LyNAFTT9Mqqhhe2HeBuAAAAW1BnkJ4hf8A\n",
              "AAMARWS1VOkHzLK0LEtojgBo6O3u+ACcdssqeo2X2Iqxq8VS3IjOYs1JLztrJe/3Qn9C/vqlBcgZ\n",
              "7ZzLjbRmY+onEHxmn7ozj0Rnr4hbruc4Duk4zTn+I4nF0Vd0A5vjstDFwfogIcVJSbpct3XfEMwi\n",
              "esopWLyfC78fZMVR0pmF/bS1In1pbHmgDyFo9ttR1TpobOboHSxOl9WzQug6vx3i+eaGWk9vpcw7\n",
              "prVIQQMiwBHP+3K9vXJHNaGm1I7pDY1xCv6/j8MJP0wdUPXe9fr5zEmhqCKPw++8xu2mEysg/5As\n",
              "Eaf7WTFXAcHhZ3jQBF5QiXRumYCV25VYqvp3ekOJeJQ5p+Yn7VlRDRU0Eys/gt36Lj8giJRUzRIq\n",
              "sctU0hva9noltGmq6qXugtWZrLHhLycM8KFaCSTf0OTEjrIaDKz/va5ien96UXp+53mh1PWQIUN+\n",
              "EyoJ7aHDqiNL3WnwAAAoIQAAAO0BnmF0Qr8AAAMAX6N/zyRt6aMPAwlm4ACWpuon15vO3hk+WOd3\n",
              "UMtbSjKinf986K179bOji1zqPVRiIymk5H5lg1+YL8K5R7FictuDa3BovhlRM28anSWmabTtpO1N\n",
              "sfcBuzon+CQ9ZTlsCGTNgMpM4nfiIuKpKttdEJx2p6oS+fzs2J+ffeMXLiz05XcgTq2DPq05szzN\n",
              "ur6qvhnP9B9wumSBxIzbeTbGjicCwQAZ7IrEuB18o5iC82/ITIp6c78VNdEgecb+ZwNn4KcxtcML\n",
              "Xjv+7XmwstlhV7NqVMruRgghzVqDq2KVCAAATcAAAADbAZ5jakK/AAADAF+dDKjGMTrx0/BbYRdQ\n",
              "T+fgAHwUvtEKMLNjTBXFtM/n82tzPIUeI4DxWvihpKrtQr4EZjODeLUE7nm4iRbNhQFAbyJQrjCt\n",
              "23LluhsKW2BVxXA9sTHXRVsALLn60uMLUc/AvPZ3pO2FSVFhYBmj1yuFORGFUVTfFAWu1rg51yXn\n",
              "TTuvARVAHgSs/33HmkEtVQh1yPqijW2+hZH8632MuUjaAv/Hb6K8fuw2aCBxcxxdtO5wV6EYa5eR\n",
              "2i1vWyRdmFDJBmZuJoLR67qIFlIAAGfBAAAC4EGaaEmoQWiZTAh3//6plgAAAwA6Q4UwDinq0Y+S\n",
              "he3ZPCkatgUcWme8+FeLhWyCcJpr/i1BljfKAbob07OBnAxaciLJ8AWGHi5337tobFUB5b5WXgf9\n",
              "3jKM3Fq/TC/EX+qcrdSumtLUQbhC5HA3kDbtL8eQugx+2alNp7JM8UGkQixDQzwNM7XUWLbojMbr\n",
              "VZ4196WUA4mt9ruTJmgJyxahW4Zr9o1zRMBPXv8PupyOPJ686U/BQSDm6ZKFFLCLHASPQJuX3kNc\n",
              "qib6c1ESBVztNMOAHuBrp/F/kz4RnvdmrUokGSk6mOXMqEx4HOjx6k8GGssAoiTBtF22vJnewPdw\n",
              "G/RE1j0Do36n19DFV4GuciG6E6afAOaH7u8SgzjLWOwGAoOTldqJNvDExwmiXtzjSaHAzux+yk6+\n",
              "0VRu+e6KYXMep8nQ+Z6vPjABwZ0JIvACscjsG96yOd0yko6y1fSoa5YX5Ua18pBMznZcI6JJ379S\n",
              "7hmpO/DCBqwzBZw5hy3Co8JyJ3A00A1do2K89kQhprYe7P+JN6pPsUe8JJ7puXPeHTMqieVy4/1c\n",
              "zUUeeSG/Gwof2B14n8bSqSfGGKKZ27ckeLzxVk45wkgNScv64+A687WKTH4jzG7ap4a1KykA8m0b\n",
              "HvZQAIbko8v5C5+POHk8HyF1GjZSdc5rZ8WffoT1LcgLe4XRxKXwMm6qHngiaL6cL9NwH36q8VFt\n",
              "n9tcZEdO7+mv2DL/ZeCqGzpPm7SCA6fKSw0oS9B4aj30kMdK9lV7iwDDNW6nx8RZ7sYKbl2YNAjg\n",
              "DMvtaU+F6au5bjS5QTPmzAQAq1Of+MbVwNtkdGnVkyR+dcAFiMhMJ2r0xNqI7Lzui4+RjvbnqXE4\n",
              "EsXPKYPUNVDU5B6eyDZgDIA5uD7jfn3KvHMMWrazqqw90hTarOS0wM3YPIb2w4iu1vS8w0sRuUMc\n",
              "c9vULuNv47DI7CfrnSw5JT1fpL/Ng7EAAADjQZ6GRREsL/8AAAMARXzghFBWzwITRGUVCcQ7AnQA\n",
              "ATss/qa1yq5hYcosuoUs4t3r/cSPiDDWBdKQbVgHP0ahaNFRVz5fxHWGHWLPZr5At1rpk64eIQff\n",
              "+60GHHzhhyPLRO/k+JO3SOf7yQ4RGYjCXAfJTpl5vGqx7Wnz1bW46LlEMwu1tqlhnkCVyBUiBt9S\n",
              "biOjM+BWz2WgR2G5cHeXVF/V5oxKLdnI2bu/W4aUH+smSxugGRoy5zACHen1uVlOV8iMHWhLFnW6\n",
              "TaLVoVrb8MHiWezFCN5bQIakRm+kAAADASsAAAC8AZ6ldEK/AAADAF+jf88kbemjDwQGf8AEQGid\n",
              "LQPnAAOW1HHH/7tRXAVJN4YVArjnyJ7aVI3FohheYStwJ+Kt0c1LergjK5oKlO1Dw2UkEsQ4DC7I\n",
              "/lKfXYA72zam4e2kpmN2lBWRibyimhSYwe8KaO160RYTVLutc5j3aE//qXa7RrN25Ph02b1y+wCu\n",
              "rnrHPmNi4dGh4PrLxqo2M+fcnrYQtBj024SmObE1bO/aaPyX+W9KNch2VsAAGfEAAADaAZ6nakK/\n",
              "AAADAF+H+62J0V648o3AANqNK4P41FE7ElOCn69UL2QfdBm0kXVSvxwbQl393FmFoUdTtOuTqkKJ\n",
              "BHrsk+2w4vAw48AkUQ6BwYFLcKKwP4LBoOItXObM+QQn2h7YDtUpSaQttSMoUKyxJs/LReW5FvIn\n",
              "w00MH4/9Em9UazzF0Es8FUw/4s8o2kUHTpo4OqMgocy5BpVadkLqWLzCy4iY4vXNnnGWf+MVzzlw\n",
              "b6/s0jT+fwnXay7hPmIVzq/TTRDFt05YVCsJVHNwYPJFlvXX6gAAk4AAAAHoQZqsSahBbJlMCHf/\n",
              "/qmWAAADACt6hxFQATRWpTNge/av6aMAWxQbfZpwhQdx2sr3zLxYJHLqXxkyGb47GwelBMc5W2JE\n",
              "zE/bPvV4CyrCXU2/egbuaDNUMvc2dprzz2SP5D+MSgAFk63IXiqL2BNIqkVvZ+ezHSfthIA1SSR5\n",
              "VziH2yIYHqx/owREowG3J9uGiLwkoQfBK9+lZsFXbe4OxFW7NCS/naKJsdZQ++Gx0hlHBwFNMW8c\n",
              "mrneWAzYoERhT2Rk3H/6fAg+LU6yD3hYNybZRK8hhtNqV/JyB1met4AKPtLriuN1VkFwRqVIRK+y\n",
              "d67lIVyTHkm5kvPTEuxz/7Z34l0pbLiO3TJy4SDwJmT0b7Jl/qHGvoNTFb2fxnRpz95B1M42Paoi\n",
              "b7BLFJD/aqAjpGDs19tJkjLMotshMmZt3Ou6RvY3NvCtl5fHOlSxDZs4JYDv5tWAJuuGd0NnGegJ\n",
              "1StsuPzWbi65Z4BquZEhm54xI/DQ5Pi0s95xcV+E96h8gpAr22M9299bMPUMzgts+ydR5e8prbwv\n",
              "eXGxoNTTi268Q0NvP3Fkh3yruK8o9t/YZW7lYp9hnBjp1ojBYTo/RfNGBkflrOvd5TMAYU+kt/dK\n",
              "hCkYcpcA1lhpbxzC9v03bFJmi4AAAAEBQZ7KRRUsL/8AAAMAM3LgHrgBMnE/vG6mqFA4LDPUkAKI\n",
              "FKadtF97CRXya978HztvUzCjUqbgygrLQhzVS44HFhiSBnyUbq3JgbGhvnufKujbBt801HnVy+yZ\n",
              "f7B+fMubx60LOpMHZohKHTMBw5SUvMd4GE5ffQCl8qjKIRrEAV6RDJGqGfvlbG7XzhNMerw6x1Nz\n",
              "MhIBh0EAsXW7NX3Y6QNjCoBhLi6Ah45YZSunm/NvxrL6wsWYHrXGUsFhbjJjfj0B0sbfhiYGm7I8\n",
              "c50fb6/azUytdSSpi2lxqovgTqcdJloPFa7HyIWxXP+JWFjdN+Hy33sYEMvB+/b+8AAA0YEAAACa\n",
              "AZ7pdEK/AAADAEVL9CiAEFxv8iY28ZKJQYpFvD5/33GjeyBcYL02Hg1zYmUbop2BKB/W2oSAT+3/\n",
              "EKi5/zMEEredzcytORSDW9SM4IpgBXG0+nM4uUDu0OvmiX1z0xa5WOP6uQmKVRpchMZSPDVrFCv1\n",
              "E5QCkomd6RKXLwv7nrkBZ6zlu5zVeX1hr1N88Gr7YK4YQ7EAAAMA/wAAAJkBnutqQr8AAAMARUrP\n",
              "78gANoGrXQO4moLMxYKXHkg5HbfJ0n8/wuF9FofInXXGz0dfSKaThaeIaCxvf8AmyoeHGwIthnjh\n",
              "+zLK9USEwWeQJ8AqAm9FsgIl3gNEp8dS4N8xAfe/kPOGNVr2Rt7pBecn9S2VdhISw1+IGRbo6yWi\n",
              "JyK/qjd6efbYtF5gJj6X1PEg6QcAAAMAu4AAAAGjQZrwSahBbJlMCHf//qmWAAADACuMkQqACFEc\n",
              "fwysyhZHl/ymOdNyu0pNB6yY53TD+9x0/N366BJXChtMkHZ0gEQJS12l/pnRwTHzD5sWA/6oZ2bo\n",
              "PpQbT28+Xaj60hLSGtOZ20aeYO/Fqm1mJqwNwydXdfQlVnBsuOyYr5SiLE5QVq+qt3J/Iav0Ioko\n",
              "wtbCUMFj5ftE9V6LVnpEJY2F+KawnNH1aIs6uP6YFGr6gFcrIUed02fakkrJlgKYq6Cc0jljBlDg\n",
              "M0P8VMSxrzqDLgAsDjKmFkpj7RRSfa89fDCO2PeYAILBJxjBQP4VbJB/DGfmGdyzpnKn2WBlqoyA\n",
              "Ij8MfZGzvBMSARQCucAApdjVIXW40knUFQlAuzew7pXBr5vChs0DRyB4EReEj9xqEtUBf2TtcgLi\n",
              "2r8cddQJ+mu0eT1E3SPa2CDPniMkK6KSYOYyutOQU32TYymXw7rCjjUn70shW/GoYYvf6dZsdT4q\n",
              "1NsqCPI9XBmaP+NoO3Z0WCoL2g2523LLNKk3sBOVfcPz9M6neHcPL528f9Rb+5QABbUAAAEBQZ8O\n",
              "RRUsL/8AAAMAM4rmQAGxhWU4yB2Tvu2XLm10jVpv2JthBP9ted028KL4EiAyyX3gdcdrrk0x/MU7\n",
              "RWEDORXHfSQ7Dc4sRNRPbXkarLnOFvEsrx7d+wQf5+caT/mKUN75lCR2dM5waD/5PkB2I1n3ED3o\n",
              "GCtkFwIbevJBJvY2s33KSsOdO94WVePffF5BSC9vJ/Su+lxSCqF15tZYiP92z3h0gHM/InDEEzel\n",
              "/uVjCJuqPfP6vogbBfvkvUDUDFBtd1jn5shLkpPmh978yVdvqUntz9lbgIOMMjSXw+cZK86MTpzN\n",
              "rv8qMTS6CVeMCXNVxieNyPIRfoBb0NAAAk8AAACrAZ8tdEK/AAADAEWeIgBNWckOqR1pNrHWshi5\n",
              "xQHOp3pNWul0g5k6lvaHfDAyRlErbMT4rZz2vtn481ad1NFotkFyWWOqyfwag9WPsdk2Siag5A4q\n",
              "cZKD8dzCArFsM+tVZVNtxI+d7cuaKzCpcHfgi/iUF1x5H1ZdqQoCfNNC4V0BRPNtXpUT8ORUQINr\n",
              "DYoLk1Hp2AZK1hlTnkgFGWCuCCotJ5e/pAAAAwNvAAAArgGfL2pCvwAAAwBFduYgA/Z/yyY1BCse\n",
              "2pzTc2f8J9oPbdzgrTrYgzrWi4EtHfasvwGDNL7HhGX0Z2+U7a8k3PbaVFNO46VI0+ZeE/+NLkYC\n",
              "cbOttYohGRSCFpHION9pe90kXzOtmi7YnLTf4ItSP5dlBVJ4cE83vxCCmHJ+X5Og+x0ZGPVXIUc9\n",
              "bbwhLjKTbGHOp3hpr0xuKvEuEp/Xg588sdsgF+VordzOAAAIuAAAAZ5BmzRJqEFsmUwId//+qZYA\n",
              "AAMAK5QO5LQATrXMAL7zjUufPWaGH/qDbx4KqXts0N7WiVn0XMzY0E6KkxEHGR3U+1Ps6ghRxk+4\n",
              "yQfgnFalGwOVwTxYhagd/qMzUkzE+hTPyZRet9CRnwwr93J/5ZJVSyJxvMlzOIUXSEwn8SiHk2ED\n",
              "/5MVQPno18206HcLTpgBeM/0rk+RhqZctyj8aQMI+nubaLbHUCiNREG/RkMBpXAklqW/m1gRWluW\n",
              "KOwl2Qe8YYWbpqZcs3pe/PupT9P++GSPDFtqo0btSVbVeQgDVPXpngHRBRumEnYZz41+ACE4reQh\n",
              "TXtRBDhhMwrK3OVjEKhQUHWJuaHbqJCUWLWAIj96JwDENpuCRchPxhS3eOd3x5v5FLE7I5JVgXdu\n",
              "eBtxvW846KIcnMxRDhR3STZnG2ncH4JNbpyb3pWwlM44LLLukcRBZaK3wHHqUxhp/wKPxJriGVsX\n",
              "Lbu+Y30OQOAgjdKeJP6YlJx/zS4hXIS5gEfZOEm1UwC2nQpaWK+F/1hEreUsF0mwvQPDLn0ACXgA\n",
              "AADDQZ9SRRUsL/8AAAMAM4KMgASRibsqTeMTRZljQQNTiavhixKgn07nPiB5jeuo2zX6zwxoY+BM\n",
              "jGhQGzvPTAo+DuSt/VUIZHZRZPN7Mhzlu7JZmrjmB7NK6y7O6mEBFav84MzbjfHVGidexv9G8zJw\n",
              "ur4tjkEKuxPXNVhvtWrwR2NKt/MJQB0Xb+kv09JGCRF21fBYxPgFK9jHTNRqOkL/LcRE1FQO34tB\n",
              "pjMbtebo5ZQ3hO9ew9EkiVwsMywW5MQAAOOBAAAAtAGfcXRCvwAAAwBFPlcSAA2fKcx0K2nheE42\n",
              "dJxvPSsRzlTXqWsryNkZsJt+Hg2b330WqE38RFad+MRwkAAVu4hbGn55v9SINp7dmMZvDxxTu93a\n",
              "cjHjfHuPYMwBmvpJNIQ2uVNszRPITHqwGHa/6WeKCrzj8hhFfoIf4P/FRZyHQdOFd3uga8y+vZww\n",
              "syOq0NkbK6AMK2JQOIOfjSJIrZAxyAYflVultJSFk9Bx3yyAAAAd0AAAAIsBn3NqQr8AAAMARXbm\n",
              "IAQdV0g2ZL9fSSTpkB36Fr6PmLAGFnPTgBk0jxo1TUQtE9uE5YkUXldF+uubFhZ+gfQZLQrAqXu/\n",
              "IlKvirtJzCERXIWX4D1yH22J3zOBCgS0BcXBF8+3BZFi+6NCwWx+9lG+Nkirogclnmoyt6v73HUY\n",
              "etqedCTENPQAAB0wAAABiEGbeEmoQWyZTAh3//6plgAAAwArmn+0466ABoJRxPAL9tn55y1wzJuh\n",
              "Q2SyvO+p+KQmAPYh/dP36qGSs9sawWMISUC6fcyHyQDHxerrWiTdVMr9izCX8cOsAeXpa04K049V\n",
              "e1d+XWWfbg5aYWSu1LndCFKOeWVriCclK/BEP2EJuwAebdDgkWCembNoNP/yP/feDfmw/vlKY8aT\n",
              "lxZCSjncnQjaJdqjTJPFuEOBm2hwuAnFRJCUYCud8iVyiQgn7i+ed3z/A2ZTny0O8trtnom+BQuJ\n",
              "SbRv3bise6/XPL3qyFYPyRfyCPwd4akco2fb1xagL7HXQmW0n3PXGC3D3Qx1HgSBXbJ+XgYjTRrh\n",
              "tilOXvOzwNjkDKtdgJXZuG0e8KXUxHMaiCCQqe+BlVO/qosBuDe6fQvWSb85a71Z6OvNd50+46x3\n",
              "iIMbG7wr11almeKvatqe6fkzgTFGfsKCWSgJXlQqPAe17H1B7w1tVab+fMWzP/A8sd6kKh1IXpMm\n",
              "c/qfUsIAAKSBAAAA0UGflkUVLC//AAADADNJZn23ACE1WxoAlt0tJmvmw065EHni+OrC8fp1aWCm\n",
              "1owJG+HVe0hI+FCNnlR8tI+ii6wuYoCRYdQbUwzTPA2lJ0ZF7VI/vwiyRyd5kUUchqLOjguobR1O\n",
              "GoAkv/jTae1QLiqSqbYPs4/C+NyUB7/rT8hE1oo5XFJc+jvTZwJMCQy+i0sHq/nieG8YrrJ4dvKV\n",
              "t0DSkVJYzMeA5ul6jR1br8Effzm76nFsBeR7ZIvms7U9u3ivCmlbUT/64yj5H4wAABHwAAAA1QGf\n",
              "tXRCvwAAAwBFNEVAKiAEJz4u4BRdMD+SbzoExnhD62dMG3Tuk0OdQYkzMOZ/jRqmoiy7TU+81ooz\n",
              "wxSuWK9CGkZ1crClKLOd0y+2fzBYuYKThgJ9FksVynamzpNEpgXRUjH9vMHqRsO7vzFtE1wrgoe9\n",
              "UlNA6RXhn7mfHakSxpZDt9Htvphvm8n8Pf/19op8reQBb+R53o+lYL1j5mtSJ+g6Bnz+kASmeuYZ\n",
              "nrEHHW3jKU4VNmQBRQG/cYRkLUa4HryYPbtOvqLAC1CMRiuAAAAPSQAAAMABn7dqQr8AAAMARZ4i\n",
              "AE1ZuuFg0++WrkAcukCzMIr3WyrLI3ItJcWiRbp49CKXVWI4/hMaWkV0l0PyWLjadNK58sTK+MZE\n",
              "t/CxG04QMgCoz2m6KPVAjOMTctfwcFGLonYjHgK3XRbMe0WOAiuDdCpITI/U9ulinvKwMbTqan3n\n",
              "W3IQgF4ABy/cKGmuZP+b7Y7Kk6Ie9/VXwZY5z87LX/hJlDzx74MfWayQOkNLfIdFSWAcvrA9YwgS\n",
              "5zDlAAADAk8AAAHdQZu8SahBbJlMCHf//qmWAAADACua7JQAj8AD3Hdcdxuj8cUSQactTMQ+34R+\n",
              "SHKYiulHQH0gkmB4+BGwr6RsIhR8dFYnAkGe4mYvHxMvuNBMj9/rMMwqNzWyP2rVwKCFD19otVDB\n",
              "Zy1a82u46ZizLo0TMZa8dIuCondlrXKfWV/zZitBSbrcboqapAOE9iWt0UILfZTevhsQzQhkXuwB\n",
              "IvP7Qnpx0OxOtKyLupVcEQGH8teydrb9ZzP8KV0vDzZ4W+mQ4d5p0CDSwi4vkceXb3bslXiqN5tl\n",
              "Cu274//cdVSb0kqucCwIuVWmTfCkMQIPH7XD+orwLZiNmjAZQ+G0b526xpHJhm36r+Ut6fTLlvgc\n",
              "ANjnQoJvRSQyBqSpmyy1UtE/a6pQ/zFkz66BaT05w3gEy1Fw0SWk/wNxXvgE+CnP39vcEFQZuH1Y\n",
              "Gkrt1v/W6Lt3IS6KpcOKidnXuV1F5SLCKDzJcPkX+rZLBH1OyANXtoHgO/sRnnYm1l1FX9cuV/Zs\n",
              "oXjIAv/PyJYirNVcrtUl0guligbr1or1RLm1BDmY5kjy+jU58vfKbKILY9obwcpyhdlr/SZJ6BcA\n",
              "NNdc52sGfBISQQFT5Q6B8UmDl17yjcPB2AYt5mX0VXs2AAAAz0Gf2kUVLC//AAADADNy4aCAwAQ3\n",
              "wMkR6bCGRjZ/CdSrSoxsuChgJNOi4/QTC7LExkZWcJrC4+bhe0cfAHkYsTPKrq196HIbpBTCoH6X\n",
              "soD1FLkNqhfCYsM4qN6YL2U70tL5sS+95CdUdp/4H5xs7yYcDBP2tk8JBkxRkYyj7/kWPlD3SwKc\n",
              "zSgIwkotAbULQf1zr6ofXzZ5z06oylKGQeemFychjEfQOX30DpEXzXp+STOdRt0WLh/48ysKeCSo\n",
              "nGQ1VaVmc+lfHwKYAABHwQAAAMcBn/l0Qr8AAAMARX3vAAbPtUvmmhJIM6PSX4N3/iDKv6M2hgNd\n",
              "t/e4MwQRa2RnM9TCWDVonVPideF2NafB0Zw4LhSszm2/fWXmRbh4UeoGgZEVvH4WLX1nkkPrLVEs\n",
              "Pyc5VtsU8s/nIcS74Y2FVOkpRe0+BMTBPtO6FVKQ1LT6tizrMeaXiF2Krl/iupiDPFl0q6htt6yS\n",
              "X7DAARtnKuI3Hl8L+DpiF1UnPNeGdQmEL/wT7F+Qcvi9Xkl0oKYaXZ8EudYAACPgAAAAswGf+2pC\n",
              "vwAAAwBEcOTMAEPpuH5Q8QhEWicHizijXLcSIbKM3PSf/2tBJ5j3IIwWGgRpr1H19R0Bd7TPSaQ2\n",
              "8KOvEYi+akjPXIxeYVTTQfiqJGiXc8mPHq97tZa1VicaQAifiwJtoB4qlzlQozEVlMeSkUrTzsSr\n",
              "PYJNy5AL+jHtYM6dM3B/y1+GV5jc1Kq/6TvlIu782PdoqsGiovwAHezdlb8b22dEhI0rVNKOzUAA\n",
              "ACThAAACoEGb4EmoQWyZTAh3//6plgAAAwArhZT1QATRYlbeN3KAtSgOL346GfTZYR9TD+5Bk8m2\n",
              "B9Xi9t/aacrqrP2PkbaInaeBV2MdEqmAtARkoKwd6pvfuVad3yJfOv6+w61lBGSZPb4UNpnsfEcL\n",
              "lKek295CiZrph9CBnfuQZ/3Zir8MV76b76BUWRbWNnGKkFPsF6ZfgmQEaNo8MvLZbRjIA9wzuLpB\n",
              "ByUe15QJ3SHccgovQ/Dxs5l1ZKf1uMYWGUxwPI+K6+3cAXZP88Uz3iFR9XaD0UL+qJHsIybiOXLL\n",
              "aLCnROzVqS550WbwvxvdbhBXRA+Z782ryE6xeNW52oq2Rh6k3ZaT9BT8wRlsVTCAH8W0EHhqzPdi\n",
              "WJxCb6iFadzRgQ3xT9//SZU5bFoPjUmib/2EB0xFeJ7VTdZ9NABui4nEYn+ai9NrWOX6si6r99nc\n",
              "nS23zWLcn8rIFPruAbHV8AkQtlzsnb/p8rbzrxIHls1lCQh16Lu9PAUgYk/GcZF99/xPMVMY3YHo\n",
              "GiHiv1/gkIN7aScXPM50CH5GEIEWq7JRWHofGnBOX1lqgXAvuK4/nHbWl/zuRFUH4XsooAkkQTw4\n",
              "szcKxls7lu09HfbH4HPIDq+aib6+73Rot34OzTvkJ8OjwQt6rtdUzPtmlR3LmmdcKJv44J6IpNcS\n",
              "kDTRKtBAmlgfVuJPgrxYVRCiZyFj7mMrPlL13hbh7r1qdeguHBNFONCT9jpv3QrKVNc4ilzSya9g\n",
              "WhPTBdIVhlfYHvJdqDWmTsmqYAK1hmdJwem7Iza5HDT08UvagII+Sj0YT7tXAkzqn6/n/wDIf2dt\n",
              "mmyA0ec+836Fg9eQv/o5PnKtLcyxS0jEeDRRgP+AkeBzvCu05s7sL2vKvePBdCPx/vkFsQAAAOlB\n",
              "nh5FFSwv/wAAAwAzaAxRAAfUCqNbi/jFo9kQJ9etEILkewGg9yP8gJ7Cg9wq84JZ+RrTuBZLQ0Uk\n",
              "Q3ykaqYuv9Wk7FrrOltK3NmmhYvajbpm7Qypl4sz66MBmy1hiI3n8N9ksfkR24enDApvpviz/Xzp\n",
              "1O91z68g5D3CkBCYoRY4lqeS+VkWMmIIH1BNqPuEX2hG8bG4Evbj5i6cYSnd6b0r1CcNTBvxC+N8\n",
              "W41A51HR/ygvdPLO7heWkFT4WxvFGGrRHOYmf5a+FSG4Oxl0qzbeNayghmxNhgrvwyvpaOyHngXX\n",
              "6AACpgAAALkBnj10Qr8AAAMARZ4iAEHU9ENdw0HlcyaVAkarApb7bHKlbbNeVypgo1w7ew06swtJ\n",
              "JWpmBRPHs/Y5/tg77Ji4z1KDW/m709iCiwJLfn9sS2/wluB+vCdBnGfpjyC3tES1iRo78TNr+pGt\n",
              "X+c6ag9JJeUwwXVk5CkGCB5abDxHY4ofk1yp0pnoG1RQlOeaS3syCNwGMV54Vl67u7r9A/Dl8eSW\n",
              "LZ4f8EGAxluKTPRBc7pEzOQBAAAJ2AAAAMMBnj9qQr8AAAMARRcV/LABD85oGoyZYMTRFFrzAn0y\n",
              "zeT95mKRS5rp3yvRtSH0IQQPT9cj/WYdCcN1Fm8Kv8ciMIDgHL2ASukaGPoECTlT06g6XFqoP9O9\n",
              "8WP24fRACFc7Ben7VvCIzaWmNK1A+rotWk/mDPAiSNtxhJoMmXAVYJ9A0ls9mqCCBQ0KR9c1KO6D\n",
              "MfjroUEBrX87xm5/uf1Tvs7wABpwL2D3xkl7reKTXpzlmRksQ/fReCxk7Ouw2AAANmEAAAJGQZok\n",
              "SahBbJlMCHf//qmWAAADACt8haAB14cqasBJVn+kxdj8mRyauiqENO5wm93EbR4aslFoLr0FjrQF\n",
              "G1sqk7CpETBwswsNx1nZB8jT9Rao03Pm1H13yXdUMZyjhiCjKlDWX3OTbuCPGQ5X1vj6ZZ++o4I8\n",
              "DmQTMYCFf5WgqgbxLosAFWS4eODx+nNXP06JFXoViLWA2TLegEVEon3uPEhUT2JkzXx03c7sUHt8\n",
              "eNwW1/n8ozgO7KP9mk52qCqJ54zkK/VQgV9OKFv1GNN7RUWzEAN+C+iyT5oWKI9d2ls9d/1Ia5M6\n",
              "GcDD/HEvE2o6P5yvBHP9mQzmMO3msPI64LLGeCSgRZoRW2JedNJAh1OsClmF+7yEni7eQTCfu4Wn\n",
              "prcNJ0FUCctQifF6lDlk2TlJh9vY/84UjBw/EiaQKJgbNlfNZg5PYgFM8ip91x+6V//9Glcg7o82\n",
              "n6HA5TP9fo5qaAbWl4e2rpyW2vy4Kqk9QOqOFTGeMPuX7rfByFTb9sGyDrAZxF+er/6HLMoP3Dzx\n",
              "4DKu5x3gQBCh0kyHdLhalKvvjdGyCRdWjD5POOXHrt9NavW7Yc1RoHszdVUkKeg04NqkyRaFZSp7\n",
              "PNE8xXewvTa+d8jjsKivmOVLdtqUbRR6hp5h0oNcnOML5NX3AWBgU/OLuGVE6pxtQIncEQmZuHvJ\n",
              "z477iCv2cgOOlB/n8xqVJB7VWFeBM6m4UmKGczmsubdyeZDXjSNdyeQNspckRYKE19gUoFTLTSPs\n",
              "85RvAI4AACJgAAAAz0GeQkUVLC//AAADADOCjIADYxOjAp5vNgMB7Te5hn7I0zXFMtBFN0TC8bnR\n",
              "DOYowAWJuxY/nijxMlzswjqy0Hnhwg1s+sPNsO4NQJebwgJEomuJUW8fOLRzvRu/o0tapbhI7m3N\n",
              "wgumGLVPvs++1k/ZwIpjsMYUyWpyeEolNKMVYgkChw8qRh58NigiQZE3d1h6eVVQrDcDtVPr7msO\n",
              "D5DjDH2hyoFe+9/jAf6ydjh4vS4N1luqhyApiiMJpJdtL+4cQXQr7qgWbX5rwAABhQAAAMUBnmF0\n",
              "Qr8AAAMARR48rEfsAEKIyEFYgMkXrWPrs/Wzjv24icjpn+XGvx8dXcwMHWkGkfovvLu2khKuaKtJ\n",
              "AGLa+XtqI89nL3dCNSFLZcccSt9G+B5BSr2vnp56nVWeBESXiIw8Y58jRKDH20VAh7cE1hX9b3vm\n",
              "yxzfZs+y3kn156u4tY4XhxheattDSsKZmIbCXroPhNSozV3zuajwbiosWIdBNZyT35Nz1SsRCZzn\n",
              "dmssZkR2xAJE7Emg9Tf28wAAAwAWUAAAAJYBnmNqQr8AAAMARIkXSwARB5wM70P2p10vIQ8YmEWy\n",
              "4hHACWJqfILfp35OXEz+ezBQY1/wjdUwxug5u2THA8AS35jRCrWUmnSuVy8frmIFoCIbVeodPsY5\n",
              "DHTGeLbqWTRaqCqK2t/9v24o2MT4p4j9v4FT8cuKkRFhI3VNCVOxVQLs0qaqbue2DApd00QGfgHs\n",
              "sAAAEPEAAAGwQZpoSahBbJlMCHf//qmWAAADACu8Lf5WVpPoNABq6aVx4CuId0AEgwgVV0VIuRfO\n",
              "6Jv6V3dvjnt684uuDYadiPaZ7JENMZSZcS5rz7ynG/cNiltpypQbLe5KOgjSqAjsyUB4j4ucEzgD\n",
              "++VEyrwti5RD6yBMO+mll+6ia3qU6q2KXVrmRJc+/EopgcjDwC9TwfRDnILqQsOVdGRoyEGxEDtE\n",
              "TJp6O90QTqZxktAadVCBOcCfWb8rvwGED6SIvFW3HFxb8XooUqZAV4Vsb1HE2pyEytk+Y//PBbXh\n",
              "GxtOnPZZaVsVK9c+BVYFeEcUhey/ShRRuRTpmqiWSYhKFURywNcaCS9dDEd64XorMAtUfR7qisw5\n",
              "asIRmLMkTpapCsqhmsQ2WTYdHNsF2BW2XvFe3DalGgsyCYxThJXT9bMLilpv/wyp/tLXvXyT8pQp\n",
              "QJ7GxHz+GYmYeGnxxek6xmmKx/ZOZXh5eQH3y7ctM002rUulixPggHiiFNpmH722lYgn3ajCKJjT\n",
              "tO6S2t0zXFQa7no3TMiLtn8loZBIfiNj0NHao+lNV03t8j32OQDTkZoVAAAA0EGehkUVLC//AAAD\n",
              "ADNDeiMLsAHwijHWlqaG9cdZwHvw7b9DiT9qzivR8DCbtk8JG/vZ4Ej9QlgsB4HkOIuyfFbg3bFU\n",
              "Qkz1gg81RRx2NNi4krxZgz3lnnRQkcwyHkGaSjkcgIf43R32IoojZHvGAVNDB/c7JRbVYg1uHafU\n",
              "f36NPOJ5dRz4Lyp0mlhzwVG6gBu6FAr1iQHMLTkXkXL4k6D8DMQptlS9OlhicEMVEtOLbZ1ECLqB\n",
              "ENhhHN/hyb1JG/aNSkFXzuI6yvlNqgAAJuEAAAC2AZ6ldEK/AAADAEVtN7ABDUa98EIFYCFjoYMD\n",
              "22B9hhkIj9RG6+4PJ5tBpeQRj237LzLsKmKZFk2Hqtl/CF2JFeWBbLB6Ah0b5an19z0Gy5g6xE7m\n",
              "LFbdDlBIEhdJjZXwCOTTHDdhsr0fsnuodZCPPkEyFfVTbLvrQ0jHSAVvP3xLfhviAi4Ys8K1MD12\n",
              "j7iuhdJPuHoUIoYIQHl6VIZsqFvSDvQb6j/6o58KT6c5QDu3gAAAFfEAAADxAZ6nakK/AAADAEWe\n",
              "IgBB1PRD29LWLZ32a4Go543+Kxr62Y0I7H1Jzc3n4lipPs/wjUGiknr44Nn747DduwqObOTNXlI7\n",
              "LKI1Rt841Ym64Tl0Vw1CDAVYlM7XqeUcrefT3s92lPnwCvMgfbPPMftf988JSA7mhTKG0Crwifn1\n",
              "+GLxqOdqFa2LB0mfluNExZHpBxxPdsfQAkYVHH0bnPJgT3v9RiIMw/H9rIHNfmaAFYlXROoVg8sQ\n",
              "9RGQmXC+7xntZVayhtJMl9frDbg/peLIPonwpITMnqT5zzSaKCIFMABG8VjKzU5FD/wQSOu6AAAo\n",
              "IAAAAeZBmqxJqEFsmUwId//+qZYAAAMAK4rmXoNMAD3E9IDzWWre3J94uk5rbKTyAgzDSbYigAMP\n",
              "eTbO1G/hoZHQ0e0ZnRS2hRFiwexaE+P3HbVX+QIN8hUyKcnxegZzmC0B0N2yzBCKkOIyJnnsddzI\n",
              "RHUFi6xOBoxH/pFHZi04Ny/EeaR82Sq3egfMqWmiWdULmXQ2MY33dTFDjg5qbsn8m/f4KEkKx3bO\n",
              "V5ukYWOLTFEb+BgMXwT+kMgey77C1o1M7ky8yUHmoHYsWgONwR2dUpsXlhcOBGbLobwJHLkvGtkk\n",
              "P8CLg+76HldDBVP7Tbmpj/7w0GzW62PoOYRju8u/N37l7c7O4wNRBvGMmcQ5htxGNXwaZWtsVv1+\n",
              "75yzqMgkl/CR97o8G74Py9o9KYFxf2f42SgZtkz2ngw7V2dSLxh1sYYQot/3HDRDa4UV1DS2NnUG\n",
              "iWrQ/bUVZUg85GWMsntWgOm1/VKa32E9yIYQf+sOUrkjInXd9dWzJokZHkHwm2M8gVfbTK0wHcxh\n",
              "9tXpbvhGweiwcNTFqvTA8UESgwVYlAvJgKdaSJ2TEOY/7yO/DEoce35X0NVCb1AobjgJru5Ks6/Q\n",
              "/hD3a/0jnQ24nLZgTbmW/fcj3gUGTF55lwAgY0ojLnC/TGwAAAD/QZ7KRRUsL/8AAAMAMuodIuAE\n",
              "Fqwcieee/hkFpGj0IVeMXRjEEMlyFzNrMk6BaFoEyFm9Yw1evUdnNalP2kCxlX/eiy/BNbfrgi/E\n",
              "CkXeYk6MEmhhAMdjZL5RE0hvZtvSsSETAWBalEZSpFOqTDM+ZV3aQNMf26BEC6fUaRFQRvXY2kjn\n",
              "yjsR1FNNv3xVLG9tDlNVbhS9xQ3ysztaSt/5ccMpFa2doyl4pFSUwuxD9f8+jwJZ1aAGCK9lXjnV\n",
              "YxOEv1w13iBJpZJ2VGk7i/jX0M29JsUqYMMp9P0x2PTn9YOoMBN+v/vKKOa9uHqGO8NbaMreTC7R\n",
              "DM8wCOMgAAFTAAAApAGe6XRCvwAAAwBFGdbbAACHgFj9j7QCPnz/UlBJkVnrGQ1tK4XbMq8uPtiO\n",
              "tfckOrU7ZEzAzkYw+rC2CEB1y8QrlFN7HzYMWnAuVW/hiXUM2anElgnjb+Q0WN8RleSUDX7gBQGn\n",
              "M58YhrIU0GKKC25L8IE7wZBGnUp6BOw2J70mAGjUb3Mc6AyYulQqX570/YlLscZUFmd88o3SsBEX\n",
              "eAAAAwOOAAAAvAGe62pCvwAAAwBEc/KisAENMnmVm7EqCXNhcrujca/cFd2jDhENs5i+g94U1RhM\n",
              "bX2ONpiBSfRkE7w/tGw659MYrO0zfLJ+pjANBtdF8sYk7TUj7URfeZk9/FXgkVSPsBht6vr2VmLz\n",
              "bSbIJNvLjhPtz9I4kjrtyDeVJJIes0b30no+c/gOhtJ5SanvjgwY2HoHLP8sClIxAmJULJKXyQoP\n",
              "uPClELQd2w9Kt2/zDmWzUJXiIvoFehoAAGpAAAACT0Ga8EmoQWyZTAh3//6plgAAAwArf58UAEOE\n",
              "pcMdZDpw7lT9j7EVtUP3GRmSYElLI3B6TH2lmy0UzfMx6nJ0+phzLAAfh2PHcZVytwL+sTartgbx\n",
              "M8tt0U7F0jt8bsiTQNFDSBDxMbQfeQbmGswIFtb9z3/a6SzTfLeYgiUuKG+na2QUCfgqkcpqDT8k\n",
              "oAvuaRlKmHkO+cq6o4gTLts8W0UZutSQdNn9Rkwsvgf+36dKtS9DDX/bw5Th1xjL+7Vm6VQkcuPa\n",
              "xyNBD7cYc4TwIxBcG6H0NVVHEQdFsk/pHF86CdWFm+dHHtFKRaF88RSCpyo6RKBsBoaXOpoLHccr\n",
              "rPj+QprGJ+FiIBH49cN2qEcY/kMtK8e7PkbBrc7v2/wqwVzrtSCHIfPxuh061+PAHBjQ0Igf926B\n",
              "EAP3R1lpW3kxw5vTmzJXWJIHICK+FsAJ20Dd4DUX0zZeBq5m4Clbj8fR3IcHopv+vZmujNxx/PR9\n",
              "C9IEy2CEgcok+SEaA2AgYA1vtgG0SprC5stUuE/9iCUN5kpjJocC7xSieIVar9RFTVRN56FZVES1\n",
              "X6CKClb3pf2tzu613uEPQeiQwv4k8MdfjPKF1Tv3EJG9j0Tl+wlfXGcdnCVKlUlUBe8ooy38HSAB\n",
              "eneMwMGhK/fYz817ymg2fVPKfymIv6Y9/JcS70VyzTStqyIkLelmomOZ1monyTvYGn+JsRrfRqf7\n",
              "d4HxlLLcVWDH5y/1shpEMLB5vlMEr6vs1TXTiblmsil2IvFBJrCh1+DahIbO30RywAATsQAAAPZB\n",
              "nw5FFSwv/wAAAwAzkTqcAJk4lTcjF7mzeA5etI9FmEbDpicE6iye3TswB68c8cv3pxqenZkrY7A7\n",
              "z+o0ssOlQxwzqxF2/CpP8KQLivl6TbkBKT0VnS84tdSFU1eQzv/QDPNPs9tALeouxL/EJeNMqciU\n",
              "DPe/fvItL88E1TfkD6CwrayyoSUuqXey1tls7scSbqhRzb01T4PX8yeoNysZK2/4LNgPyqCixlqE\n",
              "c27FayPWqhpmhJ/m2cT5Tf2hVgamqrwu/xQNOG+XBq94sI73/YnRHQ3CEzKXhTNf2N2EpVe7N8rX\n",
              "/R2Y+A5+Vf9qEEN83QAABF0AAADLAZ8tdEK/AAADAEVeECAEHRYAEyDVMGvbhnPb8ToG4rZ7IrIq\n",
              "Q2ZtHAmlyOkeTEhg3SC/fQCl82hY0ntdJF5cYxA1UIHowbOt6vemOYnmiXWgWuy4192z1yMINHjM\n",
              "5klrLVMG5jPzxARJfQUziyQUz/zVmy45rntkE4PZa6zY1bTrjnnT62bW5B3itBHk8R/zi8C3gRoe\n",
              "V6OzohHwimzleAEUId+POkSS7H6sBG5SiAxj8sOftS2BI1PComn8LBVmeQIDRKIOqgAACPkAAAC5\n",
              "AZ8vakK/AAADAER8LiwAEOZjugjhJ+rfL4nivNyb+mstWS5b7s1KbB7EillwjEeO6DCMACDCg8GC\n",
              "vVmVEsMP8geLk2JDGosEvjzEhkqWoE21BSFA69mXdorFR6aDJ8q1ODpMzZWm8lV66FstZUTVm4Iv\n",
              "UNkVivnet7icIem6BJO9Tt1nqbl1vA6o4SWWpCCWHV/NQH1Qp/SjJUI5SfzG0X4wjje6Mdkfsqnk\n",
              "Kc0Ai+pnEBTkAAADA6YAAAHyQZs0SahBbJlMCHf//qmWAAADACuP2jaADaNRFBE9PAY2i6TuaP4I\n",
              "vHkBZIA/CPmII/I6yTST8YYIedckov/T7KSoWP8z8E9bO348nIdctY2p2SQHpuGvIk9j3S87E3Tp\n",
              "rrDMi9onh8U+yxqWpbzZrnIAXjuiLqGeQySeMiNGem/S+4BqA5lejDl0nQVZx9eHnMcS9ixHONeO\n",
              "oGRZKJ0eFEUZAzB49Ay376zjVEh5MD8Bj9J0icbTWSMslVZWiAJnmi3MdkYbJf4R/2GiHl4OZ7TR\n",
              "E/1a8SpWSqZaDj3cd/jS21XRe1mbkjrbCbJ2dw1l/vymkk24RMLRh9g5/JFdx5P3jOwch//BfT2f\n",
              "WtM76rbcgYodDg3PbtImanfnp6PhZyMPgWq5r26V+jbhER1Ca9zso0/JOiuk81rbA4YrKzYpJ/00\n",
              "WAs7vWz8nQq1MafqKFzEUFbSgf2D+D6NSmQ++GN5KDyBXFm+QpcnjBvvFHQrKf7LkwKqjvYooQU8\n",
              "qg9dLlhh7CdTlladtc0/whMQNHMGSbWXOS4HDxSbYkpgI8Bfwd7Vztl22QNwfri5gRCapw8gsDMQ\n",
              "WDiscTc1++m2fNXNGtW9WoEsY5DS3qLikZe/s+1tZRlWSu6sw6WA1XBv32X5YrPA7gQmqyTYpXjz\n",
              "caCwAAAApkGfUkUVLC//AAADADND14AFYALydfPSPR6bjudUGxC6L6HxBynzxJ3V33xaLfnctuAW\n",
              "igFlan9ubHOjsqps85VqaEMlya/1KiwUG8F3Y8fwAq5LNCdGXI99K1pmPf0GxaklEBALO7wTwgaU\n",
              "AjasuVfrK6xLDXfyGJJzWpnygWrQIdDOd20YwGcj5TP2r8x4Ukd2vRWaKOpgAiArIGtmpzV32AAA\n",
              "akEAAACgAZ9xdEK/AAADAEWeIgBCRDVChN0WMI4w6wMcc2NRmITyproRt8G3DcWbQw7RDGfcaLHg\n",
              "3pgAIgo9pxFExm984EItyDSKam4htPaR0Llm/EwqOsPTcaDXXaQqji8cT3RUJMERt+FPs1uYz41K\n",
              "eQbtxVn51O6i6A1+vmeUSQFfhd5izRZuw3DXr/GHn6drunt+bi0yAun4VDIsg/KSAAAWcAAAAKUB\n",
              "n3NqQr8AAAMARIUxXEAIFnVO1WzoWXnlBoS+BEML69MtsfpW7xjLSEhGgs0tl40bZulsKkd9PyPr\n",
              "gSj+TJn740C808ddC4dFeJv+BfjKxxufHRSMQjTGZ9QwDskJkrLI3/8XPlxXruP4YlmwlonQ9MxN\n",
              "wyC6fjm4P3ao6MKM4SAblYvIAp2FXyQm0OnzzsPUaNWKXqDJFCUJRphfjO7q/wAABDwAAALWQZt4\n",
              "SahBbJlMCHf//qmWAAADADpDfOAMtuofDvAEmtVsF8oz/0QMYqmxNL18gBPCAL9AdEoh7J+3QomQ\n",
              "0IMX+thoIXY5kPz5m4Rc6ST4ff5ybCk5fv63HfVTZlmwN64GwwSVF8cFn+VlaTz47L2tVp09M1cp\n",
              "xmxYP9iBr3HupudVOojZjrw6rDNxuIuD6xoke1r1w6OIes25dC8XUxsiS9bWW1irbcMsfqgodmyg\n",
              "y49ZtxJrdNKk1a7ZRQGvneTqGvMMkvrup9hg7aLMBk2rKMjKmxKOdi8/B/+HvbaIwhWNdWSEamBZ\n",
              "WS/74uSIxWVqmaFa/tRgjufWnJIYSDKS4OhRQBsN51ei5Qqb8bYiuBK9GjKZYzvTm1l03XHazpga\n",
              "wpe/SJe7ak/ycluyb3iARlFmGL0ibQ1lFDIrQb4p0ZCtm0v7cqcTKhqgioo9XNo4F8jhB1bWXS4F\n",
              "FFxjRpzYb0AQs1A7mGnJxGfBlQ8sEni6RXlisOkvGzgDXEZ1pOkUHZtvvlQa7K3Rx/I1CON+cDr9\n",
              "eCshT14k1qs/MEHmvNZCJNUXsk0EFL2mSj+W2o8MDScRLEgmsVExsOoyNUoR7rdfTyrtqAcut5oV\n",
              "Oxc1rgcGh54/pwLgLeDVkEHXOQ3qUWRItEDDCShqEeU/KYVpBqQWUL9pXvHLW4p6YTgZ/WKBBYRQ\n",
              "cgL8quEHBFj4Ztk5OckbHoF2bk2l/BKpBgC5M2pvusL9Z+A0s4/IjB10W0Xq/ZhC5nAxIsEay3cF\n",
              "Z8uxkBudFx8Cp7dIvfw5lA/MnAJCGVxeZBCSTvN1Q44rwMBSkp2p7WoK7nxsePbwdRyPou/ngmN1\n",
              "TvAwpE1a6PnA5CfYszCWCviL2i9CVCp5ZCq5k7lWGvKArWNryZwDuKrCvege3ftL4Rl3rH8bfG6G\n",
              "c5mZtLMOfaXuWshoeUs58VJwds7oPw20Mh8dlxqH6s2QAAADABSRAAAA3EGflkUVLC//AAADAEVn\n",
              "M17FHEaxB0IP8YshAoAIb3HtTVgCHLfswCGePZM4ghLVk+sHmRss02LpO5xSq1QyXLjdsRSegSv3\n",
              "JgkM/QWBIULSuRTsinyCCzu+O5Y/qeTVAtBtqjH2HKhmvfWlB2BewqswReqwaDooAChk16UlKTW0\n",
              "KFJMvoiap6qvQTCfHV4reZQ2+X3z0LlS5S4gRSNiZ7sI3696nrtmBaaPOjFK9yaJB5AA4Et2Xbbf\n",
              "vh/NBUMlKt9ZXjT3HrsvK0adXekLSL8JAXsclvQAAAMAGLAAAADrAZ+1dEK/AAADAF9/daCpPWcr\n",
              "GUJJosU50wAgWJtv472F3OZrdPU37HITOZ4hT93EnGBX52bQ1VBesiR0cCH5KLs0kRZluBRfsVtr\n",
              "689MVAJyS5dqUd4hSHVQFJybF1sEnQHme7OllqYqigcc50PDkg1G7LaqAHD5iUO//EfueMIvb0z/\n",
              "ZqttM6+GNsaJFWSJVyTvNSMeZY39kfa/dT1sBKzbss6C6JvmzHWMV3Ui5jOQsqesD1pvsWuHb3sJ\n",
              "r0ZSeSgyXJvkB1VQclnHKST1Bsty9vWphuANZs8x8A369ilx/3s8iZauAAAJWQAAAN0Bn7dqQr8A\n",
              "AAMAQm2HERACDqx8/WHAlv1DLi6HXuLiNDLEREiuh3YQiFhjHcMZFBlxW+O/Hv0aMmcMjoZX8v7W\n",
              "5vDbPzbZdU3v7LyW7GJBV86m+5PUVO905lPNEg5y6guaqO4kCOGd5TeaW/18X9y/aw7hbB9J/zTX\n",
              "1NGvEncXgR5I3ecS6B+H4meeS1/jNqf3ZHAC/Hhqnv+X9VHMk3fRoGvkaKokrNTROdWpQ4hZ7VvJ\n",
              "4fToLDloXTmyl8C5O8YZ5dApNG+9bySQJtshfiDwVMU6UfaEXA/pQAAGNQAAAnpBm7xJqEFsmUwI\n",
              "d//+qZYAAAMAK7wt70FzI4QgBHd6xgqmgJ2K9soBpPp8J93Jjp8hKtPxUdG6ZnSw8v/QsmZiG309\n",
              "zmj3studv5K3b/OzurqrT8AnkLspN9SSLXQN0/jWqPUWRibLhkxPlc2X6BWyuJFvPH9HMLkAIY01\n",
              "61Gv4B8RcNGK1ortqd3RE5BVFQCnqRWdVM4/+2dTnCokQxTi44yAyX1dRxbo7CS9I2weLESSwLQM\n",
              "vXxEpTPtNfRh7SOAlopE4FLS9KdVreWm4Wio3AN0Qw6n+IEkj+/MqIqijCjWQvKH0y6QHuoeZK8Q\n",
              "+tPD7GYTgda7iWC255MZ4rxMCarjkG213M6pavSf8LZ2VPB1b3t0KrP7cQ3Ry+2qF11mR97sMI6/\n",
              "8qXs/yb8JYMc8a/Z6vTRq9Zd6jIzNKzb5/Nl7M8omvM6nDWcN4BMiVojMvBprcsDu2rvuCdlSlHL\n",
              "AL49GwJWlQmnDauZtohf/FJg5iGkG5klug0X74qe12rwa8kCvv+N+WiqAb8hqOu9rfzdjVXMczQM\n",
              "FGki5b1MzL9njvTZUJOuBBQzcmKAjEiEGGGBaYl2PW3/EiSHi9XFz5m6w7z4n8Br35et9XRa7bTh\n",
              "MQRITLevOC+n9XhQIoXX8He+4FjRr43tWyXuxbHmc5iirGFDltN83SX/eWUsw6fkgf+viqEX9CBs\n",
              "mDJeI/rPwqTg79Drjd8oRiYxB1sc4nK1MN6M0cjs2jZ1hRolI5rasUXjXP14nDAl2LjnCsPdA9ck\n",
              "FqLoWjdOij181yDpvPZFTHbwoJdgnqZrtWee52VD29P+IgoEo+zHICqD+TFT0qz3qAAAAwGpAAAA\n",
              "vUGf2kUVLC//AAADADOBfKdpGgBCi1BPpt3qhI5TocChBzZUou0Jsdy9K0dy7V1664VikMVC9LMt\n",
              "mNtI+L37/zSG/Gfi70eJGZlUonFkWY4SoXTmdcOmlD8UWDzLyGerYSwGAR3zakJN9sDdiB5xyjwb\n",
              "7jvGKjxxmCmPR8Hpv3hphNNiRyLM1YrJ0hISkb4+hK1qHaMG3IqhpAdaROA2wvWJVMpgfW7TAp6z\n",
              "XNlsZzs8/0vn1mXaObDxAAALuQAAANQBn/l0Qr8AAAMARXvt4CABBvLS+a0NJh5eXKc6Ae++MB5k\n",
              "/001JBAjsrzpkmCiMg3JTdXofzGvg/uWUHWeVgCLq5sqschWkgcd45lPzzGb9bNLVn47Sds1wVDX\n",
              "xQH8A1TOSDoKchI7EdxHuZWIeOVm/zp3fkfkD081Oyim4z6/R42C7aLPuAmskL92M7xdc6KtsP7x\n",
              "wiCA/gsH/W9g79KQILkaoIQij1ojskerHzGaaKKTWBApo58/ZAgOs87E2nvhT/L2Hz75Xo0eOnrB\n",
              "gxGMAAAHTAAAAKUBn/tqQr8AAAMAQzcua5IATDSarZ4JPfpUXEad12A+hLyVCS6GQxZTwLdTK3TR\n",
              "yHG6AbNS0Yds2xp5lOtpz0GSwtZXgfIrzkQ2e8ek+fEmeIJFDcYy4CWtzQWz2d8ekdeGyfOyop0B\n",
              "SdL6SWsYOeo7fAnM0YB+447wbWgNKRVN3jILEn1aHE71lTekdPVObj6fdDONM5fS0iXqjydrlbdI\n",
              "PAAAGVEAAAIPQZvgSahBbJlMCHf//qmWAAADACuRZupgAtM+VCULVbZHbuilRdPk7YfYiX3KYbaC\n",
              "cdutsWyGSCPfGYQixWKoxMZE1Xa9TgkqcPtBcb+FrzytYBij3JRx9o4FtLDLWs+JbHvLPeLetJUm\n",
              "WDTD2onU3vRqOuq8eX/COr48K7KDfPUPqvbvIHQ6VEkeQPKJQr6VzEA+5mKrhrpctr9zM0QgXjCA\n",
              "nGinZkUIVnWdBiuE1NzTaJrTRd2GlUNQUtrxKJH+oYzYIxNxVqQ72xJyqTkoGjV0bpLB9Hfz8ND3\n",
              "E1BqwDBkuVpQyEPrn1iI+Gq0sGwWTE/hVK8iA/oSsipqnS88MEHf+NVtfOVlVAx4xAjNdmafSq1i\n",
              "1PCxHBdOwdMsV+Y4BMB+czytGxJIIdsRmHMr/R3rDF8U/ILBlVNi2c8YMnF3boR9r2skdo1eW204\n",
              "DqkKnPVEtguwdvsUmyWef9HikrGqBFMTs32dAuxqfPWqLyVmxZaEMftwjVjTBAvi8lI0ApnZ3Vo7\n",
              "m7UcqCAtxDy9qNv7wAuW5cWtQJkX2lQ00lPCFZTbXvUPd5M85WZBLhPTPLD+yKJNVIzcDobpiQ+P\n",
              "LuNwzabJ3kRpoxkCGq0VxZaIkhtJU0k0lqocjSarFnVi/iN+7tpNwLnlwQYaGQqHurxHtRX6YfK4\n",
              "JEyxVptF/VaD7Zft257yEwAAAwAANmEAAADKQZ4eRRUsL/8AAAMAM4pgkiABqK7AO8rR0upPFgI2\n",
              "4Fhqt30OneNtZS4kO7AnV1eEHPDR9m0E93uk521YRca4aWfPHColfFr9+gHMNgzgBI5atpKHWYif\n",
              "8IA+OsZRaPNgHgtjvIY2ch2N4tUW1EsOoCzmMOU8l2pk+o1uBQu5QP0OZUYnXWKBpjIg6pCu8gD6\n",
              "4ZqHwT7BLnmGvZjTC8fqWQFnkm+UoeIj4qjhoeS3CikKEtcJvFNbCvOsOnEuh/3m4RZCzXUMAABC\n",
              "wAAAAMkBnj10Qr8AAAMAQ0GXSfiAD7ZoNh2sDBE2rV2vk8aqJJxW5H02dOubKmvoZfLU+Li9nME3\n",
              "9hTcNpE+DFx/nn4iT/9u6MwpMrpkftqer7AteI1Q6GUXirniypLhTWUCcOLIlqCQD2G2KLVgTAT8\n",
              "EvNrL9m4DFGNBeh5JRgazDB1Vl1BBVHFSb8aftPQNg6Q/7e/NTQZo6zt+sKJ0/xHqZUqZtWoSwNd\n",
              "x7ir+9wlJRko1n7HxJrlGNzvc/sZDanDo0iPTASh2AAAWUAAAADOAZ4/akK/AAADAEVkFePAA9i/\n",
              "EUIjOXmPzc1nNFJQz/PUdY9MJfOCPqRbwqrqTPeJP7+APGAa/6+6Qq9LBHLsaESr/Oa2FWygJ4sS\n",
              "NpEEy5/+Gjk/Xot+kAkfy+tJZHjxPX2J7aIPxzNa1/u1yUKJQgOXlCjHuhY6QnJc94xuCE16wbQs\n",
              "gVFMfaGUstGMruwC/5ynTcbwb5WiYW2XXXkWPyJz8skVWtqhbORao5EwEHJFA7dsyvb87ACsI5ko\n",
              "RWFNaABx5F/PHQJWAAADAfkAAAHAQZokSahBbJlMCG///qeEAAADAFZbypIAbshGNqm9Np148cYE\n",
              "UyyVSRRriLWdCIo3osWLsm0VK4a7L+gRnhLXx3ap/oYxm7CuFtTW5oa9y6mAglxaBIUv4L7FbdqS\n",
              "hlO/mjT7zf7Qckn1DMnUwtzArYbLT45hXBgqFzfPP1mt78v6JxEGcvjGVJMybVIyMkN2C0ZW/qKb\n",
              "e6z9nl1+0QPpBGRUBD6Rt39kBsLbG2b9X+wHV8c5Jwrw8suwAq5mJh+1j4bIDIR9v4ti0Qf2FdHo\n",
              "auPVQRPMnk3UDv1T2Nsh+EqFVcBIe08Z2gZbVgmm4+Qlq+26aOQxijecOpJD+/SKysckZdi75HpT\n",
              "IdPtr+lGay9KUDFdhCb8r9PoTlXxBVYEJBaChuTc6HKcfrtejPGuVwTK9LTvQs+mfa0tpw7dMXqw\n",
              "slQBfJV+MkgdKMDqdpsOdmPKEKfl+ME0aNQ9eEE92JCpty8KRJ4+wBSCBdvu5Fyej6UWq2ElVb6J\n",
              "Us6xLCYdyhbxsZ9mJoL2QTY0POgAFhHLscI52oo+wx9rLVPzSoYF/HUQl2rxf2Wm3jPGxTqwOGwE\n",
              "Z+c6UZFYL4KAAAAfMAAAAOxBnkJFFSwv/wAAAwAzimpXgAQdRdffRrWrC/t3QrtBYGjvpbnBwnfw\n",
              "vc19Wud+XbcktY0nMdKIqHejUBb9miDIt+WkBTE80pZOU3ntiWmopEP2FSkS3xvUGpfFQNGug4Fo\n",
              "5asFI8qG9s83wTzsPf6Gl74Tj4HSuiEuk1txAz+o7JXHeRaZLdqCpsj3zPN2a6vNrgLpDeUdYZ/H\n",
              "n0gRh2Q2uSA+aL0r/6CWn1751iHBELpyYEFxo+w2a34lhdBsMlQ4RLc33741gkVHl1XggjbxmHF0\n",
              "gbE0ecVIrFHKZ46uKOynEfBsWgaAAAA2YQAAAKQBnmF0Qr8AAAMAQ6PiAEH5pzeW6UaiIis8AE0r\n",
              "6155abEpiiOUhSpOYZ46Gw4YAedYExsJBT+Iw+bHDZUtXkbSRJXVaVQHuXaOogLhCj3CyD6Raph6\n",
              "TXC8+pM7WKVPfwCmJziK2u+mKQO25efBqq6fFRWXwewPI+ebYAYrLsb7zVAKEaOsOIy8cW8sNU9d\n",
              "7xBl3RBV9iR3NUQaWJBAAvmegAACLgAAAMABnmNqQr8AAAMARXXi4AQAIN4AYmoMn3L+pu3o/hFN\n",
              "nlFYBAOgQ/stXI/0xmPD3a0fhy27litNasF9DC9RDu01z9cE5q+11rBFPWmq2ZMQbzi0rui+JoMh\n",
              "4W7N/CLy36Xq7tC7j6sGith9ktnyzyoqL4NEMTpfxyVUuvGOR+sk/gsFoDJWIczRhNM00q5Uy1+J\n",
              "6c9g04FeuIQYw4Pr/4QarxnQPt92Tu2vejUz030mfAqFofZ3iJcPWgVWDoAAAysAAAGvQZpoSahB\n",
              "bJlMCG///qeEAAADAFQ3UBCAAg+BWvMTy3tYO3QDUSd8dWDWCeIhJXdjdA+Q7k8BUSg0bu7L+qkm\n",
              "S4BCJ1RnDPesExQGQnsg0h7skGac1ajWQQq4TvzL6J378NgtWczsSqBzLCqlA41I2/995vy36LUc\n",
              "DGDU1ISVnM5KKxajb0Zzfz6keTwCCt0WS1+bMEAvg5YNTRLKIr5sbUrqrBPmfnfOj3afnkzNEGlm\n",
              "oIdyVSvrd7W4em4kBIG0xBis2hgTlsibK6YNRWuh2HApoo/bIKfEYRhKgm0C+Bt60ExFgVcU0i2y\n",
              "Op5vSB3AfhUTw/YoMomzZY04uTVQ3vNZPaPc2epGoBe0eF9o2aqfI5/ukQcLROc/NMJHkVotNiBJ\n",
              "56kN+ujtO4R/jVnGk9DtrmENPutRXbaciSAOE4Ut/IzUVR9yybrFwp0B3J1hcqZxUrBQhOMHKM9m\n",
              "CicaMQiMVlevufG+baDcZpjPEcGYW1j76t5N815l4Z1U4M+eHo+sDb1QFuEOffiweQmaJl5ryJNj\n",
              "5Xp+bYl7/Hx6N5XpGFFuQFnJBQdfgAAAtoEAAADUQZ6GRRUsL/8AAAMAMfC5M0STjABDLcsw7bw8\n",
              "hjj0+/YxkPcuWSiv2FH6VuYYBfTBbYR88ry30GleJ7Y+lnHM6FiR736pSusGBC0FEkOCvKRAhTEF\n",
              "By1OjM7STW8FmjzuAxmGeb7nCO2hXuuqhWwFFaoeNMcu5dtJFlxjbnX5B/dO4a2mhp+G+d36+hF2\n",
              "W5hxdofCjUT56OcAXCPnWhXpo5t+r4502uPK+gRCEGlC0OT8U6RYa1dCf0pjRLmsyccYdUvwaGuv\n",
              "KMUuJix8IxLCeAAAGXEAAADDAZ6ldEK/AAADAEMI89GmACDkmC8bVk+iaj6jbG13F689X6f0SWyT\n",
              "aPUzh97VlB9/QPyQMgVVV6FNJyD5iMfuQbJHAuivSpC4iaNRVAUvGrYvF9WbVaVxmg7X94QM7kQR\n",
              "sUgux6+8U+022XLeZhPJZCl9B+4zkCqDBVfSxvjhq0l3x5a374R9iBWN7VY410I2Xb29KzWWwkbE\n",
              "Rjyj8xj8iRTz5ZlcbxiO755rbXsKg2d8Ns/ib8nZGw99BcN2AAADAD1hAAAAyAGep2pCvwAAAwBC\n",
              "d+0CAA2ZiK8EyFTvarWIPdFzlzCn4njsV4s6NbammdjwVxpITFHEjfai/n19pdxxRn+jy677W6V0\n",
              "6IFZiaJSTEFHv/7LXnkAxYmWjxUCdWyVNbIUK9puzgaTDj4m23Y2VX2KC8+gJr4mc/dwQdbw70vE\n",
              "hIsQu8HsI5qLkj7SrgFQjZ+2vbmaOLiDj+EUMCv+rQanxkyBS1tWScUi+AMxdJA8Vi9qho33HVOL\n",
              "bxgScg0xCb7EDJ3kWIAAABiwAAABuUGarEmoQWyZTAhf//6MsAAAAwFU3x5W9NNu0AHkS5nEec1C\n",
              "I8p0Z/3nE2huCdyAXus9bP1V8ewueXV28Bvr/fAp3/9shJQGc/am5bgRYkmcfLWxPG0RQJVlp9GG\n",
              "DzRAOl0FnNx0WmqqHXMBcLgo6nLBmf9PV7qYHNMk4qhFnPTuL/8pI8Aa6emlh4FuoI8Cs1zqJHgH\n",
              "Gxhyw4ywXZOHjyahmz7W15S/pGtv019E7AKkTmPiPhVf0squ/lzWa7u3+Kel1PrbNKodw6BOEAcb\n",
              "CbiYJSsIz8kwHme/7Rc7fMdOgpsM5UIwKwg6WW56X6EUV090qT1S2AtvWmQvPDS5223KJGKc6eHD\n",
              "sJPfVkgxJosn/RvFKZmdsCLkx8lX/0A3Jm0OBcI08AjLRATrhgarsKlcW6d6lCN30CihukAYeuux\n",
              "/q5yuDhjlmIPZAgHAoAr+NRVz3oS8J5Kby8z+qb5FMtGeZBq5HG9qOULminwz8Cux/mXA4MeAhTi\n",
              "dkDCSGr91Gc2OjdufvVqzN/udmr3EyW+TxPt3CCa7ZM2ayTcxz4Y1Xnawq0/anzCLVm3uPscTisG\n",
              "XIYAAAMDPgAAAP1BnspFFSwv/wAAAwAzgoyABLOpI64zFGYutYNuKje59guhyI2COs2T26Z3xGuf\n",
              "grZhtFrRdsHVEA5Q8wUnIhGzKaY+XfepMy6bjSkITPcs/YhyGRIlyupW+jRkiqEO2nUARj8jCs2Y\n",
              "PgrrR9/E6iX9H9UjRZxJ9MJXhEhTJ/kaqkuaRm9f/ASGtCrpwRkhZgBsBk0NdjiDgP1jenx9/9+1\n",
              "Copn9DDvX79v9Lciub41O3WqyTZey+Acy4vwcFHLIClyxvXlzYuriGlpTA6fIAc8SDfNGPtAB6EV\n",
              "RNXlGDccRTAt4uBZCj7WKdBalMqQBiNmoGvihunvLwAAAwEHAAAAqgGe6XRCvwAAAwBFXO754AQY\n",
              "ewDnvVacAFW6XyYGs/Q8rkiS/r1eUOZqN8YvFR6r/DD1wX4tsyy3NOJrjcjGXhRvvsOjShuTn0q7\n",
              "jYqC2QH80u2sZt2BWxGKaGsbpUs6W7ss8v4a78j8OZUtcwTJSAk0MRQFBSSnnNGMYzQoMbQts/0f\n",
              "4aUaoAy/QKlsd9p22+mQB/uHKf57iVwZwZrq2zolQquMAAADABQQAAAAsAGe62pCvwAAAwBDSOH/\n",
              "JWxACD9QLrKjQQS2d1syPxGm+fgajfzzd4Vb12MLarVlcZJ45rqWaYQc/eBzru7wwky+AO77LY2b\n",
              "sya3y6QYx/cc/Sak2ZpzN0ZvhK+Ypi5QQKsjTtsxB8i568yUZm2PWTYtwthHCfdfThJEY0QjdJq5\n",
              "SsV08lQCKOLsuI0HZ5zhm9XeJs0GxMbhLl+vZhF3LxgdBxFDwtdEkrvAAAADAGBAAAAAe0Ga7Umo\n",
              "QWyZTAhX//44QAAABPttp0gBCN4n6D4+mvI+Vr9IKp4Oytu6qbNuUH7Wz6LtNaAqwITKmolr3CBo\n",
              "LCIL5T9hRsjxwpHh1wQCoUziAMpAV04jrEaOTnEu+Cjwl40Ecr+usfJwTiBJcxyixaFqoel972Ex\n",
              "gAD5gQAABtxtb292AAAAbG12aGQAAAAAAAAAAAAAAAAAAAPoAAAMMAABAAABAAAAAAAAAAAAAAAA\n",
              "AQAAAAAAAAAAAAAAAAAAAAEAAAAAAAAAAAAAAAAAAEAAAAAAAAAAAAAAAAAAAAAAAAAAAAAAAAAA\n",
              "AAAAAAACAAAGBnRyYWsAAABcdGtoZAAAAAMAAAAAAAAAAAAAAAEAAAAAAAAMMAAAAAAAAAAAAAAA\n",
              "AAAAAAAAAQAAAAAAAAAAAAAAAAAAAAEAAAAAAAAAAAAAAAAAAEAAAAACWAAAAlgAAAAAACRlZHRz\n",
              "AAAAHGVsc3QAAAAAAAAAAQAADDAAAAQAAAEAAAAABX5tZGlhAAAAIG1kaGQAAAAAAAAAAAAAAAAA\n",
              "ADIAAACcAFXEAAAAAAAtaGRscgAAAAAAAAAAdmlkZQAAAAAAAAAAAAAAAFZpZGVvSGFuZGxlcgAA\n",
              "AAUpbWluZgAAABR2bWhkAAAAAQAAAAAAAAAAAAAAJGRpbmYAAAAcZHJlZgAAAAAAAAABAAAADHVy\n",
              "bCAAAAABAAAE6XN0YmwAAAC5c3RzZAAAAAAAAAABAAAAqWF2YzEAAAAAAAAAAQAAAAAAAAAAAAAA\n",
              "AAAAAAACWAJYAEgAAABIAAAAAAAAAAEAAAAAAAAAAAAAAAAAAAAAAAAAAAAAAAAAAAAAAAAAAAAY\n",
              "//8AAAA3YXZjQwFkAB7/4QAaZ2QAHqzZQJgTeWWEAAADAAQAAAMAyDxYtlgBAAZo6+PLIsD9+PgA\n",
              "AAAAHHV1aWRraEDyXyRPxbo5pRvPAyPzAAAAAAAAABhzdHRzAAAAAAAAAAEAAABOAAACAAAAABRz\n",
              "dHNzAAAAAAAAAAEAAAABAAACgGN0dHMAAAAAAAAATgAAAAEAAAQAAAAAAQAACgAAAAABAAAEAAAA\n",
              "AAEAAAAAAAAAAQAAAgAAAAABAAAKAAAAAAEAAAQAAAAAAQAAAAAAAAABAAACAAAAAAEAAAoAAAAA\n",
              "AQAABAAAAAABAAAAAAAAAAEAAAIAAAAAAQAACgAAAAABAAAEAAAAAAEAAAAAAAAAAQAAAgAAAAAB\n",
              "AAAKAAAAAAEAAAQAAAAAAQAAAAAAAAABAAACAAAAAAEAAAoAAAAAAQAABAAAAAABAAAAAAAAAAEA\n",
              "AAIAAAAAAQAACgAAAAABAAAEAAAAAAEAAAAAAAAAAQAAAgAAAAABAAAKAAAAAAEAAAQAAAAAAQAA\n",
              "AAAAAAABAAACAAAAAAEAAAoAAAAAAQAABAAAAAABAAAAAAAAAAEAAAIAAAAAAQAACgAAAAABAAAE\n",
              "AAAAAAEAAAAAAAAAAQAAAgAAAAABAAAKAAAAAAEAAAQAAAAAAQAAAAAAAAABAAACAAAAAAEAAAoA\n",
              "AAAAAQAABAAAAAABAAAAAAAAAAEAAAIAAAAAAQAACgAAAAABAAAEAAAAAAEAAAAAAAAAAQAAAgAA\n",
              "AAABAAAKAAAAAAEAAAQAAAAAAQAAAAAAAAABAAACAAAAAAEAAAoAAAAAAQAABAAAAAABAAAAAAAA\n",
              "AAEAAAIAAAAAAQAACgAAAAABAAAEAAAAAAEAAAAAAAAAAQAAAgAAAAABAAAKAAAAAAEAAAQAAAAA\n",
              "AQAAAAAAAAABAAACAAAAAAEAAAoAAAAAAQAABAAAAAABAAAAAAAAAAEAAAIAAAAAAQAACgAAAAAB\n",
              "AAAEAAAAAAEAAAAAAAAAAQAAAgAAAAABAAAEAAAAABxzdHNjAAAAAAAAAAEAAAABAAAATgAAAAEA\n",
              "AAFMc3RzegAAAAAAAAAAAAAATgAAEqUAAAMrAAABcQAAAPEAAADfAAAC5AAAAOcAAADAAAAA3gAA\n",
              "AewAAAEFAAAAngAAAJ0AAAGnAAABBQAAAK8AAACyAAABogAAAMcAAAC4AAAAjwAAAYwAAADVAAAA\n",
              "2QAAAMQAAAHhAAAA0wAAAMsAAAC3AAACpAAAAO0AAAC9AAAAxwAAAkoAAADTAAAAyQAAAJoAAAG0\n",
              "AAAA1AAAALoAAAD1AAAB6gAAAQMAAACoAAAAwAAAAlMAAAD6AAAAzwAAAL0AAAH2AAAAqgAAAKQA\n",
              "AACpAAAC2gAAAOAAAADvAAAA4QAAAn4AAADBAAAA2AAAAKkAAAITAAAAzgAAAM0AAADSAAABxAAA\n",
              "APAAAACoAAAAxAAAAbMAAADYAAAAxwAAAMwAAAG9AAABAQAAAK4AAAC0AAAAfwAAABRzdGNvAAAA\n",
              "AAAAAAEAAAAwAAAAYnVkdGEAAABabWV0YQAAAAAAAAAhaGRscgAAAAAAAAAAbWRpcmFwcGwAAAAA\n",
              "AAAAAAAAAAAtaWxzdAAAACWpdG9vAAAAHWRhdGEAAAABAAAAAExhdmY1OC43Ni4xMDA=\n",
              "\">\n",
              "  Your browser does not support the video tag.\n",
              "</video>"
            ]
          },
          "metadata": {},
          "execution_count": 10
        },
        {
          "output_type": "display_data",
          "data": {
            "text/plain": [
              "<Figure size 600x600 with 1 Axes>"
            ],
            "image/png": "[encoded data removed]"
          },
          "metadata": {}
        }
      ]
    },
    {
      "cell_type": "markdown",
      "metadata": {
        "id": "yhK1VzXQsR2q"
      },
      "source": [
        "The figure below is a graph of concentrations of the pollutants at specific points over time. The points selected are 1. the point right before x = 10 with y = 0, 2. the point right after x = 10 with y = 0, 3. the point right before x = 10 with a higher y close to half the width, 4. the point right after x = 10 with a higher y close to half the width and 5. the endpoint in both the horizontal and vertical directions.\n",
        "\n",
        "![image.png](data:image/png;base64,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)\n",
        "\n",
        "Changing $U_{0}$ to $0.005 m/s$ gives a graph where the pollutants have not reached as far as they do in the x-direction with $U_{0} = 0.1 m/s$ while spreading further in the y-direction since the pollutants can stay at a point longer than with a larger $U_{0}$. On the other hand, decreasing $\\kappa$ to $10^{-3} m^2/s$ makes the pollutants spread less in the y-direction as they do not have enough time to spread in that direction as much as it does with a larger $\\kappa$ due to advection. Instead, because of the conservation of mass, it spreads horizontally more than it does with a larger $\\kappa$.\n",
        "\n",
        "Analysing the equation $$ \\frac{\\partial c}{\\partial t} + u(y)\\frac{\\partial c}{\\partial x} = \\kappa \\nabla^2 c + S(x,y) $$ with dimensional analysis gives $\\frac{C}{T} \\sim \\kappa \\times \\frac{C}{L^{2}}$. Therefore, $T \\sim \\frac{L^{2}}{\\kappa} = \\frac{100 m^{2}}{10^{-2} m^{2}/s} = 10,000 s$. Thus $x = (0.1 m/s) \\times (10,000 s) = 1,000 m$ is the point where the pollutants reach the end of the river ($y = 10 m$)."
      ]
    },
    {
      "cell_type": "markdown",
      "metadata": {
        "id": "_p25etyxsR2q"
      },
      "source": [
        "## 3. Optional further investigations\n",
        "\n",
        "* In the river pollution example, you might notice that the concentration field is mixed more effectively in the x-direction than in the y-direction. The combination of differential advection by the currents and cross-stream diffusion is very effective at mixing the plume in the x-direction. This is an example of Taylor dispersion (Taylor, 1953). Construct numerical experiments to quantify Taylor dispersion and its dependence on the current shear and the diffusivity. You could also separate the diffusivity into parts in the x and y directions with different coefficients.  If you set the x-component of the diffusivity to zero, then any spreading of the concentration in the x-direction should be due to Taylor dispersion.\n",
        "\n",
        "* Try making the river speed a function of time. The easiest way to do this is to add a new equation so that Dedalus solves for the velocity in addition to the concentration field. For example, you could make the river speed decrease exponentially in time, or it could be sinusoidal in time.\n",
        "\n",
        "* In the ocean mixing example, if $\\kappa$ is a function of $x$ and $z$, what would this imply about the velocity field? You could even try writing a Dedalus script to solve the 2D advection/diffusion equation with a prescribed spatially-dependent $\\kappa(x,z)$.\n"
      ]
    },
    {
      "cell_type": "markdown",
      "metadata": {
        "id": "aAzQGe9osR2r"
      },
      "source": [
        "### References\n",
        "\n",
        "Munk, W.H., 1966. Abyssal recipes. In Deep sea research and oceanographic abstracts (Vol. 13, No. 4, pp. 707-730). Elsevier.\n",
        "\n",
        "Ferrari, R., Mashayek, A., McDougall, T.J., Nikurashin, M. and Campin, J.M., 2016. Turning ocean mixing upside down. Journal of Physical Oceanography, 46(7), pp.2239-2261.\n",
        "\n",
        "Taylor, G.I., 1953. Dispersion of soluble matter in solvent flowing slowly through a tube. Proceedings of the Royal Society of London. Series A. Mathematical and Physical Sciences, 219(1137), pp.186-203."
      ]
    }
  ],
  "metadata": {
    "kernelspec": {
      "display_name": "dedalus3",
      "language": "python",
      "name": "python3"
    },
    "language_info": {
      "codemirror_mode": {
        "name": "ipython",
        "version": 3
      },
      "file_extension": ".py",
      "mimetype": "text/x-python",
      "name": "python",
      "nbconvert_exporter": "python",
      "pygments_lexer": "ipython3",
      "version": "3.12.2"
    },
    "colab": {
      "provenance": []
    }
  },
  "nbformat": 4,
  "nbformat_minor": 0
}